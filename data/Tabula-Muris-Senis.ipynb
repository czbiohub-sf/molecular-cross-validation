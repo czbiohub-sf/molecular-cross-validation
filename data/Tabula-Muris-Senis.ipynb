{
 "cells": [
  {
   "cell_type": "code",
   "execution_count": 1,
   "metadata": {},
   "outputs": [
    {
     "name": "stderr",
     "output_type": "stream",
     "text": [
      "/home/batson/miniconda3/envs/mcv7/lib/python3.7/site-packages/anndata/_core/anndata.py:21: FutureWarning: pandas.core.index is deprecated and will be removed in a future version.  The public classes are available in the top-level namespace.\n",
      "  from pandas.core.index import RangeIndex\n"
     ]
    }
   ],
   "source": [
    "import scanpy as sc\n",
    "import numpy as np"
   ]
  },
  {
   "cell_type": "code",
   "execution_count": 45,
   "metadata": {},
   "outputs": [],
   "source": [
    "adata = sc.read('/mnt/ibm_lg/james/mcv_workspace/data/tabula_muris_senis/tabula-muris-senis-droplet-official-raw-obj.h5ad')"
   ]
  },
  {
   "cell_type": "code",
   "execution_count": 46,
   "metadata": {},
   "outputs": [],
   "source": [
    "adata.obs['n_counts'] = adata.X.sum(1)"
   ]
  },
  {
   "cell_type": "code",
   "execution_count": 47,
   "metadata": {},
   "outputs": [],
   "source": [
    "deep = adata[adata.obs['n_counts'] > 20000]"
   ]
  },
  {
   "cell_type": "code",
   "execution_count": 48,
   "metadata": {},
   "outputs": [
    {
     "data": {
      "text/plain": [
       "View of AnnData object with n_obs × n_vars = 21175 × 20138 \n",
       "    obs: 'age', 'cell', 'cell_ontology_class', 'cell_ontology_id', 'free_annotation', 'method', 'mouse.id', 'n_genes', 'sex', 'subtissue', 'tissue', 'tissue_free_annotation', 'n_counts'\n",
       "    var: 'n_cells'"
      ]
     },
     "execution_count": 48,
     "metadata": {},
     "output_type": "execute_result"
    }
   ],
   "source": [
    "deep"
   ]
  },
  {
   "cell_type": "code",
   "execution_count": 49,
   "metadata": {},
   "outputs": [],
   "source": [
    "from collections import Counter\n",
    "class_counts = Counter(deep.obs['cell_ontology_class'])"
   ]
  },
  {
   "cell_type": "code",
   "execution_count": 50,
   "metadata": {},
   "outputs": [],
   "source": [
    "min_cells = 50\n",
    "deep_classes = [c for c in class_counts if class_counts[c] > min_cells]"
   ]
  },
  {
   "cell_type": "code",
   "execution_count": 51,
   "metadata": {},
   "outputs": [],
   "source": [
    "deep = deep[deep.obs['cell_ontology_class'].isin(deep_classes)]"
   ]
  },
  {
   "cell_type": "code",
   "execution_count": 52,
   "metadata": {},
   "outputs": [],
   "source": [
    "from molecular_cross_validation.util import poisson_fit"
   ]
  },
  {
   "cell_type": "code",
   "execution_count": 53,
   "metadata": {},
   "outputs": [],
   "source": [
    "var_genes_p = poisson_fit(np.array(deep.X.todense()))"
   ]
  },
  {
   "cell_type": "code",
   "execution_count": 54,
   "metadata": {},
   "outputs": [],
   "source": [
    "import matplotlib.pyplot as plt"
   ]
  },
  {
   "cell_type": "code",
   "execution_count": 55,
   "metadata": {},
   "outputs": [
    {
     "data": {
      "text/plain": [
       "(array([10866.,   269.,   264.,   293.,   382.,   373.,   510.,   732.,\n",
       "         1227.,  5222.]),\n",
       " array([-1.00000000e+01, -9.00000000e+00, -8.00000000e+00, -7.00000000e+00,\n",
       "        -6.00000000e+00, -5.00000000e+00, -4.00000000e+00, -3.00000000e+00,\n",
       "        -2.00000000e+00, -1.00000000e+00,  4.34294518e-11]),\n",
       " <a list of 10 Patch objects>)"
      ]
     },
     "execution_count": 55,
     "metadata": {},
     "output_type": "execute_result"
    },
    {
     "data": {
      "image/png": "[encoded data removed]",
      "text/plain": [
       "<Figure size 432x288 with 1 Axes>"
      ]
     },
     "metadata": {
      "needs_background": "light"
     },
     "output_type": "display_data"
    }
   ],
   "source": [
    "plt.hist(np.log10(var_genes + 1e-10))"
   ]
  },
  {
   "cell_type": "code",
   "execution_count": 56,
   "metadata": {},
   "outputs": [],
   "source": [
    "deep = deep[:, var_genes_p < 1e-2]"
   ]
  },
  {
   "cell_type": "code",
   "execution_count": 57,
   "metadata": {},
   "outputs": [
    {
     "data": {
      "text/plain": [
       "View of AnnData object with n_obs × n_vars = 20252 × 13689 \n",
       "    obs: 'age', 'cell', 'cell_ontology_class', 'cell_ontology_id', 'free_annotation', 'method', 'mouse.id', 'n_genes', 'sex', 'subtissue', 'tissue', 'tissue_free_annotation', 'n_counts'\n",
       "    var: 'n_cells'"
      ]
     },
     "execution_count": 57,
     "metadata": {},
     "output_type": "execute_result"
    }
   ],
   "source": [
    "deep"
   ]
  },
  {
   "cell_type": "code",
   "execution_count": 58,
   "metadata": {},
   "outputs": [],
   "source": [
    "deep = deep.copy()"
   ]
  },
  {
   "cell_type": "code",
   "execution_count": 60,
   "metadata": {},
   "outputs": [],
   "source": [
    "deep.write('/mnt/ibm_lg/james/mcv_workspace/tabula-muris-senis-subset.h5ad')"
   ]
  },
  {
   "cell_type": "code",
   "execution_count": 26,
   "metadata": {},
   "outputs": [],
   "source": [
    "deep.obsm['X_true'] = deep.X.copy()"
   ]
  },
  {
   "cell_type": "code",
   "execution_count": 27,
   "metadata": {},
   "outputs": [],
   "source": [
    "counts_per_cell=3000\n",
    "sc.pp.downsample_counts(deep, counts_per_cell=counts_per_cell)"
   ]
  },
  {
   "cell_type": "code",
   "execution_count": 28,
   "metadata": {},
   "outputs": [
    {
     "data": {
      "text/plain": [
       "AnnData object with n_obs × n_vars = 20252 × 13689 \n",
       "    obs: 'age', 'cell', 'cell_ontology_class', 'cell_ontology_id', 'free_annotation', 'method', 'mouse.id', 'n_genes', 'sex', 'subtissue', 'tissue', 'tissue_free_annotation', 'n_counts'\n",
       "    var: 'n_cells'\n",
       "    obsm: 'X_true'"
      ]
     },
     "execution_count": 28,
     "metadata": {},
     "output_type": "execute_result"
    }
   ],
   "source": [
    "deep"
   ]
  },
  {
   "cell_type": "code",
   "execution_count": 31,
   "metadata": {},
   "outputs": [],
   "source": [
    "deep.write('/mnt/ibm_lg/james/mcv_workspace/tabula-muris-senis-deep.h5ad')"
   ]
  },
  {
   "cell_type": "code",
   "execution_count": 32,
   "metadata": {},
   "outputs": [],
   "source": [
    "import pickle"
   ]
  },
  {
   "cell_type": "code",
   "execution_count": 33,
   "metadata": {},
   "outputs": [],
   "source": [
    "def densify(x):\n",
    "    return np.array(x.todense())"
   ]
  },
  {
   "cell_type": "code",
   "execution_count": 34,
   "metadata": {},
   "outputs": [],
   "source": [
    "deep.X = densify(deep.X)\n",
    "deep.obsm['X_true'] = densify(deep.obsm['X_true'])"
   ]
  },
  {
   "cell_type": "code",
   "execution_count": 39,
   "metadata": {},
   "outputs": [],
   "source": [
    "true_means = deep.obsm['X_true']/deep.obsm['X_true'].sum(1, keepdims = True)\n",
    "true_counts = deep.obsm['X_true'].sum(1, keepdims = True)\n",
    "umis = deep.X.astype(np.int)"
   ]
  },
  {
   "cell_type": "code",
   "execution_count": 40,
   "metadata": {},
   "outputs": [],
   "source": [
    "with open('/mnt/ibm_lg/james/mcv_workspace/tabula-muris-senis-deep.pickle', 'wb') as out:\n",
    "    pickle.dump((true_means, true_counts, umis), out)"
   ]
  },
  {
   "cell_type": "code",
   "execution_count": 63,
   "metadata": {},
   "outputs": [
    {
     "ename": "NameError",
     "evalue": "name 'python' is not defined",
     "output_type": "error",
     "traceback": [
      "\u001b[0;31m---------------------------------------------------------------------------\u001b[0m",
      "\u001b[0;31mNameError\u001b[0m                                 Traceback (most recent call last)",
      "\u001b[0;32m<ipython-input-63-45a3ce2a2cc7>\u001b[0m in \u001b[0;36m<module>\u001b[0;34m\u001b[0m\n\u001b[0;32m----> 1\u001b[0;31m \u001b[0mpython\u001b[0m\u001b[0;34m.\u001b[0m\u001b[0m__version__\u001b[0m\u001b[0;34m\u001b[0m\u001b[0;34m\u001b[0m\u001b[0m\n\u001b[0m",
      "\u001b[0;31mNameError\u001b[0m: name 'python' is not defined"
     ]
    }
   ],
   "source": [
    "python.__version__"
   ]
  },
  {
   "cell_type": "code",
   "execution_count": 64,
   "metadata": {},
   "outputs": [],
   "source": [
    "import sys"
   ]
  },
  {
   "cell_type": "code",
   "execution_count": 65,
   "metadata": {},
   "outputs": [
    {
     "ename": "AttributeError",
     "evalue": "module 'sys' has no attribute '__version__'",
     "output_type": "error",
     "traceback": [
      "\u001b[0;31m---------------------------------------------------------------------------\u001b[0m",
      "\u001b[0;31mAttributeError\u001b[0m                            Traceback (most recent call last)",
      "\u001b[0;32m<ipython-input-65-dc4492fdf65c>\u001b[0m in \u001b[0;36m<module>\u001b[0;34m\u001b[0m\n\u001b[0;32m----> 1\u001b[0;31m \u001b[0msys\u001b[0m\u001b[0;34m.\u001b[0m\u001b[0m__version__\u001b[0m\u001b[0;34m\u001b[0m\u001b[0;34m\u001b[0m\u001b[0m\n\u001b[0m",
      "\u001b[0;31mAttributeError\u001b[0m: module 'sys' has no attribute '__version__'"
     ]
    }
   ],
   "source": [
    "sys.__version__"
   ]
  },
  {
   "cell_type": "code",
   "execution_count": 68,
   "metadata": {},
   "outputs": [
    {
     "data": {
      "text/plain": [
       "'/home/batson/miniconda3/bin/python'"
      ]
     },
     "execution_count": 68,
     "metadata": {},
     "output_type": "execute_result"
    }
   ],
   "source": [
    "sys.executable"
   ]
  },
  {
   "cell_type": "markdown",
   "metadata": {},
   "source": [
    "# Just a few cell types"
   ]
  },
  {
   "cell_type": "code",
   "execution_count": 2,
   "metadata": {},
   "outputs": [],
   "source": [
    "adata = sc.read('/mnt/ibm_lg/james/mcv_workspace/data/tabula_muris_senis/tabula-muris-senis-deep.h5ad')"
   ]
  },
  {
   "cell_type": "code",
   "execution_count": 3,
   "metadata": {},
   "outputs": [],
   "source": [
    "from collections import Counter\n",
    "class_counts = Counter(adata.obs['cell_ontology_class'])"
   ]
  },
  {
   "cell_type": "code",
   "execution_count": 4,
   "metadata": {},
   "outputs": [
    {
     "data": {
      "text/plain": [
       "Counter({'keratinocyte': 4631,\n",
       "         'basal cell of epidermis': 2800,\n",
       "         'promonocyte': 819,\n",
       "         'granulocytopoietic cell': 637,\n",
       "         'naive T cell': 1142,\n",
       "         'hematopoietic precursor cell': 277,\n",
       "         'macrophage': 968,\n",
       "         'megakaryocyte-erythroid progenitor cell': 996,\n",
       "         'late pro-B cell': 62,\n",
       "         'erythroblast': 250,\n",
       "         'luminal epithelial cell of mammary gland': 438,\n",
       "         'T cell': 59,\n",
       "         'B cell': 249,\n",
       "         'endothelial cell': 63,\n",
       "         'mesenchymal stem cell of adipose': 267,\n",
       "         'myeloid cell': 409,\n",
       "         'podocyte': 111,\n",
       "         'kidney proximal convoluted tubule epithelial cell': 90,\n",
       "         'kidney collecting duct principal cell': 78,\n",
       "         'lymphocyte': 256,\n",
       "         'hepatocyte': 287,\n",
       "         'pancreatic PP cell': 95,\n",
       "         'pancreatic B cell': 188,\n",
       "         'epithelial cell': 51,\n",
       "         'granulocyte': 159,\n",
       "         'proerythroblast': 240,\n",
       "         'thymocyte': 297,\n",
       "         'bladder urothelial cell': 2122,\n",
       "         'basophil': 53,\n",
       "         'epithelial cell of proximal tubule': 97,\n",
       "         'epidermal cell': 720,\n",
       "         'stem cell of epidermis': 92,\n",
       "         'Kupffer cell': 811,\n",
       "         'enterocyte of epithelium of large intestine': 158,\n",
       "         'epithelial cell of large intestine': 95,\n",
       "         'intestinal crypt stem cell': 67,\n",
       "         'large intestine goblet cell': 51,\n",
       "         'basal epithelial cell of tracheobronchial tree': 67})"
      ]
     },
     "execution_count": 4,
     "metadata": {},
     "output_type": "execute_result"
    }
   ],
   "source": [
    "class_counts"
   ]
  },
  {
   "cell_type": "code",
   "execution_count": 14,
   "metadata": {},
   "outputs": [
    {
     "data": {
      "text/plain": [
       "Counter({'B cell': 9, 'hepatocyte': 287, 'Kupffer cell': 811})"
      ]
     },
     "execution_count": 14,
     "metadata": {},
     "output_type": "execute_result"
    }
   ],
   "source": [
    "Counter(adata[(adata.obs['tissue'] == 'Liver')].obs['cell_ontology_class'])"
   ]
  },
  {
   "cell_type": "code",
   "execution_count": 16,
   "metadata": {},
   "outputs": [
    {
     "data": {
      "text/plain": [
       "Counter({'B cell': 9, 'hepatocyte': 287, 'Kupffer cell': 811})"
      ]
     },
     "execution_count": 16,
     "metadata": {},
     "output_type": "execute_result"
    }
   ],
   "source": [
    "Counter(adata[(adata.obs['tissue'] == 'Liver')]"
   ]
  },
  {
   "cell_type": "code",
   "execution_count": 19,
   "metadata": {},
   "outputs": [],
   "source": [
    "two_types = adata[adata.obs['cell_ontology_class'].isin(['hepatocyte', 'Kupffer cell'])]"
   ]
  },
  {
   "cell_type": "code",
   "execution_count": 21,
   "metadata": {},
   "outputs": [],
   "source": [
    "two_types.write('/mnt/ibm_lg/james/mcv_workspace/data/tabula_muris_senis/liver_deep.h5ad')"
   ]
  }
 ],
 "metadata": {
  "kernelspec": {
   "display_name": "Python (mcv7)",
   "language": "python",
   "name": "mcv7"
  },
  "language_info": {
   "codemirror_mode": {
    "name": "ipython",
    "version": 3
   },
   "file_extension": ".py",
   "mimetype": "text/x-python",
   "name": "python",
   "nbconvert_exporter": "python",
   "pygments_lexer": "ipython3",
   "version": "3.7.6"
  }
 },
 "nbformat": 4,
 "nbformat_minor": 4
}
