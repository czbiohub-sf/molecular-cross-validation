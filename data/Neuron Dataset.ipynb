{
 "cells": [
  {
   "cell_type": "code",
   "execution_count": 1,
   "metadata": {},
   "outputs": [],
   "source": [
    "%load_ext autoreload\n",
    "%autoreload 2\n",
    "from matplotlib import pyplot as plt\n",
    "%matplotlib inline\n",
    "import numpy as np\n",
    "import scanpy as sc"
   ]
  },
  {
   "cell_type": "code",
   "execution_count": 3,
   "metadata": {},
   "outputs": [],
   "source": [
    "from util import standard_scanpy"
   ]
  },
  {
   "cell_type": "code",
   "execution_count": 4,
   "metadata": {},
   "outputs": [
    {
     "name": "stderr",
     "output_type": "stream",
     "text": [
      "Variable names are not unique. To make them unique, call `.var_names_make_unique`.\n"
     ]
    }
   ],
   "source": [
    "deep = sc.read_10x_h5('/Users/josh/src/noise2self-single-cell/data/neurons/1M_neurons_filtered_gene_bc_matrices_h5.h5')\n",
    "\n",
    "\n"
   ]
  },
  {
   "cell_type": "code",
   "execution_count": 6,
   "metadata": {},
   "outputs": [],
   "source": [
    "counts = deep.X.sum(axis = 1)"
   ]
  },
  {
   "cell_type": "code",
   "execution_count": 9,
   "metadata": {},
   "outputs": [],
   "source": [
    "counts = np.array(counts).flatten()"
   ]
  },
  {
   "cell_type": "code",
   "execution_count": 10,
   "metadata": {},
   "outputs": [
    {
     "data": {
      "text/plain": [
       "(array([4.22498e+05, 5.31562e+05, 2.04159e+05, 8.19950e+04, 3.55230e+04,\n",
       "        1.51820e+04, 6.71900e+03, 3.27300e+03, 1.70300e+03, 9.83000e+02,\n",
       "        6.60000e+02, 4.43000e+02, 3.03000e+02, 2.62000e+02, 1.88000e+02,\n",
       "        1.35000e+02, 1.09000e+02, 9.70000e+01, 6.60000e+01, 6.00000e+01,\n",
       "        4.80000e+01, 3.30000e+01, 2.00000e+01, 2.10000e+01, 2.10000e+01,\n",
       "        1.30000e+01, 1.10000e+01, 5.00000e+00, 1.10000e+01, 6.00000e+00,\n",
       "        9.00000e+00, 2.00000e+00, 2.00000e+00, 2.00000e+00, 1.00000e+00,\n",
       "        0.00000e+00, 0.00000e+00, 1.00000e+00, 0.00000e+00, 1.00000e+00]),\n",
       " array([ 1115. ,  3390.5,  5666. ,  7941.5, 10217. , 12492.5, 14768. ,\n",
       "        17043.5, 19319. , 21594.5, 23870. , 26145.5, 28421. , 30696.5,\n",
       "        32972. , 35247.5, 37523. , 39798.5, 42074. , 44349.5, 46625. ,\n",
       "        48900.5, 51176. , 53451.5, 55727. , 58002.5, 60278. , 62553.5,\n",
       "        64829. , 67104.5, 69380. , 71655.5, 73931. , 76206.5, 78482. ,\n",
       "        80757.5, 83033. , 85308.5, 87584. , 89859.5, 92135. ],\n",
       "       dtype=float32),\n",
       " <a list of 40 Patch objects>)"
      ]
     },
     "execution_count": 10,
     "metadata": {},
     "output_type": "execute_result"
    },
    {
     "data": {
      "image/png": "[encoded data removed]",
      "text/plain": [
       "<Figure size 432x288 with 1 Axes>"
      ]
     },
     "metadata": {
      "needs_background": "light"
     },
     "output_type": "display_data"
    }
   ],
   "source": [
    "plt.hist(counts, bins=40)"
   ]
  },
  {
   "cell_type": "code",
   "execution_count": 11,
   "metadata": {},
   "outputs": [
    {
     "data": {
      "text/plain": [
       "(array([2.927e+03, 9.180e+02, 3.840e+02, 1.920e+02, 8.200e+01, 4.000e+01,\n",
       "        2.400e+01, 1.100e+01, 1.000e+00, 2.000e+00]),\n",
       " array([20002. , 27215.3, 34428.6, 41641.9, 48855.2, 56068.5, 63281.8,\n",
       "        70495.1, 77708.4, 84921.7, 92135. ], dtype=float32),\n",
       " <a list of 10 Patch objects>)"
      ]
     },
     "execution_count": 11,
     "metadata": {},
     "output_type": "execute_result"
    },
    {
     "data": {
      "image/png": "[encoded data removed]",
      "text/plain": [
       "<Figure size 432x288 with 1 Axes>"
      ]
     },
     "metadata": {
      "needs_background": "light"
     },
     "output_type": "display_data"
    }
   ],
   "source": [
    "plt.hist(counts[counts > 20000])"
   ]
  },
  {
   "cell_type": "code",
   "execution_count": 38,
   "metadata": {},
   "outputs": [],
   "source": [
    "subset = deep[(counts > 20000)]"
   ]
  },
  {
   "cell_type": "code",
   "execution_count": 39,
   "metadata": {},
   "outputs": [],
   "source": [
    "subset.var_names_make_unique()"
   ]
  },
  {
   "cell_type": "code",
   "execution_count": 40,
   "metadata": {},
   "outputs": [],
   "source": [
    "subset.write('/Users/josh/src/noise2self-single-cell/data/neurons/neurons_deep.h5ad')"
   ]
  }
 ],
 "metadata": {
  "kernelspec": {
   "display_name": "pytorch",
   "language": "python",
   "name": "pytorch"
  },
  "language_info": {
   "codemirror_mode": {
    "name": "ipython",
    "version": 3
   },
   "file_extension": ".py",
   "mimetype": "text/x-python",
   "name": "python",
   "nbconvert_exporter": "python",
   "pygments_lexer": "ipython3",
   "version": "3.6.8"
  }
 },
 "nbformat": 4,
 "nbformat_minor": 2
}
