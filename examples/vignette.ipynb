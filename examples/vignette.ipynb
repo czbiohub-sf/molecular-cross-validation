{
 "cells": [
  {
   "cell_type": "markdown",
   "metadata": {},
   "source": [
    "## Molecular Cross-Validation\n",
    "\n",
    "In this notebook we demonstrate how to apply molecular cross-validation with an arbitary denoising method."
   ]
  },
  {
   "cell_type": "code",
   "execution_count": 1,
   "metadata": {},
   "outputs": [],
   "source": [
    "import csv\n",
    "import gzip\n",
    "import itertools\n",
    "import pathlib\n",
    "\n",
    "from typing import Callable, Mapping\n",
    "from collections.abc import Sequence\n",
    "\n",
    "import numpy as np\n",
    "import matplotlib.pyplot as plt\n",
    "import pandas as pd\n",
    "\n",
    "from sklearn.metrics import mean_squared_error\n",
    "from sklearn.neighbors import NearestNeighbors\n",
    "from sklearn.utils.extmath import randomized_svd\n",
    "\n",
    "import scanpy as sc\n",
    "\n",
    "import molecular_cross_validation.util as ut\n"
   ]
  },
  {
   "cell_type": "code",
   "execution_count": 2,
   "metadata": {},
   "outputs": [],
   "source": [
    "# read in metadata file to get sample annotations\n",
    "with gzip.open(\"../../data/myeloid/GSE72857_experimental_design.txt.gz\", \"rt\") as f:\n",
    "    rdr = csv.reader(f, delimiter='\\t')\n",
    "    row = next(rdr)\n",
    "    for row in rdr:\n",
    "        if row[0] == \"Well_ID\" and row[1] == \"Seq_batch_ID\":\n",
    "            break\n",
    "\n",
    "    rows = list(csv.DictReader(f, fieldnames=row, delimiter=\"\\t\"))"
   ]
  },
  {
   "cell_type": "code",
   "execution_count": 3,
   "metadata": {},
   "outputs": [
    {
     "name": "stderr",
     "output_type": "stream",
     "text": [
      "Trying to set attribute `.obs` of view, making a copy.\n"
     ]
    }
   ],
   "source": [
    "# read in text file as AnnData object\n",
    "with gzip.open(\"../../data/myeloid/GSE72857_umitab.txt.gz\", \"rt\") as f:\n",
    "    myeloid_ad = sc.read_text(f, delimiter=\"\\t\", first_column_names=True).T\n",
    "\n",
    "# filter to myeloid samples\n",
    "myeloid_ids = [\n",
    "    r[\"Well_ID\"] for r in rows if r[\"Batch_desc\"] == \"Unsorted myeloid\"\n",
    "]\n",
    "myeloid_ad = myeloid_ad[myeloid_ids, :]\n",
    "\n",
    "# filter to ≥1000 UMIs per cell and ≥10 cells per gene\n",
    "sc.pp.filter_cells(myeloid_ad, min_counts=1000)\n",
    "sc.pp.filter_genes(myeloid_ad, min_cells=10)\n",
    "\n",
    "umis = np.asarray(myeloid_ad.X.astype(int))"
   ]
  },
  {
   "cell_type": "markdown",
   "metadata": {},
   "source": [
    "### Defining the denoiser\n",
    "\n",
    "In this example we will use the simple diffusion method that was part of Figure 1.\n",
    "\n",
    "In general, we need to define a function that takes an `numpy.ndarray` of UMIs and returns a denoised version. This function can take any form as long as the returned array is of the same shape and scale as the original data. Parameters for the denoiser are passed in as keyword arguments and will be calibrated by grid search using the MCV loss."
   ]
  },
  {
   "cell_type": "code",
   "execution_count": 4,
   "metadata": {},
   "outputs": [],
   "source": [
    "def compute_diff_op(\n",
    "    umis: np.ndarray,\n",
    "    n_components: int = 30,\n",
    "    n_neighbors: int = 15,\n",
    "    tr_prob: float = 0.5,\n",
    "    random_state: np.random.RandomState = None,\n",
    "):\n",
    "    \"\"\"Helper function for the diffusion denoiser, computes the diffusion operator\n",
    "    as a lazy walk over a k-nearest-neighbors graph of the data in PC space.\n",
    "    \n",
    "    :param umis: The data being smoothed\n",
    "    :param n_components: Number of components to use for PCA\n",
    "    :param n_neighbors: Number of neighbors to use for kNN graph\n",
    "    :param tr_prob: Transition probability for lazy walk\n",
    "    :param random_state: For reproducible results\n",
    "    :return: Transition matrix for diffusion over the graph\n",
    "    \"\"\"\n",
    "    if random_state is None:\n",
    "        random_state = np.random.RandomState()\n",
    "\n",
    "    # calculate diffusion operator\n",
    "    n_counts = np.median(umis.sum(axis=1))\n",
    "\n",
    "    x1_norm = np.sqrt(umis / umis.sum(axis=1, keepdims=True) * n_counts)\n",
    "\n",
    "    U, S, V = randomized_svd(x1_norm, n_components, random_state=random_state)\n",
    "\n",
    "    p = U.dot(np.diag(S))\n",
    "\n",
    "    nbrs = NearestNeighbors(n_neighbors=n_neighbors).fit(p)\n",
    "\n",
    "    diff_op = np.array(nbrs.kneighbors_graph(p, mode=\"connectivity\").todense())\n",
    "    diff_op += diff_op.T\n",
    "    diff_op = diff_op / diff_op.sum(axis=1, keepdims=True)\n",
    "    diff_op = tr_prob * diff_op + (1 - tr_prob) * np.eye(diff_op.shape[0])\n",
    "\n",
    "    return diff_op\n",
    "\n",
    "\n",
    "def gene_diffusion(umis: np.ndarray, time_steps: int, **diff_op_kwargs):\n",
    "    \"\"\"Diffuse gene values using a lazy walk over a kNN graph. First,\n",
    "    calculates a kNN graph in PC space and uses that to define a diffusion\n",
    "    operator. Next, iteratively smoothes the input data according to the\n",
    "    operator, and returns the result.\n",
    "    \n",
    "    :param umis: The original data (possibly scaled or otherwise normalized)\n",
    "    :param time_steps: Number of steps to take in the diffusion/walk\n",
    "    :diff_op_kwargs: Additional arguments to pass to `compute_diff_op`\n",
    "    :return: A denoised array of UMIs\n",
    "    \"\"\"\n",
    "    # calculate the diffusion operator, e.g. a weighting over a kNN graph\n",
    "    diff_op = compute_diff_op(umis, **diff_op_kwargs)\n",
    "    diffused_umis = umis.copy().astype(np.float)\n",
    "\n",
    "    # perform diffusion over the knn graph\n",
    "    for t in range(time_steps):\n",
    "        diffused_umis = diff_op.dot(diffused_umis)\n",
    "\n",
    "    return diffused_umis"
   ]
  },
  {
   "cell_type": "markdown",
   "metadata": {},
   "source": [
    "### Running an MCV grid search\n",
    "\n",
    "The `run_mcv_sweep` function takes as input a denoiser, the original data, and a dictionary `sweep_kwargs`. This dictionary is of the form `keyword`: `sequence of values`, and defines the parameters of the grid search to be performed.\n",
    "\n",
    "The function will split the original data into two parts, `X` and `Y`, according to the parameter `data_split` (default: 0.9 in X, 0.1 in Y). For each combination of parameters, the denoiser will be applied to `X` and evaluated on `Y`, and the resulting MCV loss will be recorded. A list of dictionaries returned, each one containing the parameters used the resulting loss."
   ]
  },
  {
   "cell_type": "code",
   "execution_count": 5,
   "metadata": {},
   "outputs": [],
   "source": [
    "mcv_d = ut.run_mcv_sweep(\n",
    "    gene_diffusion,\n",
    "    umis,\n",
    "    data_split = 0.9,\n",
    "    n_trials=1,\n",
    "    sweep_kwargs={\"time_steps\": np.arange(3, 11), \"n_components\": [10, 20, 30, 40]}\n",
    ")"
   ]
  },
  {
   "cell_type": "markdown",
   "metadata": {},
   "source": [
    "After running the MCV sweep we can identify the optimal parameter settings, shown below."
   ]
  },
  {
   "cell_type": "code",
   "execution_count": 6,
   "metadata": {},
   "outputs": [
    {
     "data": {
      "image/png": "[encoded data removed]",
      "text/plain": [
       "<Figure size 576x432 with 1 Axes>"
      ]
     },
     "metadata": {
      "needs_background": "light"
     },
     "output_type": "display_data"
    }
   ],
   "source": [
    "mcv_df = pd.DataFrame(mcv_d)\n",
    "\n",
    "fig,ax = plt.subplots(1, 1, figsize=(8,6))\n",
    "\n",
    "mcv_arr = mcv_df[\"mcv_loss\"].values.reshape((8, 4), order=\"C\")\n",
    "line_obj = ax.plot(np.arange(3, 11), mcv_arr, marker=\"o\")\n",
    "\n",
    "# mark the optimal value\n",
    "ax.scatter(\n",
    "    [3 + mcv_arr.min(1).argmin()], [mcv_arr.min(1).min()], \n",
    "    marker=\"*\", linewidths=1, edgecolor=\"k\", s=300, c=\"gold\", zorder=3\n",
    ")\n",
    "\n",
    "plt.figlegend(iter(line_obj), ('10', '20', '30', '40'), loc=7)\n",
    "plt.show()"
   ]
  },
  {
   "cell_type": "code",
   "execution_count": null,
   "metadata": {},
   "outputs": [],
   "source": []
  }
 ],
 "metadata": {
  "kernelspec": {
   "display_name": "Python 3",
   "language": "python",
   "name": "python3"
  },
  "language_info": {
   "codemirror_mode": {
    "name": "ipython",
    "version": 3
   },
   "file_extension": ".py",
   "mimetype": "text/x-python",
   "name": "python",
   "nbconvert_exporter": "python",
   "pygments_lexer": "ipython3",
   "version": "3.7.3"
  }
 },
 "nbformat": 4,
 "nbformat_minor": 4
}
