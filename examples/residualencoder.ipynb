{
 "cells": [
  {
   "cell_type": "code",
   "execution_count": null,
   "metadata": {},
   "outputs": [],
   "source": [
    "import numpy as np\n",
    "\n",
    "import torch\n",
    "use_cuda = torch.cuda.is_available()\n",
    "\n",
    "import altair as alt\n",
    "alt.data_transformers.enable('default', max_rows=None)\n",
    "\n",
    "import noise2self_sc as n2s"
   ]
  },
  {
   "cell_type": "code",
   "execution_count": null,
   "metadata": {},
   "outputs": [],
   "source": [
    "n_classes = 2\n",
    "n_latent = 32\n",
    "n_features = 512\n",
    "\n",
    "n_cells_per_class = 1024\n",
    "n_cells = n_cells_per_class * n_classes\n",
    "\n",
    "exp, class_labels, programs, lib_size, umis = n2s.data.simulate_classes(\n",
    "    n_classes, n_latent, n_cells, n_features, \n",
    "    prog_kw=dict(scale=4 / np.sqrt(n_features), sparsity=0.5),\n",
    "    class_kw=dict(scale=1 / np.sqrt(n_latent), sparsity=1.0),\n",
    "    library_kw=dict(loc=np.log(n_features * 0.1), scale=0.5)\n",
    ")\n",
    "\n",
    "lib_size.min(), lib_size.max(), exp.shape, (umis > 0).sum() / umis.size"
   ]
  },
  {
   "cell_type": "code",
   "execution_count": null,
   "metadata": {},
   "outputs": [],
   "source": [
    "X = torch.from_numpy(umis).to(torch.float)\n",
    "loglib = torch.log(X.sum(1, keepdim=True))\n",
    "Y = torch.sqrt(X)\n",
    "\n",
    "batch_size = 1024\n",
    "\n",
    "data_loader_train, data_loader_test = n2s.data.split_dataset(\n",
    "    Y, loglib, X, batch_size=batch_size, train_p=0.5, use_cuda=use_cuda\n",
    ")"
   ]
  },
  {
   "cell_type": "code",
   "execution_count": null,
   "metadata": {},
   "outputs": [],
   "source": [
    "resnet_model = n2s.models.ResidualEncoder(\n",
    "    n_input=X.shape[-1], \n",
    "    n_blocks=1,\n",
    "    layers=[128, 128], \n",
    "    use_cuda=use_cuda\n",
    ")\n",
    "\n",
    "criterion = n2s.train.NegativeBinomialNLLoss(eps=1e-6)\n",
    "\n",
    "num_epochs = 50\n",
    "test_iter = 5\n",
    "train_loss = []\n",
    "test_loss = []"
   ]
  },
  {
   "cell_type": "code",
   "execution_count": null,
   "metadata": {},
   "outputs": [],
   "source": [
    "optimizer = torch.optim.SGD(\n",
    "    resnet_model.parameters(), lr=0.5, momentum=0.999, weight_decay=0.0001,\n",
    ")\n"
   ]
  },
  {
   "cell_type": "code",
   "execution_count": null,
   "metadata": {},
   "outputs": [],
   "source": [
    "for epoch in range(num_epochs):\n",
    "    train_loss.append(\n",
    "        n2s.train.train_loop(resnet_model, criterion, optimizer, data_loader_train, use_cuda)\n",
    "    )\n",
    "    if epoch % test_iter == 0:\n",
    "        print(f\"[epoch {epoch:03d}]  average training loss: {train_loss[-1]:.5f}\")\n",
    "\n",
    "        test_loss.append(\n",
    "            n2s.train.test_loop(resnet_model, criterion, optimizer, data_loader_test, use_cuda)\n",
    "        )\n",
    "        \n",
    "print(f\"final average training loss: {train_loss[-1]:.5f}\")"
   ]
  },
  {
   "cell_type": "code",
   "execution_count": null,
   "metadata": {},
   "outputs": [],
   "source": [
    "n2s.metrics.plot.log_likelihood(train_loss, test_loss, test_iter)"
   ]
  },
  {
   "cell_type": "code",
   "execution_count": null,
   "metadata": {},
   "outputs": [],
   "source": []
  }
 ],
 "metadata": {
  "kernelspec": {
   "display_name": "Python [conda env:dose_ensemble]",
   "language": "python",
   "name": "conda-env-dose_ensemble-py"
  },
  "language_info": {
   "codemirror_mode": {
    "name": "ipython",
    "version": 3
   },
   "file_extension": ".py",
   "mimetype": "text/x-python",
   "name": "python",
   "nbconvert_exporter": "python",
   "pygments_lexer": "ipython3",
   "version": "3.6.7"
  }
 },
 "nbformat": 4,
 "nbformat_minor": 2
}
