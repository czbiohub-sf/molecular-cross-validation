{
 "cells": [
  {
   "cell_type": "markdown",
   "metadata": {},
   "source": [
    "# MAGIC"
   ]
  },
  {
   "cell_type": "markdown",
   "metadata": {},
   "source": [
    "In this notebook, we use molecular cross-validation to find the optimal set of hyperparameters for the MAGIC algorithm on a dataset from\n",
    "\n",
    "*David van Dijk, et al. Recovering Gene Interactions from Single-Cell Data Using Data Diffusion. 2018. Cell.*\n",
    "\n",
    "We find that the optimal parameters produce a much less smooth picture of the relationship between three genes, *CDH1, VIM, ZEB1* than the default parameters do, indicating the importance of calibrating denoising methods."
   ]
  },
  {
   "cell_type": "code",
   "execution_count": 1,
   "metadata": {},
   "outputs": [],
   "source": [
    "import numpy as np\n",
    "import pandas as pd\n",
    "\n",
    "import matplotlib.pyplot as plt\n",
    "plt.rcParams['svg.fonttype'] = 'none'\n",
    "\n",
    "import scanpy as sc\n",
    "\n",
    "import magic\n",
    "\n",
    "from noise2self_sc.util import normalize_rows, mse"
   ]
  },
  {
   "cell_type": "code",
   "execution_count": 2,
   "metadata": {},
   "outputs": [],
   "source": [
    "data = sc.read('../../../data/magic/HMLE_TGFb_day_8_10.csv.gz')\n",
    "\n",
    "sc.pp.filter_cells(data, min_counts=1000)\n",
    "sc.pp.filter_genes(data, min_cells=10)\n",
    "data.X = data.X.astype(np.int)"
   ]
  },
  {
   "cell_type": "code",
   "execution_count": 3,
   "metadata": {},
   "outputs": [],
   "source": [
    "x1 = np.random.binomial(data.X, 0.5)\n",
    "x2 = data.X - x1\n",
    "\n",
    "n_counts = np.median(data.X.sum(axis=1)) / 2\n",
    "\n",
    "x1_norm = normalize_rows(x1, n_counts=n_counts)\n",
    "x2_norm = normalize_rows(x2, n_counts=n_counts)"
   ]
  },
  {
   "cell_type": "code",
   "execution_count": 4,
   "metadata": {},
   "outputs": [],
   "source": [
    "data1 = pd.DataFrame(\n",
    "    data=x1_norm, index=data.obs_names, columns=data.var_names\n",
    ")\n",
    "data2 = pd.DataFrame(\n",
    "    data=x2_norm, index=data.obs_names, columns=data.var_names\n",
    ")"
   ]
  },
  {
   "cell_type": "code",
   "execution_count": 5,
   "metadata": {},
   "outputs": [
    {
     "name": "stdout",
     "output_type": "stream",
     "text": [
      "Calculating MAGIC...\n",
      "  Running MAGIC on 7523 cells and 18259 genes.\n",
      "  Calculating graph and diffusion operator...\n"
     ]
    },
    {
     "name": "stderr",
     "output_type": "stream",
     "text": [
      "/opt/conda/lib/python3.7/site-packages/magic/magic.py:376: UserWarning: Input matrix contains unexpressed genes. Please remove them prior to running MAGIC.\n",
      "  warnings.warn(\"Input matrix contains unexpressed genes. \"\n"
     ]
    },
    {
     "name": "stdout",
     "output_type": "stream",
     "text": [
      "    Calculating PCA...\n",
      "    Calculated PCA in 10.17 seconds.\n",
      "    Calculating KNN search...\n",
      "    Calculated KNN search in 12.41 seconds.\n",
      "    Calculating affinities...\n",
      "    Calculated affinities in 5.50 seconds.\n",
      "  Calculated graph and diffusion operator in 28.71 seconds.\n",
      "  Calculating imputation...\n",
      "    Automatically selected t = 8\n",
      "  Calculated imputation in 1.98 seconds.\n",
      "Calculated MAGIC in 32.35 seconds.\n"
     ]
    }
   ],
   "source": [
    "# MAGIC with defult parameters\n",
    "# (the warning is a known bug and can be ignored, see\n",
    "# https://github.com/KrishnaswamyLab/MAGIC/issues/152)\n",
    "genes = ['VIM', 'CDH1', 'ZEB1']\n",
    "\n",
    "default_denoised = magic.MAGIC().fit_transform(data1, genes=genes)\n",
    "default_denoised = np.maximum(default_denoised, 0)"
   ]
  },
  {
   "cell_type": "markdown",
   "metadata": {},
   "source": [
    "We tune three hyperparameters of the MAGIC method:\n",
    "    \n",
    "1. The number of neighbors to use in constructing the graph\n",
    "2. The number of principal components used\n",
    "3. The diffusion time"
   ]
  },
  {
   "cell_type": "markdown",
   "metadata": {},
   "source": [
    "Default values:\n",
    "    knn=10\n",
    "    n_pca=100\n",
    "    t='auto' (set to 7 for our dataset)\n",
    "Optimal values:\n",
    "    knn=4\n",
    "    n_pca=20\n",
    "    t=1"
   ]
  },
  {
   "cell_type": "code",
   "execution_count": 6,
   "metadata": {},
   "outputs": [
    {
     "name": "stdout",
     "output_type": "stream",
     "text": [
      "Calculating MAGIC...\n",
      "  Running MAGIC on 7523 cells and 18259 genes.\n",
      "  Calculating graph and diffusion operator...\n",
      "    Calculating PCA...\n"
     ]
    },
    {
     "name": "stderr",
     "output_type": "stream",
     "text": [
      "/opt/conda/lib/python3.7/site-packages/magic/magic.py:376: UserWarning: Input matrix contains unexpressed genes. Please remove them prior to running MAGIC.\n",
      "  warnings.warn(\"Input matrix contains unexpressed genes. \"\n"
     ]
    },
    {
     "name": "stdout",
     "output_type": "stream",
     "text": [
      "    Calculated PCA in 6.41 seconds.\n",
      "    Calculating KNN search...\n",
      "    Calculated KNN search in 1.28 seconds.\n",
      "    Calculating affinities...\n",
      "    Calculated affinities in 0.20 seconds.\n",
      "  Calculated graph and diffusion operator in 8.08 seconds.\n",
      "  Calculating imputation...\n",
      "Calculated MAGIC in 9.67 seconds.\n",
      "Calculating MAGIC...\n",
      "  Running MAGIC on 7523 cells and 18259 genes.\n",
      "  Using precomputed graph and diffusion operator...\n",
      "  Calculating imputation...\n",
      "Calculated MAGIC in 1.46 seconds.\n",
      "Calculating MAGIC...\n",
      "  Running MAGIC on 7523 cells and 18259 genes.\n"
     ]
    },
    {
     "name": "stderr",
     "output_type": "stream",
     "text": [
      "/opt/conda/lib/python3.7/site-packages/magic/magic.py:376: UserWarning: Input matrix contains unexpressed genes. Please remove them prior to running MAGIC.\n",
      "  warnings.warn(\"Input matrix contains unexpressed genes. \"\n"
     ]
    },
    {
     "name": "stdout",
     "output_type": "stream",
     "text": [
      "  Using precomputed graph and diffusion operator...\n",
      "  Calculating imputation...\n",
      "Calculated MAGIC in 1.16 seconds.\n",
      "Calculating MAGIC...\n",
      "  Running MAGIC on 7523 cells and 18259 genes.\n"
     ]
    },
    {
     "name": "stderr",
     "output_type": "stream",
     "text": [
      "/opt/conda/lib/python3.7/site-packages/magic/magic.py:376: UserWarning: Input matrix contains unexpressed genes. Please remove them prior to running MAGIC.\n",
      "  warnings.warn(\"Input matrix contains unexpressed genes. \"\n"
     ]
    },
    {
     "name": "stdout",
     "output_type": "stream",
     "text": [
      "  Using precomputed graph and diffusion operator...\n",
      "  Calculating imputation...\n",
      "Calculated MAGIC in 1.08 seconds.\n",
      "Calculating MAGIC...\n",
      "  Running MAGIC on 7523 cells and 18259 genes.\n"
     ]
    },
    {
     "name": "stderr",
     "output_type": "stream",
     "text": [
      "/opt/conda/lib/python3.7/site-packages/magic/magic.py:376: UserWarning: Input matrix contains unexpressed genes. Please remove them prior to running MAGIC.\n",
      "  warnings.warn(\"Input matrix contains unexpressed genes. \"\n"
     ]
    },
    {
     "name": "stdout",
     "output_type": "stream",
     "text": [
      "  Calculating graph and diffusion operator...\n",
      "    Calculating PCA...\n"
     ]
    },
    {
     "name": "stderr",
     "output_type": "stream",
     "text": [
      "/opt/conda/lib/python3.7/site-packages/magic/magic.py:376: UserWarning: Input matrix contains unexpressed genes. Please remove them prior to running MAGIC.\n",
      "  warnings.warn(\"Input matrix contains unexpressed genes. \"\n"
     ]
    },
    {
     "name": "stdout",
     "output_type": "stream",
     "text": [
      "    Calculated PCA in 5.13 seconds.\n",
      "    Calculating KNN search...\n",
      "    Calculated KNN search in 1.40 seconds.\n",
      "    Calculating affinities...\n",
      "    Calculated affinities in 0.28 seconds.\n",
      "  Calculated graph and diffusion operator in 6.95 seconds.\n",
      "  Calculating imputation...\n",
      "Calculated MAGIC in 8.05 seconds.\n",
      "Calculating MAGIC...\n",
      "  Running MAGIC on 7523 cells and 18259 genes.\n",
      "  Using precomputed graph and diffusion operator...\n",
      "  Calculating imputation...\n",
      "Calculated MAGIC in 1.52 seconds.\n",
      "Calculating MAGIC...\n",
      "  Running MAGIC on 7523 cells and 18259 genes.\n"
     ]
    },
    {
     "name": "stderr",
     "output_type": "stream",
     "text": [
      "/opt/conda/lib/python3.7/site-packages/magic/magic.py:376: UserWarning: Input matrix contains unexpressed genes. Please remove them prior to running MAGIC.\n",
      "  warnings.warn(\"Input matrix contains unexpressed genes. \"\n"
     ]
    },
    {
     "name": "stdout",
     "output_type": "stream",
     "text": [
      "  Using precomputed graph and diffusion operator...\n",
      "  Calculating imputation...\n",
      "Calculated MAGIC in 1.30 seconds.\n",
      "Calculating MAGIC...\n",
      "  Running MAGIC on 7523 cells and 18259 genes.\n"
     ]
    },
    {
     "name": "stderr",
     "output_type": "stream",
     "text": [
      "/opt/conda/lib/python3.7/site-packages/magic/magic.py:376: UserWarning: Input matrix contains unexpressed genes. Please remove them prior to running MAGIC.\n",
      "  warnings.warn(\"Input matrix contains unexpressed genes. \"\n"
     ]
    },
    {
     "name": "stdout",
     "output_type": "stream",
     "text": [
      "  Using precomputed graph and diffusion operator...\n",
      "  Calculating imputation...\n",
      "Calculated MAGIC in 1.20 seconds.\n",
      "Calculating MAGIC...\n",
      "  Running MAGIC on 7523 cells and 18259 genes.\n"
     ]
    },
    {
     "name": "stderr",
     "output_type": "stream",
     "text": [
      "/opt/conda/lib/python3.7/site-packages/magic/magic.py:376: UserWarning: Input matrix contains unexpressed genes. Please remove them prior to running MAGIC.\n",
      "  warnings.warn(\"Input matrix contains unexpressed genes. \"\n"
     ]
    },
    {
     "name": "stdout",
     "output_type": "stream",
     "text": [
      "  Calculating graph and diffusion operator...\n",
      "    Calculating PCA...\n"
     ]
    },
    {
     "name": "stderr",
     "output_type": "stream",
     "text": [
      "/opt/conda/lib/python3.7/site-packages/magic/magic.py:376: UserWarning: Input matrix contains unexpressed genes. Please remove them prior to running MAGIC.\n",
      "  warnings.warn(\"Input matrix contains unexpressed genes. \"\n"
     ]
    },
    {
     "name": "stdout",
     "output_type": "stream",
     "text": [
      "    Calculated PCA in 6.36 seconds.\n",
      "    Calculating KNN search...\n",
      "    Calculated KNN search in 1.71 seconds.\n",
      "    Calculating affinities...\n",
      "    Calculated affinities in 0.37 seconds.\n",
      "  Calculated graph and diffusion operator in 8.60 seconds.\n",
      "  Calculating imputation...\n",
      "Calculated MAGIC in 9.69 seconds.\n",
      "Calculating MAGIC...\n",
      "  Running MAGIC on 7523 cells and 18259 genes.\n",
      "  Using precomputed graph and diffusion operator...\n",
      "  Calculating imputation...\n",
      "Calculated MAGIC in 1.57 seconds.\n",
      "Calculating MAGIC...\n",
      "  Running MAGIC on 7523 cells and 18259 genes.\n"
     ]
    },
    {
     "name": "stderr",
     "output_type": "stream",
     "text": [
      "/opt/conda/lib/python3.7/site-packages/magic/magic.py:376: UserWarning: Input matrix contains unexpressed genes. Please remove them prior to running MAGIC.\n",
      "  warnings.warn(\"Input matrix contains unexpressed genes. \"\n"
     ]
    },
    {
     "name": "stdout",
     "output_type": "stream",
     "text": [
      "  Using precomputed graph and diffusion operator...\n",
      "  Calculating imputation...\n",
      "Calculated MAGIC in 1.16 seconds.\n",
      "Calculating MAGIC...\n",
      "  Running MAGIC on 7523 cells and 18259 genes.\n"
     ]
    },
    {
     "name": "stderr",
     "output_type": "stream",
     "text": [
      "/opt/conda/lib/python3.7/site-packages/magic/magic.py:376: UserWarning: Input matrix contains unexpressed genes. Please remove them prior to running MAGIC.\n",
      "  warnings.warn(\"Input matrix contains unexpressed genes. \"\n"
     ]
    },
    {
     "name": "stdout",
     "output_type": "stream",
     "text": [
      "  Using precomputed graph and diffusion operator...\n",
      "  Calculating imputation...\n",
      "Calculated MAGIC in 1.17 seconds.\n",
      "Calculating MAGIC...\n",
      "  Running MAGIC on 7523 cells and 18259 genes.\n"
     ]
    },
    {
     "name": "stderr",
     "output_type": "stream",
     "text": [
      "/opt/conda/lib/python3.7/site-packages/magic/magic.py:376: UserWarning: Input matrix contains unexpressed genes. Please remove them prior to running MAGIC.\n",
      "  warnings.warn(\"Input matrix contains unexpressed genes. \"\n"
     ]
    },
    {
     "name": "stdout",
     "output_type": "stream",
     "text": [
      "  Calculating graph and diffusion operator...\n",
      "    Calculating PCA...\n"
     ]
    },
    {
     "name": "stderr",
     "output_type": "stream",
     "text": [
      "/opt/conda/lib/python3.7/site-packages/magic/magic.py:376: UserWarning: Input matrix contains unexpressed genes. Please remove them prior to running MAGIC.\n",
      "  warnings.warn(\"Input matrix contains unexpressed genes. \"\n"
     ]
    },
    {
     "name": "stdout",
     "output_type": "stream",
     "text": [
      "    Calculated PCA in 4.63 seconds.\n",
      "    Calculating KNN search...\n",
      "    Calculated KNN search in 1.95 seconds.\n",
      "    Calculating affinities...\n",
      "    Calculated affinities in 0.56 seconds.\n",
      "  Calculated graph and diffusion operator in 7.29 seconds.\n",
      "  Calculating imputation...\n",
      "Calculated MAGIC in 8.72 seconds.\n",
      "Calculating MAGIC...\n",
      "  Running MAGIC on 7523 cells and 18259 genes.\n",
      "  Using precomputed graph and diffusion operator...\n",
      "  Calculating imputation...\n",
      "Calculated MAGIC in 1.44 seconds.\n",
      "Calculating MAGIC...\n",
      "  Running MAGIC on 7523 cells and 18259 genes.\n"
     ]
    },
    {
     "name": "stderr",
     "output_type": "stream",
     "text": [
      "/opt/conda/lib/python3.7/site-packages/magic/magic.py:376: UserWarning: Input matrix contains unexpressed genes. Please remove them prior to running MAGIC.\n",
      "  warnings.warn(\"Input matrix contains unexpressed genes. \"\n"
     ]
    },
    {
     "name": "stdout",
     "output_type": "stream",
     "text": [
      "  Using precomputed graph and diffusion operator...\n",
      "  Calculating imputation...\n",
      "Calculated MAGIC in 1.27 seconds.\n",
      "Calculating MAGIC...\n",
      "  Running MAGIC on 7523 cells and 18259 genes.\n"
     ]
    },
    {
     "name": "stderr",
     "output_type": "stream",
     "text": [
      "/opt/conda/lib/python3.7/site-packages/magic/magic.py:376: UserWarning: Input matrix contains unexpressed genes. Please remove them prior to running MAGIC.\n",
      "  warnings.warn(\"Input matrix contains unexpressed genes. \"\n"
     ]
    },
    {
     "name": "stdout",
     "output_type": "stream",
     "text": [
      "  Using precomputed graph and diffusion operator...\n",
      "  Calculating imputation...\n",
      "  Calculated imputation in 0.01 seconds.\n",
      "Calculated MAGIC in 1.11 seconds.\n",
      "Calculating MAGIC...\n",
      "  Running MAGIC on 7523 cells and 18259 genes.\n"
     ]
    },
    {
     "name": "stderr",
     "output_type": "stream",
     "text": [
      "/opt/conda/lib/python3.7/site-packages/magic/magic.py:376: UserWarning: Input matrix contains unexpressed genes. Please remove them prior to running MAGIC.\n",
      "  warnings.warn(\"Input matrix contains unexpressed genes. \"\n"
     ]
    },
    {
     "name": "stdout",
     "output_type": "stream",
     "text": [
      "  Calculating graph and diffusion operator...\n",
      "    Calculating PCA...\n"
     ]
    },
    {
     "name": "stderr",
     "output_type": "stream",
     "text": [
      "/opt/conda/lib/python3.7/site-packages/magic/magic.py:376: UserWarning: Input matrix contains unexpressed genes. Please remove them prior to running MAGIC.\n",
      "  warnings.warn(\"Input matrix contains unexpressed genes. \"\n"
     ]
    },
    {
     "name": "stdout",
     "output_type": "stream",
     "text": [
      "    Calculated PCA in 4.94 seconds.\n",
      "    Calculating KNN search...\n",
      "    Calculated KNN search in 2.04 seconds.\n",
      "    Calculating affinities...\n",
      "    Calculated affinities in 0.68 seconds.\n",
      "  Calculated graph and diffusion operator in 7.85 seconds.\n",
      "  Calculating imputation...\n",
      "Calculated MAGIC in 9.06 seconds.\n",
      "Calculating MAGIC...\n",
      "  Running MAGIC on 7523 cells and 18259 genes.\n",
      "  Using precomputed graph and diffusion operator...\n",
      "  Calculating imputation...\n",
      "Calculated MAGIC in 1.45 seconds.\n",
      "Calculating MAGIC...\n",
      "  Running MAGIC on 7523 cells and 18259 genes.\n"
     ]
    },
    {
     "name": "stderr",
     "output_type": "stream",
     "text": [
      "/opt/conda/lib/python3.7/site-packages/magic/magic.py:376: UserWarning: Input matrix contains unexpressed genes. Please remove them prior to running MAGIC.\n",
      "  warnings.warn(\"Input matrix contains unexpressed genes. \"\n"
     ]
    },
    {
     "name": "stdout",
     "output_type": "stream",
     "text": [
      "  Using precomputed graph and diffusion operator...\n",
      "  Calculating imputation...\n",
      "Calculated MAGIC in 1.12 seconds.\n",
      "Calculating MAGIC...\n",
      "  Running MAGIC on 7523 cells and 18259 genes.\n"
     ]
    },
    {
     "name": "stderr",
     "output_type": "stream",
     "text": [
      "/opt/conda/lib/python3.7/site-packages/magic/magic.py:376: UserWarning: Input matrix contains unexpressed genes. Please remove them prior to running MAGIC.\n",
      "  warnings.warn(\"Input matrix contains unexpressed genes. \"\n"
     ]
    },
    {
     "name": "stdout",
     "output_type": "stream",
     "text": [
      "  Using precomputed graph and diffusion operator...\n",
      "  Calculating imputation...\n",
      "  Calculated imputation in 0.01 seconds.\n",
      "Calculated MAGIC in 1.15 seconds.\n"
     ]
    },
    {
     "name": "stderr",
     "output_type": "stream",
     "text": [
      "/opt/conda/lib/python3.7/site-packages/magic/magic.py:376: UserWarning: Input matrix contains unexpressed genes. Please remove them prior to running MAGIC.\n",
      "  warnings.warn(\"Input matrix contains unexpressed genes. \"\n"
     ]
    },
    {
     "name": "stdout",
     "output_type": "stream",
     "text": [
      "Calculating MAGIC...\n",
      "  Running MAGIC on 7523 cells and 18259 genes.\n",
      "  Calculating graph and diffusion operator...\n",
      "    Calculating PCA...\n"
     ]
    },
    {
     "name": "stderr",
     "output_type": "stream",
     "text": [
      "/opt/conda/lib/python3.7/site-packages/magic/magic.py:376: UserWarning: Input matrix contains unexpressed genes. Please remove them prior to running MAGIC.\n",
      "  warnings.warn(\"Input matrix contains unexpressed genes. \"\n"
     ]
    },
    {
     "name": "stdout",
     "output_type": "stream",
     "text": [
      "    Calculated PCA in 6.60 seconds.\n",
      "    Calculating KNN search...\n",
      "    Calculated KNN search in 1.89 seconds.\n",
      "    Calculating affinities...\n",
      "    Calculated affinities in 0.15 seconds.\n",
      "  Calculated graph and diffusion operator in 8.82 seconds.\n",
      "  Calculating imputation...\n",
      "Calculated MAGIC in 9.94 seconds.\n",
      "Calculating MAGIC...\n",
      "  Running MAGIC on 7523 cells and 18259 genes.\n",
      "  Using precomputed graph and diffusion operator...\n",
      "  Calculating imputation...\n",
      "Calculated MAGIC in 1.49 seconds.\n",
      "Calculating MAGIC...\n",
      "  Running MAGIC on 7523 cells and 18259 genes.\n"
     ]
    },
    {
     "name": "stderr",
     "output_type": "stream",
     "text": [
      "/opt/conda/lib/python3.7/site-packages/magic/magic.py:376: UserWarning: Input matrix contains unexpressed genes. Please remove them prior to running MAGIC.\n",
      "  warnings.warn(\"Input matrix contains unexpressed genes. \"\n"
     ]
    },
    {
     "name": "stdout",
     "output_type": "stream",
     "text": [
      "  Using precomputed graph and diffusion operator...\n",
      "  Calculating imputation...\n",
      "Calculated MAGIC in 1.29 seconds.\n",
      "Calculating MAGIC...\n",
      "  Running MAGIC on 7523 cells and 18259 genes.\n"
     ]
    },
    {
     "name": "stderr",
     "output_type": "stream",
     "text": [
      "/opt/conda/lib/python3.7/site-packages/magic/magic.py:376: UserWarning: Input matrix contains unexpressed genes. Please remove them prior to running MAGIC.\n",
      "  warnings.warn(\"Input matrix contains unexpressed genes. \"\n"
     ]
    },
    {
     "name": "stdout",
     "output_type": "stream",
     "text": [
      "  Using precomputed graph and diffusion operator...\n",
      "  Calculating imputation...\n",
      "Calculated MAGIC in 1.11 seconds.\n",
      "Calculating MAGIC...\n",
      "  Running MAGIC on 7523 cells and 18259 genes.\n"
     ]
    },
    {
     "name": "stderr",
     "output_type": "stream",
     "text": [
      "/opt/conda/lib/python3.7/site-packages/magic/magic.py:376: UserWarning: Input matrix contains unexpressed genes. Please remove them prior to running MAGIC.\n",
      "  warnings.warn(\"Input matrix contains unexpressed genes. \"\n"
     ]
    },
    {
     "name": "stdout",
     "output_type": "stream",
     "text": [
      "  Calculating graph and diffusion operator...\n",
      "    Calculating PCA...\n"
     ]
    },
    {
     "name": "stderr",
     "output_type": "stream",
     "text": [
      "/opt/conda/lib/python3.7/site-packages/magic/magic.py:376: UserWarning: Input matrix contains unexpressed genes. Please remove them prior to running MAGIC.\n",
      "  warnings.warn(\"Input matrix contains unexpressed genes. \"\n"
     ]
    },
    {
     "name": "stdout",
     "output_type": "stream",
     "text": [
      "    Calculated PCA in 4.69 seconds.\n",
      "    Calculating KNN search...\n",
      "    Calculated KNN search in 2.27 seconds.\n",
      "    Calculating affinities...\n",
      "    Calculated affinities in 0.19 seconds.\n",
      "  Calculated graph and diffusion operator in 7.31 seconds.\n",
      "  Calculating imputation...\n",
      "Calculated MAGIC in 8.68 seconds.\n",
      "Calculating MAGIC...\n",
      "  Running MAGIC on 7523 cells and 18259 genes.\n",
      "  Using precomputed graph and diffusion operator...\n",
      "  Calculating imputation...\n",
      "Calculated MAGIC in 1.48 seconds.\n",
      "Calculating MAGIC...\n",
      "  Running MAGIC on 7523 cells and 18259 genes.\n"
     ]
    },
    {
     "name": "stderr",
     "output_type": "stream",
     "text": [
      "/opt/conda/lib/python3.7/site-packages/magic/magic.py:376: UserWarning: Input matrix contains unexpressed genes. Please remove them prior to running MAGIC.\n",
      "  warnings.warn(\"Input matrix contains unexpressed genes. \"\n"
     ]
    },
    {
     "name": "stdout",
     "output_type": "stream",
     "text": [
      "  Using precomputed graph and diffusion operator...\n",
      "  Calculating imputation...\n",
      "  Calculated imputation in 0.01 seconds.\n",
      "Calculated MAGIC in 1.20 seconds.\n",
      "Calculating MAGIC...\n",
      "  Running MAGIC on 7523 cells and 18259 genes.\n"
     ]
    },
    {
     "name": "stderr",
     "output_type": "stream",
     "text": [
      "/opt/conda/lib/python3.7/site-packages/magic/magic.py:376: UserWarning: Input matrix contains unexpressed genes. Please remove them prior to running MAGIC.\n",
      "  warnings.warn(\"Input matrix contains unexpressed genes. \"\n"
     ]
    },
    {
     "name": "stdout",
     "output_type": "stream",
     "text": [
      "  Using precomputed graph and diffusion operator...\n",
      "  Calculating imputation...\n",
      "  Calculated imputation in 0.02 seconds.\n",
      "Calculated MAGIC in 1.32 seconds.\n"
     ]
    },
    {
     "name": "stderr",
     "output_type": "stream",
     "text": [
      "/opt/conda/lib/python3.7/site-packages/magic/magic.py:376: UserWarning: Input matrix contains unexpressed genes. Please remove them prior to running MAGIC.\n",
      "  warnings.warn(\"Input matrix contains unexpressed genes. \"\n"
     ]
    },
    {
     "name": "stdout",
     "output_type": "stream",
     "text": [
      "Calculating MAGIC...\n",
      "  Running MAGIC on 7523 cells and 18259 genes.\n",
      "  Calculating graph and diffusion operator...\n",
      "    Calculating PCA...\n"
     ]
    },
    {
     "name": "stderr",
     "output_type": "stream",
     "text": [
      "/opt/conda/lib/python3.7/site-packages/magic/magic.py:376: UserWarning: Input matrix contains unexpressed genes. Please remove them prior to running MAGIC.\n",
      "  warnings.warn(\"Input matrix contains unexpressed genes. \"\n"
     ]
    },
    {
     "name": "stdout",
     "output_type": "stream",
     "text": [
      "    Calculated PCA in 8.71 seconds.\n",
      "    Calculating KNN search...\n",
      "    Calculated KNN search in 2.36 seconds.\n",
      "    Calculating affinities...\n",
      "    Calculated affinities in 0.25 seconds.\n",
      "  Calculated graph and diffusion operator in 11.49 seconds.\n",
      "  Calculating imputation...\n",
      "Calculated MAGIC in 13.03 seconds.\n",
      "Calculating MAGIC...\n",
      "  Running MAGIC on 7523 cells and 18259 genes.\n",
      "  Using precomputed graph and diffusion operator...\n",
      "  Calculating imputation...\n",
      "  Calculated imputation in 0.01 seconds.\n",
      "Calculated MAGIC in 1.58 seconds.\n",
      "Calculating MAGIC...\n",
      "  Running MAGIC on 7523 cells and 18259 genes.\n"
     ]
    },
    {
     "name": "stderr",
     "output_type": "stream",
     "text": [
      "/opt/conda/lib/python3.7/site-packages/magic/magic.py:376: UserWarning: Input matrix contains unexpressed genes. Please remove them prior to running MAGIC.\n",
      "  warnings.warn(\"Input matrix contains unexpressed genes. \"\n"
     ]
    },
    {
     "name": "stdout",
     "output_type": "stream",
     "text": [
      "  Using precomputed graph and diffusion operator...\n",
      "  Calculating imputation...\n",
      "  Calculated imputation in 0.02 seconds.\n",
      "Calculated MAGIC in 1.22 seconds.\n",
      "Calculating MAGIC...\n",
      "  Running MAGIC on 7523 cells and 18259 genes.\n"
     ]
    },
    {
     "name": "stderr",
     "output_type": "stream",
     "text": [
      "/opt/conda/lib/python3.7/site-packages/magic/magic.py:376: UserWarning: Input matrix contains unexpressed genes. Please remove them prior to running MAGIC.\n",
      "  warnings.warn(\"Input matrix contains unexpressed genes. \"\n"
     ]
    },
    {
     "name": "stdout",
     "output_type": "stream",
     "text": [
      "  Using precomputed graph and diffusion operator...\n",
      "  Calculating imputation...\n",
      "  Calculated imputation in 0.02 seconds.\n",
      "Calculated MAGIC in 1.42 seconds.\n"
     ]
    },
    {
     "name": "stderr",
     "output_type": "stream",
     "text": [
      "/opt/conda/lib/python3.7/site-packages/magic/magic.py:376: UserWarning: Input matrix contains unexpressed genes. Please remove them prior to running MAGIC.\n",
      "  warnings.warn(\"Input matrix contains unexpressed genes. \"\n"
     ]
    },
    {
     "name": "stdout",
     "output_type": "stream",
     "text": [
      "Calculating MAGIC...\n",
      "  Running MAGIC on 7523 cells and 18259 genes.\n",
      "  Calculating graph and diffusion operator...\n",
      "    Calculating PCA...\n"
     ]
    },
    {
     "name": "stderr",
     "output_type": "stream",
     "text": [
      "/opt/conda/lib/python3.7/site-packages/magic/magic.py:376: UserWarning: Input matrix contains unexpressed genes. Please remove them prior to running MAGIC.\n",
      "  warnings.warn(\"Input matrix contains unexpressed genes. \"\n"
     ]
    },
    {
     "name": "stdout",
     "output_type": "stream",
     "text": [
      "    Calculated PCA in 4.85 seconds.\n",
      "    Calculating KNN search...\n",
      "    Calculated KNN search in 2.61 seconds.\n",
      "    Calculating affinities...\n",
      "    Calculated affinities in 0.42 seconds.\n",
      "  Calculated graph and diffusion operator in 8.02 seconds.\n",
      "  Calculating imputation...\n",
      "  Calculated imputation in 0.01 seconds.\n",
      "Calculated MAGIC in 9.15 seconds.\n",
      "Calculating MAGIC...\n",
      "  Running MAGIC on 7523 cells and 18259 genes.\n",
      "  Using precomputed graph and diffusion operator...\n",
      "  Calculating imputation...\n",
      "  Calculated imputation in 0.02 seconds.\n",
      "Calculated MAGIC in 1.49 seconds.\n",
      "Calculating MAGIC...\n",
      "  Running MAGIC on 7523 cells and 18259 genes.\n"
     ]
    },
    {
     "name": "stderr",
     "output_type": "stream",
     "text": [
      "/opt/conda/lib/python3.7/site-packages/magic/magic.py:376: UserWarning: Input matrix contains unexpressed genes. Please remove them prior to running MAGIC.\n",
      "  warnings.warn(\"Input matrix contains unexpressed genes. \"\n"
     ]
    },
    {
     "name": "stdout",
     "output_type": "stream",
     "text": [
      "  Using precomputed graph and diffusion operator...\n",
      "  Calculating imputation...\n",
      "  Calculated imputation in 0.02 seconds.\n",
      "Calculated MAGIC in 1.20 seconds.\n",
      "Calculating MAGIC...\n",
      "  Running MAGIC on 7523 cells and 18259 genes.\n"
     ]
    },
    {
     "name": "stderr",
     "output_type": "stream",
     "text": [
      "/opt/conda/lib/python3.7/site-packages/magic/magic.py:376: UserWarning: Input matrix contains unexpressed genes. Please remove them prior to running MAGIC.\n",
      "  warnings.warn(\"Input matrix contains unexpressed genes. \"\n"
     ]
    },
    {
     "name": "stdout",
     "output_type": "stream",
     "text": [
      "  Using precomputed graph and diffusion operator...\n",
      "  Calculating imputation...\n",
      "  Calculated imputation in 0.03 seconds.\n",
      "Calculated MAGIC in 1.35 seconds.\n",
      "Calculating MAGIC...\n"
     ]
    },
    {
     "name": "stderr",
     "output_type": "stream",
     "text": [
      "/opt/conda/lib/python3.7/site-packages/magic/magic.py:376: UserWarning: Input matrix contains unexpressed genes. Please remove them prior to running MAGIC.\n",
      "  warnings.warn(\"Input matrix contains unexpressed genes. \"\n"
     ]
    },
    {
     "name": "stdout",
     "output_type": "stream",
     "text": [
      "  Running MAGIC on 7523 cells and 18259 genes.\n",
      "  Calculating graph and diffusion operator...\n",
      "    Calculating PCA...\n"
     ]
    },
    {
     "name": "stderr",
     "output_type": "stream",
     "text": [
      "/opt/conda/lib/python3.7/site-packages/magic/magic.py:376: UserWarning: Input matrix contains unexpressed genes. Please remove them prior to running MAGIC.\n",
      "  warnings.warn(\"Input matrix contains unexpressed genes. \"\n"
     ]
    },
    {
     "name": "stdout",
     "output_type": "stream",
     "text": [
      "    Calculated PCA in 4.58 seconds.\n",
      "    Calculating KNN search...\n",
      "    Calculated KNN search in 2.80 seconds.\n",
      "    Calculating affinities...\n",
      "    Calculated affinities in 0.39 seconds.\n",
      "  Calculated graph and diffusion operator in 7.96 seconds.\n",
      "  Calculating imputation...\n",
      "  Calculated imputation in 0.02 seconds.\n",
      "Calculated MAGIC in 9.22 seconds.\n",
      "Calculating MAGIC...\n",
      "  Running MAGIC on 7523 cells and 18259 genes.\n",
      "  Using precomputed graph and diffusion operator...\n",
      "  Calculating imputation...\n",
      "  Calculated imputation in 0.03 seconds.\n",
      "Calculated MAGIC in 1.51 seconds.\n",
      "Calculating MAGIC...\n",
      "  Running MAGIC on 7523 cells and 18259 genes.\n"
     ]
    },
    {
     "name": "stderr",
     "output_type": "stream",
     "text": [
      "/opt/conda/lib/python3.7/site-packages/magic/magic.py:376: UserWarning: Input matrix contains unexpressed genes. Please remove them prior to running MAGIC.\n",
      "  warnings.warn(\"Input matrix contains unexpressed genes. \"\n"
     ]
    },
    {
     "name": "stdout",
     "output_type": "stream",
     "text": [
      "  Using precomputed graph and diffusion operator...\n",
      "  Calculating imputation...\n",
      "  Calculated imputation in 0.03 seconds.\n",
      "Calculated MAGIC in 1.13 seconds.\n",
      "Calculating MAGIC...\n",
      "  Running MAGIC on 7523 cells and 18259 genes.\n"
     ]
    },
    {
     "name": "stderr",
     "output_type": "stream",
     "text": [
      "/opt/conda/lib/python3.7/site-packages/magic/magic.py:376: UserWarning: Input matrix contains unexpressed genes. Please remove them prior to running MAGIC.\n",
      "  warnings.warn(\"Input matrix contains unexpressed genes. \"\n"
     ]
    },
    {
     "name": "stdout",
     "output_type": "stream",
     "text": [
      "  Using precomputed graph and diffusion operator...\n",
      "  Calculating imputation...\n",
      "  Calculated imputation in 0.03 seconds.\n",
      "Calculated MAGIC in 1.13 seconds.\n",
      "Calculating MAGIC...\n"
     ]
    },
    {
     "name": "stderr",
     "output_type": "stream",
     "text": [
      "/opt/conda/lib/python3.7/site-packages/magic/magic.py:376: UserWarning: Input matrix contains unexpressed genes. Please remove them prior to running MAGIC.\n",
      "  warnings.warn(\"Input matrix contains unexpressed genes. \"\n"
     ]
    },
    {
     "name": "stdout",
     "output_type": "stream",
     "text": [
      "  Running MAGIC on 7523 cells and 18259 genes.\n",
      "  Calculating graph and diffusion operator...\n",
      "    Calculating PCA...\n"
     ]
    },
    {
     "name": "stderr",
     "output_type": "stream",
     "text": [
      "/opt/conda/lib/python3.7/site-packages/magic/magic.py:376: UserWarning: Input matrix contains unexpressed genes. Please remove them prior to running MAGIC.\n",
      "  warnings.warn(\"Input matrix contains unexpressed genes. \"\n"
     ]
    },
    {
     "name": "stdout",
     "output_type": "stream",
     "text": [
      "    Calculated PCA in 5.92 seconds.\n",
      "    Calculating KNN search...\n",
      "    Calculated KNN search in 2.64 seconds.\n",
      "    Calculating affinities...\n",
      "    Calculated affinities in 0.13 seconds.\n",
      "  Calculated graph and diffusion operator in 8.87 seconds.\n",
      "  Calculating imputation...\n",
      "Calculated MAGIC in 10.41 seconds.\n",
      "Calculating MAGIC...\n",
      "  Running MAGIC on 7523 cells and 18259 genes.\n",
      "  Using precomputed graph and diffusion operator...\n",
      "  Calculating imputation...\n",
      "Calculated MAGIC in 1.50 seconds.\n",
      "Calculating MAGIC...\n",
      "  Running MAGIC on 7523 cells and 18259 genes.\n"
     ]
    },
    {
     "name": "stderr",
     "output_type": "stream",
     "text": [
      "/opt/conda/lib/python3.7/site-packages/magic/magic.py:376: UserWarning: Input matrix contains unexpressed genes. Please remove them prior to running MAGIC.\n",
      "  warnings.warn(\"Input matrix contains unexpressed genes. \"\n"
     ]
    },
    {
     "name": "stdout",
     "output_type": "stream",
     "text": [
      "  Using precomputed graph and diffusion operator...\n",
      "  Calculating imputation...\n",
      "Calculated MAGIC in 1.35 seconds.\n",
      "Calculating MAGIC...\n",
      "  Running MAGIC on 7523 cells and 18259 genes.\n"
     ]
    },
    {
     "name": "stderr",
     "output_type": "stream",
     "text": [
      "/opt/conda/lib/python3.7/site-packages/magic/magic.py:376: UserWarning: Input matrix contains unexpressed genes. Please remove them prior to running MAGIC.\n",
      "  warnings.warn(\"Input matrix contains unexpressed genes. \"\n"
     ]
    },
    {
     "name": "stdout",
     "output_type": "stream",
     "text": [
      "  Using precomputed graph and diffusion operator...\n",
      "  Calculating imputation...\n",
      "  Calculated imputation in 0.01 seconds.\n",
      "Calculated MAGIC in 1.12 seconds.\n",
      "Calculating MAGIC...\n",
      "  Running MAGIC on 7523 cells and 18259 genes.\n"
     ]
    },
    {
     "name": "stderr",
     "output_type": "stream",
     "text": [
      "/opt/conda/lib/python3.7/site-packages/magic/magic.py:376: UserWarning: Input matrix contains unexpressed genes. Please remove them prior to running MAGIC.\n",
      "  warnings.warn(\"Input matrix contains unexpressed genes. \"\n"
     ]
    },
    {
     "name": "stdout",
     "output_type": "stream",
     "text": [
      "  Calculating graph and diffusion operator...\n",
      "    Calculating PCA...\n"
     ]
    },
    {
     "name": "stderr",
     "output_type": "stream",
     "text": [
      "/opt/conda/lib/python3.7/site-packages/magic/magic.py:376: UserWarning: Input matrix contains unexpressed genes. Please remove them prior to running MAGIC.\n",
      "  warnings.warn(\"Input matrix contains unexpressed genes. \"\n"
     ]
    },
    {
     "name": "stdout",
     "output_type": "stream",
     "text": [
      "    Calculated PCA in 5.41 seconds.\n",
      "    Calculating KNN search...\n",
      "    Calculated KNN search in 2.89 seconds.\n",
      "    Calculating affinities...\n",
      "    Calculated affinities in 0.18 seconds.\n",
      "  Calculated graph and diffusion operator in 8.64 seconds.\n",
      "  Calculating imputation...\n",
      "Calculated MAGIC in 9.94 seconds.\n",
      "Calculating MAGIC...\n",
      "  Running MAGIC on 7523 cells and 18259 genes.\n",
      "  Using precomputed graph and diffusion operator...\n",
      "  Calculating imputation...\n",
      "  Calculated imputation in 0.01 seconds.\n",
      "Calculated MAGIC in 1.63 seconds.\n",
      "Calculating MAGIC...\n",
      "  Running MAGIC on 7523 cells and 18259 genes.\n"
     ]
    },
    {
     "name": "stderr",
     "output_type": "stream",
     "text": [
      "/opt/conda/lib/python3.7/site-packages/magic/magic.py:376: UserWarning: Input matrix contains unexpressed genes. Please remove them prior to running MAGIC.\n",
      "  warnings.warn(\"Input matrix contains unexpressed genes. \"\n"
     ]
    },
    {
     "name": "stdout",
     "output_type": "stream",
     "text": [
      "  Using precomputed graph and diffusion operator...\n",
      "  Calculating imputation...\n",
      "  Calculated imputation in 0.02 seconds.\n",
      "Calculated MAGIC in 1.20 seconds.\n",
      "Calculating MAGIC...\n",
      "  Running MAGIC on 7523 cells and 18259 genes.\n"
     ]
    },
    {
     "name": "stderr",
     "output_type": "stream",
     "text": [
      "/opt/conda/lib/python3.7/site-packages/magic/magic.py:376: UserWarning: Input matrix contains unexpressed genes. Please remove them prior to running MAGIC.\n",
      "  warnings.warn(\"Input matrix contains unexpressed genes. \"\n"
     ]
    },
    {
     "name": "stdout",
     "output_type": "stream",
     "text": [
      "  Using precomputed graph and diffusion operator...\n",
      "  Calculating imputation...\n",
      "  Calculated imputation in 0.03 seconds.\n",
      "Calculated MAGIC in 1.20 seconds.\n"
     ]
    },
    {
     "name": "stderr",
     "output_type": "stream",
     "text": [
      "/opt/conda/lib/python3.7/site-packages/magic/magic.py:376: UserWarning: Input matrix contains unexpressed genes. Please remove them prior to running MAGIC.\n",
      "  warnings.warn(\"Input matrix contains unexpressed genes. \"\n"
     ]
    },
    {
     "name": "stdout",
     "output_type": "stream",
     "text": [
      "Calculating MAGIC...\n",
      "  Running MAGIC on 7523 cells and 18259 genes.\n",
      "  Calculating graph and diffusion operator...\n",
      "    Calculating PCA...\n"
     ]
    },
    {
     "name": "stderr",
     "output_type": "stream",
     "text": [
      "/opt/conda/lib/python3.7/site-packages/magic/magic.py:376: UserWarning: Input matrix contains unexpressed genes. Please remove them prior to running MAGIC.\n",
      "  warnings.warn(\"Input matrix contains unexpressed genes. \"\n"
     ]
    },
    {
     "name": "stdout",
     "output_type": "stream",
     "text": [
      "    Calculated PCA in 6.79 seconds.\n",
      "    Calculating KNN search...\n",
      "    Calculated KNN search in 3.11 seconds.\n",
      "    Calculating affinities...\n",
      "    Calculated affinities in 0.27 seconds.\n",
      "  Calculated graph and diffusion operator in 10.35 seconds.\n",
      "  Calculating imputation...\n",
      "  Calculated imputation in 0.03 seconds.\n",
      "Calculated MAGIC in 11.68 seconds.\n",
      "Calculating MAGIC...\n",
      "  Running MAGIC on 7523 cells and 18259 genes.\n",
      "  Using precomputed graph and diffusion operator...\n",
      "  Calculating imputation...\n",
      "  Calculated imputation in 0.02 seconds.\n",
      "Calculated MAGIC in 1.49 seconds.\n",
      "Calculating MAGIC...\n",
      "  Running MAGIC on 7523 cells and 18259 genes.\n"
     ]
    },
    {
     "name": "stderr",
     "output_type": "stream",
     "text": [
      "/opt/conda/lib/python3.7/site-packages/magic/magic.py:376: UserWarning: Input matrix contains unexpressed genes. Please remove them prior to running MAGIC.\n",
      "  warnings.warn(\"Input matrix contains unexpressed genes. \"\n"
     ]
    },
    {
     "name": "stdout",
     "output_type": "stream",
     "text": [
      "  Using precomputed graph and diffusion operator...\n",
      "  Calculating imputation...\n",
      "  Calculated imputation in 0.02 seconds.\n",
      "Calculated MAGIC in 1.54 seconds.\n",
      "Calculating MAGIC...\n",
      "  Running MAGIC on 7523 cells and 18259 genes.\n"
     ]
    },
    {
     "name": "stderr",
     "output_type": "stream",
     "text": [
      "/opt/conda/lib/python3.7/site-packages/magic/magic.py:376: UserWarning: Input matrix contains unexpressed genes. Please remove them prior to running MAGIC.\n",
      "  warnings.warn(\"Input matrix contains unexpressed genes. \"\n"
     ]
    },
    {
     "name": "stdout",
     "output_type": "stream",
     "text": [
      "  Using precomputed graph and diffusion operator...\n",
      "  Calculating imputation...\n",
      "  Calculated imputation in 0.03 seconds.\n",
      "Calculated MAGIC in 1.58 seconds.\n",
      "Calculating MAGIC...\n"
     ]
    },
    {
     "name": "stderr",
     "output_type": "stream",
     "text": [
      "/opt/conda/lib/python3.7/site-packages/magic/magic.py:376: UserWarning: Input matrix contains unexpressed genes. Please remove them prior to running MAGIC.\n",
      "  warnings.warn(\"Input matrix contains unexpressed genes. \"\n"
     ]
    },
    {
     "name": "stdout",
     "output_type": "stream",
     "text": [
      "  Running MAGIC on 7523 cells and 18259 genes.\n",
      "  Calculating graph and diffusion operator...\n",
      "    Calculating PCA...\n"
     ]
    },
    {
     "name": "stderr",
     "output_type": "stream",
     "text": [
      "/opt/conda/lib/python3.7/site-packages/magic/magic.py:376: UserWarning: Input matrix contains unexpressed genes. Please remove them prior to running MAGIC.\n",
      "  warnings.warn(\"Input matrix contains unexpressed genes. \"\n"
     ]
    },
    {
     "name": "stdout",
     "output_type": "stream",
     "text": [
      "    Calculated PCA in 5.24 seconds.\n",
      "    Calculating KNN search...\n",
      "    Calculated KNN search in 3.31 seconds.\n",
      "    Calculating affinities...\n",
      "    Calculated affinities in 0.38 seconds.\n",
      "  Calculated graph and diffusion operator in 9.17 seconds.\n",
      "  Calculating imputation...\n",
      "  Calculated imputation in 0.01 seconds.\n",
      "Calculated MAGIC in 10.30 seconds.\n",
      "Calculating MAGIC...\n",
      "  Running MAGIC on 7523 cells and 18259 genes.\n",
      "  Using precomputed graph and diffusion operator...\n",
      "  Calculating imputation...\n",
      "  Calculated imputation in 0.02 seconds.\n",
      "Calculated MAGIC in 1.48 seconds.\n",
      "Calculating MAGIC...\n",
      "  Running MAGIC on 7523 cells and 18259 genes.\n"
     ]
    },
    {
     "name": "stderr",
     "output_type": "stream",
     "text": [
      "/opt/conda/lib/python3.7/site-packages/magic/magic.py:376: UserWarning: Input matrix contains unexpressed genes. Please remove them prior to running MAGIC.\n",
      "  warnings.warn(\"Input matrix contains unexpressed genes. \"\n"
     ]
    },
    {
     "name": "stdout",
     "output_type": "stream",
     "text": [
      "  Using precomputed graph and diffusion operator...\n",
      "  Calculating imputation...\n",
      "  Calculated imputation in 0.04 seconds.\n",
      "Calculated MAGIC in 1.15 seconds.\n",
      "Calculating MAGIC...\n",
      "  Running MAGIC on 7523 cells and 18259 genes.\n"
     ]
    },
    {
     "name": "stderr",
     "output_type": "stream",
     "text": [
      "/opt/conda/lib/python3.7/site-packages/magic/magic.py:376: UserWarning: Input matrix contains unexpressed genes. Please remove them prior to running MAGIC.\n",
      "  warnings.warn(\"Input matrix contains unexpressed genes. \"\n"
     ]
    },
    {
     "name": "stdout",
     "output_type": "stream",
     "text": [
      "  Using precomputed graph and diffusion operator...\n",
      "  Calculating imputation...\n",
      "  Calculated imputation in 0.04 seconds.\n",
      "Calculated MAGIC in 1.31 seconds.\n"
     ]
    },
    {
     "name": "stderr",
     "output_type": "stream",
     "text": [
      "/opt/conda/lib/python3.7/site-packages/magic/magic.py:376: UserWarning: Input matrix contains unexpressed genes. Please remove them prior to running MAGIC.\n",
      "  warnings.warn(\"Input matrix contains unexpressed genes. \"\n"
     ]
    },
    {
     "name": "stdout",
     "output_type": "stream",
     "text": [
      "Calculating MAGIC...\n",
      "  Running MAGIC on 7523 cells and 18259 genes.\n",
      "  Calculating graph and diffusion operator...\n",
      "    Calculating PCA...\n"
     ]
    },
    {
     "name": "stderr",
     "output_type": "stream",
     "text": [
      "/opt/conda/lib/python3.7/site-packages/magic/magic.py:376: UserWarning: Input matrix contains unexpressed genes. Please remove them prior to running MAGIC.\n",
      "  warnings.warn(\"Input matrix contains unexpressed genes. \"\n"
     ]
    },
    {
     "name": "stdout",
     "output_type": "stream",
     "text": [
      "    Calculated PCA in 6.00 seconds.\n",
      "    Calculating KNN search...\n",
      "    Calculated KNN search in 3.58 seconds.\n",
      "    Calculating affinities...\n",
      "    Calculated affinities in 0.34 seconds.\n",
      "  Calculated graph and diffusion operator in 10.15 seconds.\n",
      "  Calculating imputation...\n",
      "  Calculated imputation in 0.02 seconds.\n",
      "Calculated MAGIC in 11.30 seconds.\n",
      "Calculating MAGIC...\n",
      "  Running MAGIC on 7523 cells and 18259 genes.\n",
      "  Using precomputed graph and diffusion operator...\n",
      "  Calculating imputation...\n",
      "  Calculated imputation in 0.02 seconds.\n",
      "Calculated MAGIC in 1.51 seconds.\n",
      "Calculating MAGIC...\n",
      "  Running MAGIC on 7523 cells and 18259 genes.\n"
     ]
    },
    {
     "name": "stderr",
     "output_type": "stream",
     "text": [
      "/opt/conda/lib/python3.7/site-packages/magic/magic.py:376: UserWarning: Input matrix contains unexpressed genes. Please remove them prior to running MAGIC.\n",
      "  warnings.warn(\"Input matrix contains unexpressed genes. \"\n"
     ]
    },
    {
     "name": "stdout",
     "output_type": "stream",
     "text": [
      "  Using precomputed graph and diffusion operator...\n",
      "  Calculating imputation...\n",
      "  Calculated imputation in 0.04 seconds.\n",
      "Calculated MAGIC in 1.54 seconds.\n",
      "Calculating MAGIC...\n",
      "  Running MAGIC on 7523 cells and 18259 genes.\n"
     ]
    },
    {
     "name": "stderr",
     "output_type": "stream",
     "text": [
      "/opt/conda/lib/python3.7/site-packages/magic/magic.py:376: UserWarning: Input matrix contains unexpressed genes. Please remove them prior to running MAGIC.\n",
      "  warnings.warn(\"Input matrix contains unexpressed genes. \"\n"
     ]
    },
    {
     "name": "stdout",
     "output_type": "stream",
     "text": [
      "  Using precomputed graph and diffusion operator...\n",
      "  Calculating imputation...\n",
      "  Calculated imputation in 0.05 seconds.\n",
      "Calculated MAGIC in 1.50 seconds.\n",
      "Calculating MAGIC...\n"
     ]
    },
    {
     "name": "stderr",
     "output_type": "stream",
     "text": [
      "/opt/conda/lib/python3.7/site-packages/magic/magic.py:376: UserWarning: Input matrix contains unexpressed genes. Please remove them prior to running MAGIC.\n",
      "  warnings.warn(\"Input matrix contains unexpressed genes. \"\n"
     ]
    },
    {
     "name": "stdout",
     "output_type": "stream",
     "text": [
      "  Running MAGIC on 7523 cells and 18259 genes.\n",
      "  Calculating graph and diffusion operator...\n",
      "    Calculating PCA...\n"
     ]
    },
    {
     "name": "stderr",
     "output_type": "stream",
     "text": [
      "/opt/conda/lib/python3.7/site-packages/magic/magic.py:376: UserWarning: Input matrix contains unexpressed genes. Please remove them prior to running MAGIC.\n",
      "  warnings.warn(\"Input matrix contains unexpressed genes. \"\n"
     ]
    },
    {
     "name": "stdout",
     "output_type": "stream",
     "text": [
      "    Calculated PCA in 6.53 seconds.\n",
      "    Calculating KNN search...\n",
      "    Calculated KNN search in 3.15 seconds.\n",
      "    Calculating affinities...\n",
      "    Calculated affinities in 0.13 seconds.\n",
      "  Calculated graph and diffusion operator in 10.00 seconds.\n",
      "  Calculating imputation...\n",
      "Calculated MAGIC in 11.17 seconds.\n",
      "Calculating MAGIC...\n",
      "  Running MAGIC on 7523 cells and 18259 genes.\n",
      "  Using precomputed graph and diffusion operator...\n",
      "  Calculating imputation...\n",
      "  Calculated imputation in 0.01 seconds.\n",
      "Calculated MAGIC in 1.77 seconds.\n",
      "Calculating MAGIC...\n",
      "  Running MAGIC on 7523 cells and 18259 genes.\n"
     ]
    },
    {
     "name": "stderr",
     "output_type": "stream",
     "text": [
      "/opt/conda/lib/python3.7/site-packages/magic/magic.py:376: UserWarning: Input matrix contains unexpressed genes. Please remove them prior to running MAGIC.\n",
      "  warnings.warn(\"Input matrix contains unexpressed genes. \"\n"
     ]
    },
    {
     "name": "stdout",
     "output_type": "stream",
     "text": [
      "  Using precomputed graph and diffusion operator...\n",
      "  Calculating imputation...\n",
      "  Calculated imputation in 0.01 seconds.\n",
      "Calculated MAGIC in 1.14 seconds.\n",
      "Calculating MAGIC...\n",
      "  Running MAGIC on 7523 cells and 18259 genes.\n"
     ]
    },
    {
     "name": "stderr",
     "output_type": "stream",
     "text": [
      "/opt/conda/lib/python3.7/site-packages/magic/magic.py:376: UserWarning: Input matrix contains unexpressed genes. Please remove them prior to running MAGIC.\n",
      "  warnings.warn(\"Input matrix contains unexpressed genes. \"\n"
     ]
    },
    {
     "name": "stdout",
     "output_type": "stream",
     "text": [
      "  Using precomputed graph and diffusion operator...\n",
      "  Calculating imputation...\n",
      "  Calculated imputation in 0.02 seconds.\n",
      "Calculated MAGIC in 1.38 seconds.\n",
      "Calculating MAGIC...\n"
     ]
    },
    {
     "name": "stderr",
     "output_type": "stream",
     "text": [
      "/opt/conda/lib/python3.7/site-packages/magic/magic.py:376: UserWarning: Input matrix contains unexpressed genes. Please remove them prior to running MAGIC.\n",
      "  warnings.warn(\"Input matrix contains unexpressed genes. \"\n"
     ]
    },
    {
     "name": "stdout",
     "output_type": "stream",
     "text": [
      "  Running MAGIC on 7523 cells and 18259 genes.\n",
      "  Calculating graph and diffusion operator...\n",
      "    Calculating PCA...\n"
     ]
    },
    {
     "name": "stderr",
     "output_type": "stream",
     "text": [
      "/opt/conda/lib/python3.7/site-packages/magic/magic.py:376: UserWarning: Input matrix contains unexpressed genes. Please remove them prior to running MAGIC.\n",
      "  warnings.warn(\"Input matrix contains unexpressed genes. \"\n"
     ]
    },
    {
     "name": "stdout",
     "output_type": "stream",
     "text": [
      "    Calculated PCA in 5.13 seconds.\n",
      "    Calculating KNN search...\n",
      "    Calculated KNN search in 3.49 seconds.\n",
      "    Calculating affinities...\n",
      "    Calculated affinities in 0.20 seconds.\n",
      "  Calculated graph and diffusion operator in 9.00 seconds.\n",
      "  Calculating imputation...\n",
      "  Calculated imputation in 0.01 seconds.\n",
      "Calculated MAGIC in 10.11 seconds.\n",
      "Calculating MAGIC...\n",
      "  Running MAGIC on 7523 cells and 18259 genes.\n",
      "  Using precomputed graph and diffusion operator...\n",
      "  Calculating imputation...\n",
      "  Calculated imputation in 0.02 seconds.\n",
      "Calculated MAGIC in 1.48 seconds.\n",
      "Calculating MAGIC...\n",
      "  Running MAGIC on 7523 cells and 18259 genes.\n"
     ]
    },
    {
     "name": "stderr",
     "output_type": "stream",
     "text": [
      "/opt/conda/lib/python3.7/site-packages/magic/magic.py:376: UserWarning: Input matrix contains unexpressed genes. Please remove them prior to running MAGIC.\n",
      "  warnings.warn(\"Input matrix contains unexpressed genes. \"\n"
     ]
    },
    {
     "name": "stdout",
     "output_type": "stream",
     "text": [
      "  Using precomputed graph and diffusion operator...\n",
      "  Calculating imputation...\n",
      "  Calculated imputation in 0.03 seconds.\n",
      "Calculated MAGIC in 1.16 seconds.\n",
      "Calculating MAGIC...\n",
      "  Running MAGIC on 7523 cells and 18259 genes.\n"
     ]
    },
    {
     "name": "stderr",
     "output_type": "stream",
     "text": [
      "/opt/conda/lib/python3.7/site-packages/magic/magic.py:376: UserWarning: Input matrix contains unexpressed genes. Please remove them prior to running MAGIC.\n",
      "  warnings.warn(\"Input matrix contains unexpressed genes. \"\n"
     ]
    },
    {
     "name": "stdout",
     "output_type": "stream",
     "text": [
      "  Using precomputed graph and diffusion operator...\n",
      "  Calculating imputation...\n",
      "  Calculated imputation in 0.03 seconds.\n",
      "Calculated MAGIC in 1.29 seconds.\n",
      "Calculating MAGIC...\n"
     ]
    },
    {
     "name": "stderr",
     "output_type": "stream",
     "text": [
      "/opt/conda/lib/python3.7/site-packages/magic/magic.py:376: UserWarning: Input matrix contains unexpressed genes. Please remove them prior to running MAGIC.\n",
      "  warnings.warn(\"Input matrix contains unexpressed genes. \"\n"
     ]
    },
    {
     "name": "stdout",
     "output_type": "stream",
     "text": [
      "  Running MAGIC on 7523 cells and 18259 genes.\n",
      "  Calculating graph and diffusion operator...\n",
      "    Calculating PCA...\n"
     ]
    },
    {
     "name": "stderr",
     "output_type": "stream",
     "text": [
      "/opt/conda/lib/python3.7/site-packages/magic/magic.py:376: UserWarning: Input matrix contains unexpressed genes. Please remove them prior to running MAGIC.\n",
      "  warnings.warn(\"Input matrix contains unexpressed genes. \"\n"
     ]
    },
    {
     "name": "stdout",
     "output_type": "stream",
     "text": [
      "    Calculated PCA in 5.00 seconds.\n",
      "    Calculating KNN search...\n",
      "    Calculated KNN search in 3.66 seconds.\n",
      "    Calculating affinities...\n",
      "    Calculated affinities in 0.31 seconds.\n",
      "  Calculated graph and diffusion operator in 9.16 seconds.\n",
      "  Calculating imputation...\n",
      "  Calculated imputation in 0.03 seconds.\n",
      "Calculated MAGIC in 10.63 seconds.\n",
      "Calculating MAGIC...\n",
      "  Running MAGIC on 7523 cells and 18259 genes.\n",
      "  Using precomputed graph and diffusion operator...\n",
      "  Calculating imputation...\n",
      "  Calculated imputation in 0.02 seconds.\n",
      "Calculated MAGIC in 1.62 seconds.\n",
      "Calculating MAGIC...\n",
      "  Running MAGIC on 7523 cells and 18259 genes.\n"
     ]
    },
    {
     "name": "stderr",
     "output_type": "stream",
     "text": [
      "/opt/conda/lib/python3.7/site-packages/magic/magic.py:376: UserWarning: Input matrix contains unexpressed genes. Please remove them prior to running MAGIC.\n",
      "  warnings.warn(\"Input matrix contains unexpressed genes. \"\n"
     ]
    },
    {
     "name": "stdout",
     "output_type": "stream",
     "text": [
      "  Using precomputed graph and diffusion operator...\n",
      "  Calculating imputation...\n",
      "  Calculated imputation in 0.03 seconds.\n",
      "Calculated MAGIC in 1.29 seconds.\n",
      "Calculating MAGIC...\n",
      "  Running MAGIC on 7523 cells and 18259 genes.\n"
     ]
    },
    {
     "name": "stderr",
     "output_type": "stream",
     "text": [
      "/opt/conda/lib/python3.7/site-packages/magic/magic.py:376: UserWarning: Input matrix contains unexpressed genes. Please remove them prior to running MAGIC.\n",
      "  warnings.warn(\"Input matrix contains unexpressed genes. \"\n"
     ]
    },
    {
     "name": "stdout",
     "output_type": "stream",
     "text": [
      "  Using precomputed graph and diffusion operator...\n",
      "  Calculating imputation...\n",
      "  Calculated imputation in 0.04 seconds.\n",
      "Calculated MAGIC in 1.18 seconds.\n"
     ]
    },
    {
     "name": "stderr",
     "output_type": "stream",
     "text": [
      "/opt/conda/lib/python3.7/site-packages/magic/magic.py:376: UserWarning: Input matrix contains unexpressed genes. Please remove them prior to running MAGIC.\n",
      "  warnings.warn(\"Input matrix contains unexpressed genes. \"\n"
     ]
    },
    {
     "name": "stdout",
     "output_type": "stream",
     "text": [
      "Calculating MAGIC...\n",
      "  Running MAGIC on 7523 cells and 18259 genes.\n",
      "  Calculating graph and diffusion operator...\n",
      "    Calculating PCA...\n"
     ]
    },
    {
     "name": "stderr",
     "output_type": "stream",
     "text": [
      "/opt/conda/lib/python3.7/site-packages/magic/magic.py:376: UserWarning: Input matrix contains unexpressed genes. Please remove them prior to running MAGIC.\n",
      "  warnings.warn(\"Input matrix contains unexpressed genes. \"\n"
     ]
    },
    {
     "name": "stdout",
     "output_type": "stream",
     "text": [
      "    Calculated PCA in 5.10 seconds.\n",
      "    Calculating KNN search...\n",
      "    Calculated KNN search in 3.81 seconds.\n",
      "    Calculating affinities...\n",
      "    Calculated affinities in 0.33 seconds.\n",
      "  Calculated graph and diffusion operator in 9.50 seconds.\n",
      "  Calculating imputation...\n",
      "  Calculated imputation in 0.02 seconds.\n",
      "Calculated MAGIC in 10.83 seconds.\n",
      "Calculating MAGIC...\n",
      "  Running MAGIC on 7523 cells and 18259 genes.\n",
      "  Using precomputed graph and diffusion operator...\n",
      "  Calculating imputation...\n",
      "  Calculated imputation in 0.04 seconds.\n",
      "Calculated MAGIC in 1.66 seconds.\n",
      "Calculating MAGIC...\n",
      "  Running MAGIC on 7523 cells and 18259 genes.\n"
     ]
    },
    {
     "name": "stderr",
     "output_type": "stream",
     "text": [
      "/opt/conda/lib/python3.7/site-packages/magic/magic.py:376: UserWarning: Input matrix contains unexpressed genes. Please remove them prior to running MAGIC.\n",
      "  warnings.warn(\"Input matrix contains unexpressed genes. \"\n"
     ]
    },
    {
     "name": "stdout",
     "output_type": "stream",
     "text": [
      "  Using precomputed graph and diffusion operator...\n",
      "  Calculating imputation...\n",
      "  Calculated imputation in 0.04 seconds.\n",
      "Calculated MAGIC in 1.20 seconds.\n",
      "Calculating MAGIC...\n",
      "  Running MAGIC on 7523 cells and 18259 genes.\n"
     ]
    },
    {
     "name": "stderr",
     "output_type": "stream",
     "text": [
      "/opt/conda/lib/python3.7/site-packages/magic/magic.py:376: UserWarning: Input matrix contains unexpressed genes. Please remove them prior to running MAGIC.\n",
      "  warnings.warn(\"Input matrix contains unexpressed genes. \"\n"
     ]
    },
    {
     "name": "stdout",
     "output_type": "stream",
     "text": [
      "  Using precomputed graph and diffusion operator...\n",
      "  Calculating imputation...\n",
      "  Calculated imputation in 0.06 seconds.\n",
      "Calculated MAGIC in 1.51 seconds.\n"
     ]
    },
    {
     "name": "stderr",
     "output_type": "stream",
     "text": [
      "/opt/conda/lib/python3.7/site-packages/magic/magic.py:376: UserWarning: Input matrix contains unexpressed genes. Please remove them prior to running MAGIC.\n",
      "  warnings.warn(\"Input matrix contains unexpressed genes. \"\n"
     ]
    },
    {
     "name": "stdout",
     "output_type": "stream",
     "text": [
      "Calculating MAGIC...\n",
      "  Running MAGIC on 7523 cells and 18259 genes.\n",
      "  Calculating graph and diffusion operator...\n",
      "    Calculating PCA...\n"
     ]
    },
    {
     "name": "stderr",
     "output_type": "stream",
     "text": [
      "/opt/conda/lib/python3.7/site-packages/magic/magic.py:376: UserWarning: Input matrix contains unexpressed genes. Please remove them prior to running MAGIC.\n",
      "  warnings.warn(\"Input matrix contains unexpressed genes. \"\n"
     ]
    },
    {
     "name": "stdout",
     "output_type": "stream",
     "text": [
      "    Calculated PCA in 6.33 seconds.\n",
      "    Calculating KNN search...\n",
      "    Calculated KNN search in 4.00 seconds.\n",
      "    Calculating affinities...\n",
      "    Calculated affinities in 0.40 seconds.\n",
      "  Calculated graph and diffusion operator in 10.98 seconds.\n",
      "  Calculating imputation...\n",
      "  Calculated imputation in 0.05 seconds.\n",
      "Calculated MAGIC in 12.55 seconds.\n",
      "Calculating MAGIC...\n",
      "  Running MAGIC on 7523 cells and 18259 genes.\n",
      "  Using precomputed graph and diffusion operator...\n",
      "  Calculating imputation...\n",
      "  Calculated imputation in 0.05 seconds.\n",
      "Calculated MAGIC in 1.50 seconds.\n",
      "Calculating MAGIC...\n",
      "  Running MAGIC on 7523 cells and 18259 genes.\n"
     ]
    },
    {
     "name": "stderr",
     "output_type": "stream",
     "text": [
      "/opt/conda/lib/python3.7/site-packages/magic/magic.py:376: UserWarning: Input matrix contains unexpressed genes. Please remove them prior to running MAGIC.\n",
      "  warnings.warn(\"Input matrix contains unexpressed genes. \"\n"
     ]
    },
    {
     "name": "stdout",
     "output_type": "stream",
     "text": [
      "  Using precomputed graph and diffusion operator...\n",
      "  Calculating imputation...\n",
      "  Calculated imputation in 0.05 seconds.\n",
      "Calculated MAGIC in 1.17 seconds.\n",
      "Calculating MAGIC...\n",
      "  Running MAGIC on 7523 cells and 18259 genes.\n"
     ]
    },
    {
     "name": "stderr",
     "output_type": "stream",
     "text": [
      "/opt/conda/lib/python3.7/site-packages/magic/magic.py:376: UserWarning: Input matrix contains unexpressed genes. Please remove them prior to running MAGIC.\n",
      "  warnings.warn(\"Input matrix contains unexpressed genes. \"\n"
     ]
    },
    {
     "name": "stdout",
     "output_type": "stream",
     "text": [
      "  Using precomputed graph and diffusion operator...\n",
      "  Calculating imputation...\n",
      "  Calculated imputation in 0.07 seconds.\n",
      "Calculated MAGIC in 1.25 seconds.\n",
      "Calculating MAGIC...\n"
     ]
    },
    {
     "name": "stderr",
     "output_type": "stream",
     "text": [
      "/opt/conda/lib/python3.7/site-packages/magic/magic.py:376: UserWarning: Input matrix contains unexpressed genes. Please remove them prior to running MAGIC.\n",
      "  warnings.warn(\"Input matrix contains unexpressed genes. \"\n"
     ]
    },
    {
     "name": "stdout",
     "output_type": "stream",
     "text": [
      "  Running MAGIC on 7523 cells and 18259 genes.\n",
      "  Calculating graph and diffusion operator...\n",
      "    Calculating PCA...\n"
     ]
    },
    {
     "name": "stderr",
     "output_type": "stream",
     "text": [
      "/opt/conda/lib/python3.7/site-packages/magic/magic.py:376: UserWarning: Input matrix contains unexpressed genes. Please remove them prior to running MAGIC.\n",
      "  warnings.warn(\"Input matrix contains unexpressed genes. \"\n"
     ]
    },
    {
     "name": "stdout",
     "output_type": "stream",
     "text": [
      "    Calculated PCA in 5.06 seconds.\n",
      "    Calculating KNN search...\n",
      "    Calculated KNN search in 3.60 seconds.\n",
      "    Calculating affinities...\n",
      "    Calculated affinities in 0.21 seconds.\n",
      "  Calculated graph and diffusion operator in 9.05 seconds.\n",
      "  Calculating imputation...\n",
      "Calculated MAGIC in 10.38 seconds.\n",
      "Calculating MAGIC...\n",
      "  Running MAGIC on 7523 cells and 18259 genes.\n",
      "  Using precomputed graph and diffusion operator...\n",
      "  Calculating imputation...\n",
      "  Calculated imputation in 0.02 seconds.\n",
      "Calculated MAGIC in 1.55 seconds.\n",
      "Calculating MAGIC...\n",
      "  Running MAGIC on 7523 cells and 18259 genes.\n"
     ]
    },
    {
     "name": "stderr",
     "output_type": "stream",
     "text": [
      "/opt/conda/lib/python3.7/site-packages/magic/magic.py:376: UserWarning: Input matrix contains unexpressed genes. Please remove them prior to running MAGIC.\n",
      "  warnings.warn(\"Input matrix contains unexpressed genes. \"\n"
     ]
    },
    {
     "name": "stdout",
     "output_type": "stream",
     "text": [
      "  Using precomputed graph and diffusion operator...\n",
      "  Calculating imputation...\n",
      "  Calculated imputation in 0.02 seconds.\n",
      "Calculated MAGIC in 1.15 seconds.\n",
      "Calculating MAGIC...\n",
      "  Running MAGIC on 7523 cells and 18259 genes.\n"
     ]
    },
    {
     "name": "stderr",
     "output_type": "stream",
     "text": [
      "/opt/conda/lib/python3.7/site-packages/magic/magic.py:376: UserWarning: Input matrix contains unexpressed genes. Please remove them prior to running MAGIC.\n",
      "  warnings.warn(\"Input matrix contains unexpressed genes. \"\n"
     ]
    },
    {
     "name": "stdout",
     "output_type": "stream",
     "text": [
      "  Using precomputed graph and diffusion operator...\n",
      "  Calculating imputation...\n",
      "  Calculated imputation in 0.03 seconds.\n",
      "Calculated MAGIC in 1.27 seconds.\n",
      "Calculating MAGIC...\n"
     ]
    },
    {
     "name": "stderr",
     "output_type": "stream",
     "text": [
      "/opt/conda/lib/python3.7/site-packages/magic/magic.py:376: UserWarning: Input matrix contains unexpressed genes. Please remove them prior to running MAGIC.\n",
      "  warnings.warn(\"Input matrix contains unexpressed genes. \"\n"
     ]
    },
    {
     "name": "stdout",
     "output_type": "stream",
     "text": [
      "  Running MAGIC on 7523 cells and 18259 genes.\n",
      "  Calculating graph and diffusion operator...\n",
      "    Calculating PCA...\n"
     ]
    },
    {
     "name": "stderr",
     "output_type": "stream",
     "text": [
      "/opt/conda/lib/python3.7/site-packages/magic/magic.py:376: UserWarning: Input matrix contains unexpressed genes. Please remove them prior to running MAGIC.\n",
      "  warnings.warn(\"Input matrix contains unexpressed genes. \"\n"
     ]
    },
    {
     "name": "stdout",
     "output_type": "stream",
     "text": [
      "    Calculated PCA in 4.76 seconds.\n",
      "    Calculating KNN search...\n",
      "    Calculated KNN search in 3.97 seconds.\n",
      "    Calculating affinities...\n",
      "    Calculated affinities in 0.30 seconds.\n",
      "  Calculated graph and diffusion operator in 9.25 seconds.\n",
      "  Calculating imputation...\n",
      "  Calculated imputation in 0.06 seconds.\n",
      "Calculated MAGIC in 10.46 seconds.\n",
      "Calculating MAGIC...\n",
      "  Running MAGIC on 7523 cells and 18259 genes.\n",
      "  Using precomputed graph and diffusion operator...\n",
      "  Calculating imputation...\n",
      "  Calculated imputation in 0.02 seconds.\n",
      "Calculated MAGIC in 1.54 seconds.\n",
      "Calculating MAGIC...\n",
      "  Running MAGIC on 7523 cells and 18259 genes.\n"
     ]
    },
    {
     "name": "stderr",
     "output_type": "stream",
     "text": [
      "/opt/conda/lib/python3.7/site-packages/magic/magic.py:376: UserWarning: Input matrix contains unexpressed genes. Please remove them prior to running MAGIC.\n",
      "  warnings.warn(\"Input matrix contains unexpressed genes. \"\n"
     ]
    },
    {
     "name": "stdout",
     "output_type": "stream",
     "text": [
      "  Using precomputed graph and diffusion operator...\n",
      "  Calculating imputation...\n",
      "  Calculated imputation in 0.04 seconds.\n",
      "Calculated MAGIC in 1.35 seconds.\n",
      "Calculating MAGIC...\n",
      "  Running MAGIC on 7523 cells and 18259 genes.\n"
     ]
    },
    {
     "name": "stderr",
     "output_type": "stream",
     "text": [
      "/opt/conda/lib/python3.7/site-packages/magic/magic.py:376: UserWarning: Input matrix contains unexpressed genes. Please remove them prior to running MAGIC.\n",
      "  warnings.warn(\"Input matrix contains unexpressed genes. \"\n"
     ]
    },
    {
     "name": "stdout",
     "output_type": "stream",
     "text": [
      "  Using precomputed graph and diffusion operator...\n",
      "  Calculating imputation...\n",
      "  Calculated imputation in 0.04 seconds.\n",
      "Calculated MAGIC in 1.55 seconds.\n"
     ]
    },
    {
     "name": "stderr",
     "output_type": "stream",
     "text": [
      "/opt/conda/lib/python3.7/site-packages/magic/magic.py:376: UserWarning: Input matrix contains unexpressed genes. Please remove them prior to running MAGIC.\n",
      "  warnings.warn(\"Input matrix contains unexpressed genes. \"\n"
     ]
    },
    {
     "name": "stdout",
     "output_type": "stream",
     "text": [
      "Calculating MAGIC...\n",
      "  Running MAGIC on 7523 cells and 18259 genes.\n",
      "  Calculating graph and diffusion operator...\n",
      "    Calculating PCA...\n"
     ]
    },
    {
     "name": "stderr",
     "output_type": "stream",
     "text": [
      "/opt/conda/lib/python3.7/site-packages/magic/magic.py:376: UserWarning: Input matrix contains unexpressed genes. Please remove them prior to running MAGIC.\n",
      "  warnings.warn(\"Input matrix contains unexpressed genes. \"\n"
     ]
    },
    {
     "name": "stdout",
     "output_type": "stream",
     "text": [
      "    Calculated PCA in 5.24 seconds.\n",
      "    Calculating KNN search...\n",
      "    Calculated KNN search in 3.91 seconds.\n",
      "    Calculating affinities...\n",
      "    Calculated affinities in 0.24 seconds.\n",
      "  Calculated graph and diffusion operator in 9.58 seconds.\n",
      "  Calculating imputation...\n",
      "  Calculated imputation in 0.02 seconds.\n",
      "Calculated MAGIC in 10.86 seconds.\n",
      "Calculating MAGIC...\n",
      "  Running MAGIC on 7523 cells and 18259 genes.\n",
      "  Using precomputed graph and diffusion operator...\n",
      "  Calculating imputation...\n",
      "  Calculated imputation in 0.03 seconds.\n",
      "Calculated MAGIC in 1.61 seconds.\n",
      "Calculating MAGIC...\n",
      "  Running MAGIC on 7523 cells and 18259 genes.\n"
     ]
    },
    {
     "name": "stderr",
     "output_type": "stream",
     "text": [
      "/opt/conda/lib/python3.7/site-packages/magic/magic.py:376: UserWarning: Input matrix contains unexpressed genes. Please remove them prior to running MAGIC.\n",
      "  warnings.warn(\"Input matrix contains unexpressed genes. \"\n"
     ]
    },
    {
     "name": "stdout",
     "output_type": "stream",
     "text": [
      "  Using precomputed graph and diffusion operator...\n",
      "  Calculating imputation...\n",
      "  Calculated imputation in 0.06 seconds.\n",
      "Calculated MAGIC in 1.57 seconds.\n",
      "Calculating MAGIC...\n",
      "  Running MAGIC on 7523 cells and 18259 genes.\n"
     ]
    },
    {
     "name": "stderr",
     "output_type": "stream",
     "text": [
      "/opt/conda/lib/python3.7/site-packages/magic/magic.py:376: UserWarning: Input matrix contains unexpressed genes. Please remove them prior to running MAGIC.\n",
      "  warnings.warn(\"Input matrix contains unexpressed genes. \"\n"
     ]
    },
    {
     "name": "stdout",
     "output_type": "stream",
     "text": [
      "  Using precomputed graph and diffusion operator...\n",
      "  Calculating imputation...\n",
      "  Calculated imputation in 0.06 seconds.\n",
      "Calculated MAGIC in 1.55 seconds.\n",
      "Calculating MAGIC...\n"
     ]
    },
    {
     "name": "stderr",
     "output_type": "stream",
     "text": [
      "/opt/conda/lib/python3.7/site-packages/magic/magic.py:376: UserWarning: Input matrix contains unexpressed genes. Please remove them prior to running MAGIC.\n",
      "  warnings.warn(\"Input matrix contains unexpressed genes. \"\n"
     ]
    },
    {
     "name": "stdout",
     "output_type": "stream",
     "text": [
      "  Running MAGIC on 7523 cells and 18259 genes.\n",
      "  Calculating graph and diffusion operator...\n",
      "    Calculating PCA...\n"
     ]
    },
    {
     "name": "stderr",
     "output_type": "stream",
     "text": [
      "/opt/conda/lib/python3.7/site-packages/magic/magic.py:376: UserWarning: Input matrix contains unexpressed genes. Please remove them prior to running MAGIC.\n",
      "  warnings.warn(\"Input matrix contains unexpressed genes. \"\n"
     ]
    },
    {
     "name": "stdout",
     "output_type": "stream",
     "text": [
      "    Calculated PCA in 5.11 seconds.\n",
      "    Calculating KNN search...\n",
      "    Calculated KNN search in 4.31 seconds.\n",
      "    Calculating affinities...\n",
      "    Calculated affinities in 0.40 seconds.\n",
      "  Calculated graph and diffusion operator in 10.17 seconds.\n",
      "  Calculating imputation...\n",
      "  Calculated imputation in 0.05 seconds.\n",
      "Calculated MAGIC in 11.60 seconds.\n",
      "Calculating MAGIC...\n",
      "  Running MAGIC on 7523 cells and 18259 genes.\n",
      "  Using precomputed graph and diffusion operator...\n",
      "  Calculating imputation...\n",
      "  Calculated imputation in 0.04 seconds.\n",
      "Calculated MAGIC in 1.64 seconds.\n",
      "Calculating MAGIC...\n",
      "  Running MAGIC on 7523 cells and 18259 genes.\n"
     ]
    },
    {
     "name": "stderr",
     "output_type": "stream",
     "text": [
      "/opt/conda/lib/python3.7/site-packages/magic/magic.py:376: UserWarning: Input matrix contains unexpressed genes. Please remove them prior to running MAGIC.\n",
      "  warnings.warn(\"Input matrix contains unexpressed genes. \"\n"
     ]
    },
    {
     "name": "stdout",
     "output_type": "stream",
     "text": [
      "  Using precomputed graph and diffusion operator...\n",
      "  Calculating imputation...\n",
      "  Calculated imputation in 0.06 seconds.\n",
      "Calculated MAGIC in 1.21 seconds.\n",
      "Calculating MAGIC...\n",
      "  Running MAGIC on 7523 cells and 18259 genes.\n"
     ]
    },
    {
     "name": "stderr",
     "output_type": "stream",
     "text": [
      "/opt/conda/lib/python3.7/site-packages/magic/magic.py:376: UserWarning: Input matrix contains unexpressed genes. Please remove them prior to running MAGIC.\n",
      "  warnings.warn(\"Input matrix contains unexpressed genes. \"\n"
     ]
    },
    {
     "name": "stdout",
     "output_type": "stream",
     "text": [
      "  Using precomputed graph and diffusion operator...\n",
      "  Calculating imputation...\n",
      "  Calculated imputation in 0.08 seconds.\n",
      "Calculated MAGIC in 1.51 seconds.\n"
     ]
    },
    {
     "name": "stderr",
     "output_type": "stream",
     "text": [
      "/opt/conda/lib/python3.7/site-packages/magic/magic.py:376: UserWarning: Input matrix contains unexpressed genes. Please remove them prior to running MAGIC.\n",
      "  warnings.warn(\"Input matrix contains unexpressed genes. \"\n"
     ]
    },
    {
     "name": "stdout",
     "output_type": "stream",
     "text": [
      "Calculating MAGIC...\n",
      "  Running MAGIC on 7523 cells and 18259 genes.\n",
      "  Calculating graph and diffusion operator...\n",
      "    Calculating PCA...\n"
     ]
    },
    {
     "name": "stderr",
     "output_type": "stream",
     "text": [
      "/opt/conda/lib/python3.7/site-packages/magic/magic.py:376: UserWarning: Input matrix contains unexpressed genes. Please remove them prior to running MAGIC.\n",
      "  warnings.warn(\"Input matrix contains unexpressed genes. \"\n"
     ]
    },
    {
     "name": "stdout",
     "output_type": "stream",
     "text": [
      "    Calculated PCA in 4.79 seconds.\n",
      "    Calculating KNN search...\n",
      "    Calculated KNN search in 4.50 seconds.\n",
      "    Calculating affinities...\n",
      "    Calculated affinities in 0.38 seconds.\n",
      "  Calculated graph and diffusion operator in 9.92 seconds.\n",
      "  Calculating imputation...\n",
      "  Calculated imputation in 0.03 seconds.\n",
      "Calculated MAGIC in 11.04 seconds.\n",
      "Calculating MAGIC...\n",
      "  Running MAGIC on 7523 cells and 18259 genes.\n",
      "  Using precomputed graph and diffusion operator...\n",
      "  Calculating imputation...\n",
      "  Calculated imputation in 0.05 seconds.\n",
      "Calculated MAGIC in 1.50 seconds.\n",
      "Calculating MAGIC...\n",
      "  Running MAGIC on 7523 cells and 18259 genes.\n"
     ]
    },
    {
     "name": "stderr",
     "output_type": "stream",
     "text": [
      "/opt/conda/lib/python3.7/site-packages/magic/magic.py:376: UserWarning: Input matrix contains unexpressed genes. Please remove them prior to running MAGIC.\n",
      "  warnings.warn(\"Input matrix contains unexpressed genes. \"\n"
     ]
    },
    {
     "name": "stdout",
     "output_type": "stream",
     "text": [
      "  Using precomputed graph and diffusion operator...\n",
      "  Calculating imputation...\n",
      "  Calculated imputation in 0.07 seconds.\n",
      "Calculated MAGIC in 1.31 seconds.\n",
      "Calculating MAGIC...\n",
      "  Running MAGIC on 7523 cells and 18259 genes.\n"
     ]
    },
    {
     "name": "stderr",
     "output_type": "stream",
     "text": [
      "/opt/conda/lib/python3.7/site-packages/magic/magic.py:376: UserWarning: Input matrix contains unexpressed genes. Please remove them prior to running MAGIC.\n",
      "  warnings.warn(\"Input matrix contains unexpressed genes. \"\n"
     ]
    },
    {
     "name": "stdout",
     "output_type": "stream",
     "text": [
      "  Using precomputed graph and diffusion operator...\n",
      "  Calculating imputation...\n",
      "  Calculated imputation in 0.10 seconds.\n",
      "Calculated MAGIC in 1.30 seconds.\n"
     ]
    },
    {
     "name": "stderr",
     "output_type": "stream",
     "text": [
      "/opt/conda/lib/python3.7/site-packages/magic/magic.py:376: UserWarning: Input matrix contains unexpressed genes. Please remove them prior to running MAGIC.\n",
      "  warnings.warn(\"Input matrix contains unexpressed genes. \"\n"
     ]
    }
   ],
   "source": [
    "k_range = np.arange(2, 12, 2)\n",
    "pc_range = np.arange(5, 30, 5)\n",
    "t_range = np.arange(1, 5)\n",
    "\n",
    "results = []\n",
    "\n",
    "for n_pcs in pc_range:\n",
    "    magic_op = magic.MAGIC(n_pca=n_pcs)\n",
    "    for k in k_range:\n",
    "        for t in t_range:\n",
    "            magic_op.set_params(knn=k, t=t)\n",
    "            denoised = magic_op.fit_transform(data1, genes=genes)\n",
    "            denoised = np.maximum(denoised, 0)\n",
    "            results.append((t, n_pcs, k, denoised))"
   ]
  },
  {
   "cell_type": "markdown",
   "metadata": {},
   "source": [
    "Visualize the results of the hyperparameter sweep."
   ]
  },
  {
   "cell_type": "code",
   "execution_count": 7,
   "metadata": {},
   "outputs": [],
   "source": [
    "rows = []\n",
    "\n",
    "for t, n_pcs, k, denoised in results:\n",
    "    losses = mse(denoised, data2[genes])\n",
    "    d = {\"t\": t, \"n_pcs\": n_pcs, \"k\": k, \"loss\": losses.sum()}\n",
    "    for gene in genes:\n",
    "        d[gene] = losses[gene]\n",
    "    rows.append(d)\n",
    "\n",
    "df = pd.DataFrame(rows)"
   ]
  },
  {
   "cell_type": "code",
   "execution_count": 8,
   "metadata": {},
   "outputs": [
    {
     "data": {
      "image/png": "[encoded data removed]",
      "text/plain": [
       "<Figure size 2304x432 with 4 Axes>"
      ]
     },
     "metadata": {
      "needs_background": "light"
     },
     "output_type": "display_data"
    }
   ],
   "source": [
    "fig,ax = plt.subplots(1, len(t_range), sharey=True, figsize=(32, 6))\n",
    "\n",
    "for i,t in enumerate(t_range):\n",
    "    ix = df[\"t\"] == t\n",
    "    ax[i].scatter(df[ix][\"n_pcs\"], df[ix][\"loss\"], c=df[ix][\"k\"], cmap=\"magma\")\n",
    "\n",
    "plt.show()"
   ]
  },
  {
   "cell_type": "markdown",
   "metadata": {},
   "source": [
    "The best-performing hyperparameters for MAGIC:"
   ]
  },
  {
   "cell_type": "code",
   "execution_count": 9,
   "metadata": {},
   "outputs": [
    {
     "data": {
      "text/plain": [
       "k         4.000000\n",
       "n_pcs    20.000000\n",
       "t         1.000000\n",
       "loss     17.543962\n",
       "Name: 64, dtype: float64"
      ]
     },
     "execution_count": 9,
     "metadata": {},
     "output_type": "execute_result"
    }
   ],
   "source": [
    "opt_idx = df['loss'].idxmin()\n",
    "\n",
    "opt_denoised = results[opt_idx][-1]\n",
    "opt_denoised = np.maximum(opt_denoised, 0)\n",
    "\n",
    "df.loc[opt_idx][['k', 'n_pcs','t','loss']]"
   ]
  },
  {
   "cell_type": "markdown",
   "metadata": {},
   "source": [
    "## Plot"
   ]
  },
  {
   "cell_type": "code",
   "execution_count": 10,
   "metadata": {},
   "outputs": [],
   "source": [
    "\n",
    "def plot_dfs(dfs, titles, xticks, yticks, cbar_ticks):\n",
    "    fig,ax = plt.subplots(\n",
    "        len(dfs), 2,\n",
    "        sharex=False,\n",
    "        sharey=False,\n",
    "        figsize=(8, 18),\n",
    "        gridspec_kw={'width_ratios': [10, 1]},\n",
    "    )\n",
    "\n",
    "    cmap = plt.get_cmap('magma')\n",
    "    for i,df in enumerate(dfs):\n",
    "        norm = plt.Normalize(df[genes[2]].min(), df[genes[2]].max())\n",
    "\n",
    "        ax[i,0].scatter(\n",
    "            df[genes[0]], df[genes[1]], \n",
    "            c = df[genes[2]],\n",
    "            cmap=cmap, \n",
    "            norm=norm,\n",
    "            alpha=0.5\n",
    "        )\n",
    "\n",
    "        ax[i,0].set_xlabel(genes[0])\n",
    "        ax[i,0].set_ylabel(genes[1])\n",
    "\n",
    "        ax[i,0].set_xticks(xticks[i])\n",
    "        ax[i,0].set_yticks(yticks[i])\n",
    "\n",
    "        x_marg = np.ptp(xticks[i]) / 20\n",
    "        y_marg = np.ptp(yticks[i]) / 20\n",
    "\n",
    "        ax[i,0].set_xlim(-x_marg, None)\n",
    "        ax[i,0].set_ylim(-y_marg, None)\n",
    "        ax[i,0].margins(0.05)\n",
    "        ax[i,0].autoscale_view()\n",
    "        ax[i,0].set_title(titles[i])\n",
    "\n",
    "        sm = plt.cm.ScalarMappable(cmap=cmap, norm=norm)\n",
    "        sm.set_array([])\n",
    "\n",
    "        plt.colorbar(\n",
    "            sm,\n",
    "            cax=ax[i,1], \n",
    "            label=genes[2],\n",
    "            ticks=cbar_ticks[i]\n",
    "        )"
   ]
  },
  {
   "cell_type": "code",
   "execution_count": 11,
   "metadata": {},
   "outputs": [
    {
     "data": {
      "image/png": "[encoded data removed]",
      "text/plain": [
       "<Figure size 576x1296 with 6 Axes>"
      ]
     },
     "metadata": {
      "needs_background": "light"
     },
     "output_type": "display_data"
    }
   ],
   "source": [
    "genes_idx = np.array([data.var_names.get_loc(g) for g in genes])\n",
    "raw = pd.DataFrame(data = x1_norm[:, genes_idx], columns=genes)\n",
    "\n",
    "plot_dfs(\n",
    "    [raw, default_denoised, opt_denoised],\n",
    "    [\"Raw\", \"Default Parameters\", \"Optimal Parameters\"],\n",
    "    [[0, 30, 60], [0, 9, 18], [0, 20, 40]],\n",
    "    [[0, 3, 6], [0, 0.4, 0.8], [0, 0.75, 1.5]],\n",
    "    [[0, 1.5, 3], [0, 0.03, 0.06], [0, 0.06, 0.12]],\n",
    ")\n",
    "plt.savefig('../../figures/Figure_3_raw.svg')"
   ]
  },
  {
   "cell_type": "code",
   "execution_count": null,
   "metadata": {},
   "outputs": [],
   "source": []
  }
 ],
 "metadata": {
  "kernelspec": {
   "display_name": "Python 3",
   "language": "python",
   "name": "python3"
  },
  "language_info": {
   "codemirror_mode": {
    "name": "ipython",
    "version": 3
   },
   "file_extension": ".py",
   "mimetype": "text/x-python",
   "name": "python",
   "nbconvert_exporter": "python",
   "pygments_lexer": "ipython3",
   "version": "3.7.1"
  }
 },
 "nbformat": 4,
 "nbformat_minor": 2
}
