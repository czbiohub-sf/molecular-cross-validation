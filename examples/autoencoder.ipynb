{
 "cells": [
  {
   "cell_type": "code",
   "execution_count": 1,
   "metadata": {},
   "outputs": [],
   "source": [
    "import numpy as np\n",
    "\n",
    "import torch\n",
    "use_cuda = torch.cuda.is_available()\n",
    "\n",
    "import altair as alt\n",
    "alt.data_transformers.enable('default', max_rows=None)\n",
    "\n",
    "import noise2self_sc as n2s"
   ]
  },
  {
   "cell_type": "code",
   "execution_count": 2,
   "metadata": {},
   "outputs": [
    {
     "data": {
      "text/plain": [
       "(31, 255, (2048, 32), 0.11116504669189453)"
      ]
     },
     "execution_count": 2,
     "metadata": {},
     "output_type": "execute_result"
    }
   ],
   "source": [
    "n_classes = 2\n",
    "n_latent = 32\n",
    "n_features = 512\n",
    "\n",
    "n_cells_per_class = 1024\n",
    "n_cells = n_cells_per_class * n_classes\n",
    "\n",
    "exp, class_labels, programs, lib_size, umis = n2s.simulate.make_dataset(\n",
    "    n_classes, n_latent, n_cells, n_features, \n",
    "    prog_kw=dict(scale=4 * np.sqrt(1 / n_features), sparsity=0.5),\n",
    "    class_kw=dict(scale=1 / np.sqrt(n_latent), sparsity=1.0),\n",
    "    library_kw=dict(loc=np.log(n_features * 0.1), scale=0.5)\n",
    ")\n",
    "\n",
    "lib_size.min(), lib_size.max(), exp.shape, (umis > 0).sum() / umis.size"
   ]
  },
  {
   "cell_type": "code",
   "execution_count": 3,
   "metadata": {},
   "outputs": [],
   "source": [
    "X = torch.from_numpy(umis).to(torch.float)\n",
    "loglib = torch.log(X.sum(1, keepdim=True))\n",
    "Y = torch.sqrt(X)\n",
    "\n",
    "batch_size = 1024\n",
    "\n",
    "data_loader_train, data_loader_test = n2s.training.split_dataset(\n",
    "    Y, loglib, X, batch_size=batch_size, train_p=0.5, use_cuda=use_cuda\n",
    ")"
   ]
  },
  {
   "cell_type": "code",
   "execution_count": 5,
   "metadata": {},
   "outputs": [],
   "source": [
    "   \n",
    "dca_model = n2s.autoencoder.CountAutoencoder(\n",
    "    n_input=X.shape[-1], \n",
    "    n_latent=32, \n",
    "    layers=[128, 128], \n",
    "    use_cuda=use_cuda\n",
    ")\n",
    "\n",
    "criterion = n2s.training.NegativeBinomialNLLoss(eps=1e-6)\n",
    "\n",
    "num_epochs = 50\n",
    "test_iter = 5\n",
    "train_loss = []\n",
    "test_loss = []"
   ]
  },
  {
   "cell_type": "code",
   "execution_count": 11,
   "metadata": {},
   "outputs": [],
   "source": [
    "optimizer = torch.optim.SGD(\n",
    "    dca_model.parameters(), lr=0.5, momentum=0.999, weight_decay=0.0001,\n",
    ")\n"
   ]
  },
  {
   "cell_type": "code",
   "execution_count": 12,
   "metadata": {},
   "outputs": [
    {
     "name": "stdout",
     "output_type": "stream",
     "text": [
      "[epoch 000]  average training loss: 0.38109\n",
      "[epoch 005]  average training loss: 0.38103\n",
      "[epoch 010]  average training loss: 0.38101\n",
      "[epoch 015]  average training loss: 0.38080\n",
      "[epoch 020]  average training loss: 0.38047\n",
      "[epoch 025]  average training loss: 0.38006\n",
      "[epoch 030]  average training loss: 0.37972\n",
      "[epoch 035]  average training loss: 0.37922\n",
      "[epoch 040]  average training loss: 0.37886\n",
      "[epoch 045]  average training loss: 0.37822\n",
      "final average training loss: 0.37775\n"
     ]
    }
   ],
   "source": [
    "for epoch in range(num_epochs):\n",
    "    train_loss.append(n2s.training.train_loop(dca_model, criterion, optimizer, data_loader_train, use_cuda))\n",
    "    if epoch % test_iter == 0:\n",
    "        print(f\"[epoch {epoch:03d}]  average training loss: {train_loss[-1]:.5f}\")\n",
    "\n",
    "        test_loss.append(n2s.training.test_loop(dca_model, criterion, optimizer, data_loader_test, use_cuda))\n",
    "        \n",
    "print(f\"final average training loss: {train_loss[-1]:.5f}\")"
   ]
  }
 ],
 "metadata": {
  "kernelspec": {
   "display_name": "Python [conda env:dose_ensemble]",
   "language": "python",
   "name": "conda-env-dose_ensemble-py"
  },
  "language_info": {
   "codemirror_mode": {
    "name": "ipython",
    "version": 3
   },
   "file_extension": ".py",
   "mimetype": "text/x-python",
   "name": "python",
   "nbconvert_exporter": "python",
   "pygments_lexer": "ipython3",
   "version": "3.6.7"
  }
 },
 "nbformat": 4,
 "nbformat_minor": 2
}
