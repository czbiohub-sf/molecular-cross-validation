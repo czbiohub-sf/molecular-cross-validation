{
 "cells": [
  {
   "cell_type": "code",
   "execution_count": 23,
   "metadata": {},
   "outputs": [],
   "source": [
    "import glob\n",
    "import os \n",
    "import itertools\n",
    "\n",
    "from collections import defaultdict\n",
    "from typing import Sequence, Union\n",
    "\n",
    "import scanpy as sc\n",
    "import anndata\n",
    "import pandas as pd\n",
    "\n",
    "import numpy as np\n",
    "import scipy.sparse\n",
    "import scipy.stats as st\n",
    "\n",
    "import sklearn.preprocessing\n",
    "\n",
    "from sklearn.metrics import mean_squared_error, log_loss, precision_recall_curve\n",
    "from sklearn.metrics.cluster import silhouette_score\n",
    "from sklearn.neighbors import NearestNeighbors\n",
    "from sklearn.utils.extmath import randomized_svd\n",
    "from sklearn.linear_model import LogisticRegression\n",
    "from sklearn.utils.validation import check_random_state\n",
    "\n",
    "import molecular_cross_validation.util as ut\n",
    "from molecular_cross_validation.mcv_sweep import GridSearchMCV, poisson_nll_loss\n",
    "\n",
    "%matplotlib inline\n",
    "import matplotlib.pyplot as plt\n",
    "\n",
    "seed = sum(map(ord, \"differential_expression\"))"
   ]
  },
  {
   "cell_type": "code",
   "execution_count": 17,
   "metadata": {},
   "outputs": [],
   "source": [
    "import array_mannwhitneyu"
   ]
  },
  {
   "cell_type": "code",
   "execution_count": 36,
   "metadata": {},
   "outputs": [],
   "source": [
    "# the basic diffusion algorithm, for a given parameter setting\n",
    "def diffusion(\n",
    "    umis: np.ndarray,\n",
    "    time_steps: int,\n",
    "    n_components: int,\n",
    "    n_neighbors: int = 15,\n",
    "    tr_prob: float = 0.5,\n",
    "    random_state: np.random.RandomState = None,\n",
    "):\n",
    "    rng = check_random_state(random_state)\n",
    "\n",
    "    # calculate row sums and normalize counts\n",
    "    row_sums = umis.sum(1, keepdims=True)\n",
    "    norm_umis = sklearn.preprocessing.normalize(umis.astype(np.float), norm='l1')\n",
    "\n",
    "    # calculate PCA as before\n",
    "    U, S, V = randomized_svd(np.sqrt(norm_umis), n_components, random_state=rng)\n",
    "    US = U.dot(np.diag(S))\n",
    "\n",
    "    # calculate a kNN in PCA space\n",
    "    nbrs = NearestNeighbors(n_neighbors=n_neighbors, algorithm='brute').fit(US)\n",
    "\n",
    "    knn_arr = nbrs.kneighbors_graph(US, mode=\"connectivity\")\n",
    "    knn_arr = sklearn.preprocessing.normalize(knn_arr + knn_arr.T, norm=\"l1\")\n",
    "\n",
    "    diff_op = np.asarray(tr_prob * knn_arr + (1 - tr_prob) * np.eye(knn_arr.shape[0]))\n",
    "\n",
    "    diff_umis = norm_umis.copy()\n",
    "    for t in range(time_steps):\n",
    "        diff_umis = diff_op.dot(diff_umis)\n",
    "\n",
    "    return diff_umis * row_sums"
   ]
  },
  {
   "cell_type": "code",
   "execution_count": 51,
   "metadata": {},
   "outputs": [],
   "source": [
    "\n",
    "def plot_prc(data, test, ax=None, label=None):\n",
    "    # this function calculates the area under the precision-recall curve\n",
    "    # defining \"true positive\" as anything with a p-val above the threshold\n",
    "\n",
    "    # data - true hits calculated from the real data (boolean array)\n",
    "    # test - a sequence of z-values from observed/denoised data\n",
    "\n",
    "    # calculate for every score we see\n",
    "    scores = sorted(test)\n",
    "\n",
    "    precision, recall, _ = sklearn.metrics.precision_recall_curve(data, test)\n",
    "\n",
    "    auprc = sum(precision[i] * (recall[i - 1] - recall[i]) for i in range(1, len(precision)))\n",
    "\n",
    "    if ax is not None:\n",
    "        ax.plot(recall, precision, label=label)\n",
    "    else:\n",
    "        fig,ax = plt.subplots(1, 1, figsize=(8,8))\n",
    "\n",
    "        ax.set_title(f'Precision-Recall Curve\\nAUPRC: {auprc:.3f}')\n",
    "        ax.set_xlabel('Recall')\n",
    "        ax.set_ylabel('Precision')\n",
    "        ax.plot(recall, precision)\n",
    "\n",
    "        plt.show()\n",
    "    \n",
    "    return auprc"
   ]
  },
  {
   "cell_type": "code",
   "execution_count": 3,
   "metadata": {},
   "outputs": [],
   "source": [
    "liver_deep = sc.read_h5ad(\"../data/tabula_muris_senis/liver_deep.h5ad\")\n",
    "cell_meta = pd.DataFrame({\"pop\": liver_deep.obs['cell_ontology_class'].map(lambda c: {'hepatocyte': 0, 'Kupffer cell': 1}[c])})\n",
    "obs_counts = np.asarray(liver_deep.X.copy().todense())\n",
    "true_counts = np.asarray(liver_deep.obsm['X_true'].todense())"
   ]
  },
  {
   "cell_type": "code",
   "execution_count": 5,
   "metadata": {},
   "outputs": [],
   "source": [
    "# filtering to genes that have >50 UMIs in both clusters\n",
    "\n",
    "ix = np.ones(true_counts.shape[1], dtype=bool)\n",
    "\n",
    "for i in range(2):\n",
    "    ix &= true_counts[cell_meta['pop'] == i, :].sum(0) > 50\n",
    "\n",
    "obs_counts = obs_counts[:, ix]\n",
    "true_counts = true_counts[:, ix]"
   ]
  },
  {
   "cell_type": "code",
   "execution_count": 60,
   "metadata": {},
   "outputs": [],
   "source": [
    "def calc_diff_genes_mannwhitney_u(X, cell_meta):\n",
    "    diff_genes = dict()\n",
    "\n",
    "    for i,j in itertools.combinations(sorted(set(cell_meta['pop'])), 2):\n",
    "        xi = X[cell_meta['pop'] == i, :]\n",
    "        xj = X[cell_meta['pop'] == j, :]\n",
    "        \n",
    "        diff_genes[i,j] = array_mannwhitneyu.mannwhitneyu(xi, xj)[0]\n",
    "    return diff_genes\n",
    "\n",
    "\n",
    "def calc_diff_genes_mannwhitney_p(X, cell_meta):\n",
    "    diff_genes = dict()\n",
    "\n",
    "    for i,j in itertools.combinations(sorted(set(cell_meta['pop'])), 2):\n",
    "        xi = X[cell_meta['pop'] == i, :]\n",
    "        xj = X[cell_meta['pop'] == j, :]\n",
    "        \n",
    "        diff_genes[i,j] = array_mannwhitneyu.mannwhitneyu(xi, xj)[1]\n",
    "    return diff_genes\n"
   ]
  },
  {
   "cell_type": "code",
   "execution_count": null,
   "metadata": {},
   "outputs": [],
   "source": [
    "diffusion_grid_search = GridSearchMCV(\n",
    "    diffusion,\n",
    "    param_grid={\n",
    "        \"time_steps\": np.arange(2, 11),\n",
    "        \"n_components\": [50],\n",
    "        \"n_neighbors\": [40],\n",
    "        \"tr_prob\": [0.5],\n",
    "    },\n",
    "    data_split=0.9,\n",
    "    n_splits=5,\n",
    "    loss=\"poisson\",\n",
    "    random_state=np.random.RandomState(seed),\n",
    ").fit(obs_counts.astype(int))\n",
    "\n",
    "diffusion_mcv = pd.DataFrame(diffusion_grid_search.cv_results_)\n",
    "\n",
    "diffusion_mcv.loc[diffusion_mcv[\"mcv_loss\"].argmin()]"
   ]
  },
  {
   "cell_type": "code",
   "execution_count": 71,
   "metadata": {},
   "outputs": [
    {
     "data": {
      "text/plain": [
       "mcv_loss         0.091904\n",
       "n_components    50.000000\n",
       "n_neighbors     40.000000\n",
       "time_steps       4.000000\n",
       "tr_prob          0.500000\n",
       "Name: 2, dtype: float64"
      ]
     },
     "execution_count": 71,
     "metadata": {},
     "output_type": "execute_result"
    }
   ],
   "source": [
    "diffusion_mcv.loc[diffusion_mcv[\"mcv_loss\"].argmin()]"
   ]
  },
  {
   "cell_type": "code",
   "execution_count": 72,
   "metadata": {},
   "outputs": [
    {
     "data": {
      "image/png": "[encoded data removed]",
      "text/plain": [
       "<Figure size 432x432 with 1 Axes>"
      ]
     },
     "metadata": {
      "needs_background": "light"
     },
     "output_type": "display_data"
    }
   ],
   "source": [
    "fig,ax = plt.subplots(1, 1, figsize=(6, 6))\n",
    "\n",
    "ax.plot(np.arange(2, 11), diffusion_mcv[\"mcv_loss\"], marker=\"o\")\n",
    "\n",
    "plt.show()"
   ]
  },
  {
   "cell_type": "code",
   "execution_count": 57,
   "metadata": {},
   "outputs": [],
   "source": [
    "opt_diffusion = diffusion(obs_counts, 4, 50, 40, 0.9, sum(map(ord, \"optimal\")))\n",
    "too_smooth = diffusion(obs_counts, 10, 50, 40, 0.9, sum(map(ord, \"too_smooth\")))\n",
    "not_smooth_enough = diffusion(\n",
    "    obs_counts, 2, 50, 40, 0.9, sum(map(ord, \"not_smooth_enough\")),\n",
    ")"
   ]
  },
  {
   "cell_type": "code",
   "execution_count": 73,
   "metadata": {},
   "outputs": [],
   "source": [
    "true_dg = calc_diff_genes_mannwhitney_p(true_counts, cell_meta)[0, 1] < np.log(1e-6)\n",
    "total_p = true_dg.sum()\n",
    "\n",
    "obs_dg = calc_diff_genes_mannwhitney_p(obs_counts, cell_meta)[0, 1]\n",
    "opt_dg = calc_diff_genes_mannwhitney_p(opt_diffusion, cell_meta)[0, 1]\n",
    "ts_dg = calc_diff_genes_mannwhitney_p(too_smooth, cell_meta)[0, 1]\n",
    "nse_dg = calc_diff_genes_mannwhitney_p(not_smooth_enough, cell_meta)[0, 1]"
   ]
  },
  {
   "cell_type": "code",
   "execution_count": 95,
   "metadata": {},
   "outputs": [
    {
     "data": {
      "text/plain": [
       "array([-320.87949508, -313.83779153,  -12.36919005,   -1.1082295 ])"
      ]
     },
     "execution_count": 95,
     "metadata": {},
     "output_type": "execute_result"
    }
   ],
   "source": [
    "np.percentile(opt_dg, (20, 50, 95, 99))"
   ]
  },
  {
   "cell_type": "code",
   "execution_count": 102,
   "metadata": {},
   "outputs": [
    {
     "data": {
      "text/plain": [
       "-143.3171790280731"
      ]
     },
     "execution_count": 102,
     "metadata": {},
     "output_type": "execute_result"
    }
   ],
   "source": [
    "np.log10(np.exp(-330))"
   ]
  },
  {
   "cell_type": "code",
   "execution_count": 93,
   "metadata": {},
   "outputs": [
    {
     "data": {
      "text/plain": [
       "609"
      ]
     },
     "execution_count": 93,
     "metadata": {},
     "output_type": "execute_result"
    }
   ],
   "source": [
    "(obs_dg < np.log(1e-30)).sum()"
   ]
  },
  {
   "cell_type": "code",
   "execution_count": 106,
   "metadata": {},
   "outputs": [
    {
     "data": {
      "text/plain": [
       "(array([ 174.,  175.,  198.,  211.,  240.,  237.,  308.,  600.,  414.,\n",
       "        3809.]),\n",
       " array([1.10461409e-02, 2.53058424e+00, 5.05012233e+00, 7.56966043e+00,\n",
       "        1.00891985e+01, 1.26087366e+01, 1.51282747e+01, 1.76478128e+01,\n",
       "        2.01673509e+01, 2.26868890e+01, 2.52064271e+01]),\n",
       " <a list of 10 Patch objects>)"
      ]
     },
     "execution_count": 106,
     "metadata": {},
     "output_type": "execute_result"
    },
    {
     "data": {
      "image/png": "[encoded data removed]",
      "text/plain": [
       "<Figure size 432x288 with 1 Axes>"
      ]
     },
     "metadata": {
      "needs_background": "light"
     },
     "output_type": "display_data"
    }
   ],
   "source": [
    "plt.hist(calc_diff_genes_mannwhitney_u(opt_diffusion, cell_meta)[0,1])"
   ]
  },
  {
   "cell_type": "code",
   "execution_count": 104,
   "metadata": {},
   "outputs": [
    {
     "name": "stdout",
     "output_type": "stream",
     "text": [
      "for raw:\n",
      "\t1e-100\t167\t0\tprecision 1.000\trecall: 0.044\n",
      "\t1e-110\t139\t0\tprecision 1.000\trecall: 0.036\n",
      "\t1e-120\t130\t0\tprecision 1.000\trecall: 0.034\n",
      "\t1e-130\t109\t0\tprecision 1.000\trecall: 0.028\n",
      "for opt:\n",
      "\t1e-100\t3328\t698\tprecision 0.827\trecall: 0.868\n",
      "\t1e-110\t3249\t614\tprecision 0.841\trecall: 0.848\n",
      "\t1e-120\t3167\t529\tprecision 0.857\trecall: 0.826\n",
      "\t1e-130\t3045\t405\tprecision 0.883\trecall: 0.795\n",
      "for smooth:\n",
      "\t1e-100\t3694\t1476\tprecision 0.715\trecall: 0.964\n",
      "\t1e-110\t3673\t1418\tprecision 0.721\trecall: 0.959\n",
      "\t1e-120\t3655\t1339\tprecision 0.732\trecall: 0.954\n",
      "\t1e-130\t3627\t1245\tprecision 0.744\trecall: 0.947\n",
      "for not:\n",
      "\t1e-100\t2862\t193\tprecision 0.937\trecall: 0.747\n",
      "\t1e-110\t2679\t136\tprecision 0.952\trecall: 0.699\n",
      "\t1e-120\t2453\t89\tprecision 0.965\trecall: 0.640\n",
      "\t1e-130\t2174\t38\tprecision 0.983\trecall: 0.567\n"
     ]
    },
    {
     "data": {
      "image/png": "[encoded data removed]",
      "text/plain": [
       "<Figure size 1152x432 with 2 Axes>"
      ]
     },
     "metadata": {
      "needs_background": "light"
     },
     "output_type": "display_data"
    }
   ],
   "source": [
    "cutoffs = 10.**(np.arange(-100, -131, -10))\n",
    "fig,ax = plt.subplots(1, 2, figsize=(16, 6))\n",
    "\n",
    "for i,(lbl,dg) in enumerate(zip((\"raw\", \"opt\", \"smooth\", \"not\"), (obs_dg, opt_dg, ts_dg, nse_dg))):\n",
    "    precision = []\n",
    "    recall = []\n",
    "\n",
    "    print(f\"for {lbl}:\")\n",
    "    \n",
    "    for cutoff in cutoffs:\n",
    "        logp = np.log(cutoff)\n",
    "        tp = (true_dg & (dg < logp)).sum()\n",
    "        fp = ((~true_dg) & (dg < logp)).sum()\n",
    "        \n",
    "        precision.append(tp / (tp + fp))\n",
    "        recall.append(tp / total_p)\n",
    "        print(f\"\\t{cutoff}\\t{tp}\\t{fp}\\tprecision {tp / (tp + fp):.3f}\\trecall: {tp / total_p:.3f}\")\n",
    "\n",
    "    ax[0].bar(np.arange(1, 5) + i * 0.2 + 0.2, precision, width=0.2)\n",
    "    ax[1].bar(np.arange(1, 5) + i * 0.2 + 0.2, recall, width=0.2)\n",
    "\n",
    "ax[0].set_xticks(np.arange(1, 5) + 0.5)\n",
    "ax[1].set_xticks(np.arange(1, 5) + 0.5)\n",
    "ax[0].set_xticklabels(cutoffs)\n",
    "ax[1].set_xticklabels(cutoffs)\n",
    "\n",
    "plt.show()"
   ]
  },
  {
   "cell_type": "code",
   "execution_count": 56,
   "metadata": {},
   "outputs": [
    {
     "name": "stdout",
     "output_type": "stream",
     "text": [
      "raw\n",
      "0.9685846859876702\n",
      "opt\n",
      "0.9144433024338862\n",
      "smooth\n",
      "0.862469285348904\n",
      "not\n",
      "0.9467660463901844\n"
     ]
    },
    {
     "data": {
      "image/png": "[encoded data removed]",
      "text/plain": [
       "<Figure size 576x576 with 1 Axes>"
      ]
     },
     "metadata": {
      "needs_background": "light"
     },
     "output_type": "display_data"
    }
   ],
   "source": [
    "fig,ax = plt.subplots(1, 1, figsize=(8, 8))\n",
    "\n",
    "for z,(lbl,d) in enumerate(zip(\n",
    "    (\"Raw counts\", \"Optimal Diffusion\", \"Too Smooth\", \"Not Smooth Enough\"), \n",
    "    (obs_counts, opt_diffusion, too_smooth, not_smooth_enough)\n",
    ")):\n",
    "    mannwhitney_up = calc_diff_genes_mannwhitney_up(d, cell_meta)[0, 1]\n",
    "    print(lbl)\n",
    "    print(plot_prc(true_dg, mannwhitney_up, ax=ax, label=lbl))\n",
    "\n",
    "ax.set_xlim(-0.05, 1.05)\n",
    "ax.set_ylim(-0.05, 1.05)\n",
    "\n",
    "ax.legend()\n",
    "plt.show()"
   ]
  },
  {
   "cell_type": "code",
   "execution_count": null,
   "metadata": {},
   "outputs": [],
   "source": []
  }
 ],
 "metadata": {
  "kernelspec": {
   "display_name": "Python [conda env:mcv]",
   "language": "python",
   "name": "conda-env-mcv-py"
  },
  "language_info": {
   "codemirror_mode": {
    "name": "ipython",
    "version": 3
   },
   "file_extension": ".py",
   "mimetype": "text/x-python",
   "name": "python",
   "nbconvert_exporter": "python",
   "pygments_lexer": "ipython3",
   "version": "3.7.6"
  }
 },
 "nbformat": 4,
 "nbformat_minor": 4
}
