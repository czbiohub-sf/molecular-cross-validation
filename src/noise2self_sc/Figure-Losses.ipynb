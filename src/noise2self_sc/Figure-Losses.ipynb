{
 "cells": [
  {
   "cell_type": "code",
   "execution_count": null,
   "metadata": {},
   "outputs": [],
   "source": [
    "%load_ext autoreload\n",
    "%autoreload 2\n",
    "from matplotlib import pyplot as plt\n",
    "%matplotlib inline"
   ]
  },
  {
   "cell_type": "code",
   "execution_count": 2,
   "metadata": {},
   "outputs": [],
   "source": [
    "import numpy as np\n",
    "import pickle\n",
    "import glob\n",
    "import os"
   ]
  },
  {
   "cell_type": "code",
   "execution_count": 6,
   "metadata": {},
   "outputs": [],
   "source": [
    "import pandas as pd\n",
    "import altair as alt\n",
    "\n",
    "alt.__version__"
   ]
  },
  {
   "cell_type": "code",
   "execution_count": 3,
   "metadata": {},
   "outputs": [],
   "source": [
    "param_names = {\n",
    "    'pca': 'Principal Components',\n",
    "    'diffusion': 'Diffusion Time',\n",
    "    'autoencoder': 'Bottleneck Width'\n",
    "}"
   ]
  },
  {
   "cell_type": "code",
   "execution_count": 16,
   "metadata": {},
   "outputs": [],
   "source": [
    "results = {}\n",
    "result_files = glob.glob('../../results/*.pickle')\n",
    "for file in result_files:\n",
    "    results[os.path.basename(file).split('.')[0]] = pickle.load(open(file, 'rb'))"
   ]
  },
  {
   "cell_type": "code",
   "execution_count": 17,
   "metadata": {},
   "outputs": [
    {
     "data": {
      "text/plain": [
       "dict_keys(['sim_diffusion_poisson', 'hca_diffusion_mse', 'paul_autoencoder_mse', 'neuron_diffusion_mse', 'sim_autoencoder_poisson', 'neuron_autoencoder_pois', 'neuron_pca_mse', 'hca_diffusion_poisson', 'paul_noise2self_autoencoder_mse', 'sim_pca_mse', 'paul_noise2self_autoencoder_poisson', 'paul_autoencoder_poisson', 'sim_autoencoder_mse', 'hca_autoencoder_mse', 'hca_autoencoder_poisson', 'sim_noise2self_autoencoder_mse', 'hca_pca_mse', 'sim_noise2self_autoencoder_poisson', 'sim_diffusion_mse', 'neuron_autoencoder_mse'])"
      ]
     },
     "execution_count": 17,
     "metadata": {},
     "output_type": "execute_result"
    }
   ],
   "source": [
    "results.keys()"
   ]
  },
  {
   "cell_type": "code",
   "execution_count": 32,
   "metadata": {},
   "outputs": [],
   "source": [
    "pca_df = pd.DataFrame(results['neuron_pca_mse'])\n",
    "diffusion_df = pd.DataFrame(results['neuron_diffusion_mse'])\n",
    "autoencoder_df = pd.DataFrame(results['neuron_autoencoder_mse'])"
   ]
  },
  {
   "cell_type": "code",
   "execution_count": 35,
   "metadata": {},
   "outputs": [
    {
     "data": {
      "application/vnd.vegalite.v2+json": {
       "$schema": "https://vega.github.io/schema/vega-lite/v2.6.0.json",
       "background": "white",
       "config": {
        "axis": {
         "grid": false
        },
        "view": {
         "height": 300,
         "width": 400
        }
       },
       "datasets": {
        "data-d869421a8ba5e0319c88183e501d4951": [
         {
          "dataset": "neuron",
          "gt_loss": 0.097808837890625,
          "loss": "mse",
          "method": "autoencoder",
          "param_range": 1,
          "re_loss": 0.24887218326330185,
          "ss_loss": 0.2505534887313843
         },
         {
          "dataset": "neuron",
          "gt_loss": 0.07068635895848274,
          "loss": "mse",
          "method": "autoencoder",
          "param_range": 2,
          "re_loss": 0.2204759567975998,
          "ss_loss": 0.22291935980319977
         },
         {
          "dataset": "neuron",
          "gt_loss": 0.06733537465333939,
          "loss": "mse",
          "method": "autoencoder",
          "param_range": 3,
          "re_loss": 0.21359330415725708,
          "ss_loss": 0.21941963583230972
         },
         {
          "dataset": "neuron",
          "gt_loss": 0.059676697477698326,
          "loss": "mse",
          "method": "autoencoder",
          "param_range": 4,
          "re_loss": 0.20931168645620346,
          "ss_loss": 0.2116454914212227
         },
         {
          "dataset": "neuron",
          "gt_loss": 0.05603451654314995,
          "loss": "mse",
          "method": "autoencoder",
          "param_range": 6,
          "re_loss": 0.20440681278705597,
          "ss_loss": 0.20813026279211044
         },
         {
          "dataset": "neuron",
          "gt_loss": 0.051069287583231926,
          "loss": "mse",
          "method": "autoencoder",
          "param_range": 8,
          "re_loss": 0.19943629950284958,
          "ss_loss": 0.20306316018104553
         },
         {
          "dataset": "neuron",
          "gt_loss": 0.05203747935593128,
          "loss": "mse",
          "method": "autoencoder",
          "param_range": 12,
          "re_loss": 0.20088515430688858,
          "ss_loss": 0.20397380739450455
         },
         {
          "dataset": "neuron",
          "gt_loss": 0.04778282716870308,
          "loss": "mse",
          "method": "autoencoder",
          "param_range": 16,
          "re_loss": 0.19662468135356903,
          "ss_loss": 0.19958728551864624
         },
         {
          "dataset": "neuron",
          "gt_loss": 0.046926502138376236,
          "loss": "mse",
          "method": "autoencoder",
          "param_range": 24,
          "re_loss": 0.19585929811000824,
          "ss_loss": 0.1987534537911415
         },
         {
          "dataset": "neuron",
          "gt_loss": 0.04608321003615856,
          "loss": "mse",
          "method": "autoencoder",
          "param_range": 32,
          "re_loss": 0.1948534995317459,
          "ss_loss": 0.19794291257858276
         },
         {
          "dataset": "neuron",
          "gt_loss": 0.04570515640079975,
          "loss": "mse",
          "method": "autoencoder",
          "param_range": 48,
          "re_loss": 0.19432198256254196,
          "ss_loss": 0.19752833992242813
         },
         {
          "dataset": "neuron",
          "gt_loss": 0.045404231175780296,
          "loss": "mse",
          "method": "autoencoder",
          "param_range": 64,
          "re_loss": 0.19383122771978378,
          "ss_loss": 0.19725701957941055
         },
         {
          "dataset": "neuron",
          "gt_loss": 0.044722385704517365,
          "loss": "mse",
          "method": "autoencoder",
          "param_range": 96,
          "re_loss": 0.19289828836917877,
          "ss_loss": 0.1965605616569519
         },
         {
          "dataset": "neuron",
          "gt_loss": 0.044809404760599136,
          "loss": "mse",
          "method": "autoencoder",
          "param_range": 128,
          "re_loss": 0.19290508329868317,
          "ss_loss": 0.19664597511291504
         }
        ],
        "data-ef78ae0f288be8c6a09250f0b5b35ef6": [
         {
          "dataset": "neuron",
          "gt_loss": 0.14731451088166714,
          "loss": "mse",
          "method": "pca",
          "normalization": "sqrt",
          "param_range": 1,
          "re_loss": 0.3004240278424742,
          "ss_loss": 0.3007659206471565
         },
         {
          "dataset": "neuron",
          "gt_loss": 0.0912595494487344,
          "loss": "mse",
          "method": "pca",
          "normalization": "sqrt",
          "param_range": 2,
          "re_loss": 0.24282453259757952,
          "ss_loss": 0.24347513294131515
         },
         {
          "dataset": "neuron",
          "gt_loss": 0.06618988802846958,
          "loss": "mse",
          "method": "pca",
          "normalization": "sqrt",
          "param_range": 3,
          "re_loss": 0.217143300441197,
          "ss_loss": 0.21800050615719155
         },
         {
          "dataset": "neuron",
          "gt_loss": 0.056001517508345526,
          "loss": "mse",
          "method": "pca",
          "normalization": "sqrt",
          "param_range": 4,
          "re_loss": 0.20640890650156946,
          "ss_loss": 0.20754913334603656
         },
         {
          "dataset": "neuron",
          "gt_loss": 0.04955320059827069,
          "loss": "mse",
          "method": "pca",
          "normalization": "sqrt",
          "param_range": 5,
          "re_loss": 0.19960209125805572,
          "ss_loss": 0.2010111430327536
         },
         {
          "dataset": "neuron",
          "gt_loss": 0.04521753381248901,
          "loss": "mse",
          "method": "pca",
          "normalization": "sqrt",
          "param_range": 6,
          "re_loss": 0.19491336719299032,
          "ss_loss": 0.19659768607147687
         },
         {
          "dataset": "neuron",
          "gt_loss": 0.04275067491399528,
          "loss": "mse",
          "method": "pca",
          "normalization": "sqrt",
          "param_range": 7,
          "re_loss": 0.1921172764991581,
          "ss_loss": 0.19409799346047363
         },
         {
          "dataset": "neuron",
          "gt_loss": 0.04100160069869774,
          "loss": "mse",
          "method": "pca",
          "normalization": "sqrt",
          "param_range": 8,
          "re_loss": 0.19006685090607345,
          "ss_loss": 0.19236603818193662
         },
         {
          "dataset": "neuron",
          "gt_loss": 0.03949037690680324,
          "loss": "mse",
          "method": "pca",
          "normalization": "sqrt",
          "param_range": 9,
          "re_loss": 0.18825152505624504,
          "ss_loss": 0.19086822204883402
         },
         {
          "dataset": "neuron",
          "gt_loss": 0.0382881246175817,
          "loss": "mse",
          "method": "pca",
          "normalization": "sqrt",
          "param_range": 10,
          "re_loss": 0.1867484743258056,
          "ss_loss": 0.18967272285456396
         },
         {
          "dataset": "neuron",
          "gt_loss": 0.037286267214093026,
          "loss": "mse",
          "method": "pca",
          "normalization": "sqrt",
          "param_range": 11,
          "re_loss": 0.18544512010937156,
          "ss_loss": 0.18866750227290408
         },
         {
          "dataset": "neuron",
          "gt_loss": 0.03636344173297428,
          "loss": "mse",
          "method": "pca",
          "normalization": "sqrt",
          "param_range": 12,
          "re_loss": 0.18422730857633055,
          "ss_loss": 0.18776352917013459
         },
         {
          "dataset": "neuron",
          "gt_loss": 0.035591651819273616,
          "loss": "mse",
          "method": "pca",
          "normalization": "sqrt",
          "param_range": 13,
          "re_loss": 0.18314779082650595,
          "ss_loss": 0.1869987985626635
         },
         {
          "dataset": "neuron",
          "gt_loss": 0.034931037656609855,
          "loss": "mse",
          "method": "pca",
          "normalization": "sqrt",
          "param_range": 14,
          "re_loss": 0.18216952071555867,
          "ss_loss": 0.18636170939599392
         },
         {
          "dataset": "neuron",
          "gt_loss": 0.034428845000323394,
          "loss": "mse",
          "method": "pca",
          "normalization": "sqrt",
          "param_range": 15,
          "re_loss": 0.18136299128701477,
          "ss_loss": 0.1858783350943222
         },
         {
          "dataset": "neuron",
          "gt_loss": 0.03395080928102715,
          "loss": "mse",
          "method": "pca",
          "normalization": "sqrt",
          "param_range": 16,
          "re_loss": 0.1805832174758903,
          "ss_loss": 0.1854212300574068
         },
         {
          "dataset": "neuron",
          "gt_loss": 0.033551508212705375,
          "loss": "mse",
          "method": "pca",
          "normalization": "sqrt",
          "param_range": 17,
          "re_loss": 0.17987140666597878,
          "ss_loss": 0.18505742576898873
         },
         {
          "dataset": "neuron",
          "gt_loss": 0.03319986696633397,
          "loss": "mse",
          "method": "pca",
          "normalization": "sqrt",
          "param_range": 18,
          "re_loss": 0.1792106814644998,
          "ss_loss": 0.18472963502112086
         },
         {
          "dataset": "neuron",
          "gt_loss": 0.032916933376194515,
          "loss": "mse",
          "method": "pca",
          "normalization": "sqrt",
          "param_range": 19,
          "re_loss": 0.17859874146647858,
          "ss_loss": 0.18447115896475066
         },
         {
          "dataset": "neuron",
          "gt_loss": 0.03265531887935172,
          "loss": "mse",
          "method": "pca",
          "normalization": "sqrt",
          "param_range": 20,
          "re_loss": 0.17801389379240717,
          "ss_loss": 0.18424190100744148
         },
         {
          "dataset": "neuron",
          "gt_loss": 0.032411830139792604,
          "loss": "mse",
          "method": "pca",
          "normalization": "sqrt",
          "param_range": 21,
          "re_loss": 0.177444286668395,
          "ss_loss": 0.184034750270402
         },
         {
          "dataset": "neuron",
          "gt_loss": 0.03217906552746201,
          "loss": "mse",
          "method": "pca",
          "normalization": "sqrt",
          "param_range": 22,
          "re_loss": 0.17689204549557885,
          "ss_loss": 0.18381434233840818
         },
         {
          "dataset": "neuron",
          "gt_loss": 0.03196238624171107,
          "loss": "mse",
          "method": "pca",
          "normalization": "sqrt",
          "param_range": 23,
          "re_loss": 0.17636351667102343,
          "ss_loss": 0.18362580722503705
         },
         {
          "dataset": "neuron",
          "gt_loss": 0.03178398799152046,
          "loss": "mse",
          "method": "pca",
          "normalization": "sqrt",
          "param_range": 24,
          "re_loss": 0.175857806981168,
          "ss_loss": 0.18349854099521357
         },
         {
          "dataset": "neuron",
          "gt_loss": 0.03169902274004838,
          "loss": "mse",
          "method": "pca",
          "normalization": "sqrt",
          "param_range": 25,
          "re_loss": 0.17539014229538527,
          "ss_loss": 0.18345617488127403
         },
         {
          "dataset": "neuron",
          "gt_loss": 0.03154197502155526,
          "loss": "mse",
          "method": "pca",
          "normalization": "sqrt",
          "param_range": 26,
          "re_loss": 0.1749439933402137,
          "ss_loss": 0.18332353887462827
         },
         {
          "dataset": "neuron",
          "gt_loss": 0.03150317950597419,
          "loss": "mse",
          "method": "pca",
          "normalization": "sqrt",
          "param_range": 27,
          "re_loss": 0.17451150923659625,
          "ss_loss": 0.1833107086048935
         },
         {
          "dataset": "neuron",
          "gt_loss": 0.03141462686387725,
          "loss": "mse",
          "method": "pca",
          "normalization": "sqrt",
          "param_range": 28,
          "re_loss": 0.17408683327294255,
          "ss_loss": 0.18325331261276426
         },
         {
          "dataset": "neuron",
          "gt_loss": 0.031385325192463676,
          "loss": "mse",
          "method": "pca",
          "normalization": "sqrt",
          "param_range": 29,
          "re_loss": 0.17368078218064942,
          "ss_loss": 0.1832592904788924
         },
         {
          "dataset": "neuron",
          "gt_loss": 0.03139078191173721,
          "loss": "mse",
          "method": "pca",
          "normalization": "sqrt",
          "param_range": 30,
          "re_loss": 0.17329459593004884,
          "ss_loss": 0.18332039206396278
         },
         {
          "dataset": "neuron",
          "gt_loss": 0.03139929058519127,
          "loss": "mse",
          "method": "pca",
          "normalization": "sqrt",
          "param_range": 31,
          "re_loss": 0.17291101618629923,
          "ss_loss": 0.1833705208193839
         },
         {
          "dataset": "neuron",
          "gt_loss": 0.03149348175286247,
          "loss": "mse",
          "method": "pca",
          "normalization": "sqrt",
          "param_range": 32,
          "re_loss": 0.1725542592696004,
          "ss_loss": 0.1835165421867354
         },
         {
          "dataset": "neuron",
          "gt_loss": 0.03158715820306018,
          "loss": "mse",
          "method": "pca",
          "normalization": "sqrt",
          "param_range": 33,
          "re_loss": 0.17220587425376235,
          "ss_loss": 0.183664879703959
         },
         {
          "dataset": "neuron",
          "gt_loss": 0.03172276102190235,
          "loss": "mse",
          "method": "pca",
          "normalization": "sqrt",
          "param_range": 34,
          "re_loss": 0.17186917987788794,
          "ss_loss": 0.18384947305228533
         },
         {
          "dataset": "neuron",
          "gt_loss": 0.03184179651084948,
          "loss": "mse",
          "method": "pca",
          "normalization": "sqrt",
          "param_range": 35,
          "re_loss": 0.17153509130652464,
          "ss_loss": 0.18401982026062552
         },
         {
          "dataset": "neuron",
          "gt_loss": 0.03199017658654262,
          "loss": "mse",
          "method": "pca",
          "normalization": "sqrt",
          "param_range": 36,
          "re_loss": 0.17120660515910555,
          "ss_loss": 0.18421062719483136
         },
         {
          "dataset": "neuron",
          "gt_loss": 0.032123783023688686,
          "loss": "mse",
          "method": "pca",
          "normalization": "sqrt",
          "param_range": 37,
          "re_loss": 0.1708792436775224,
          "ss_loss": 0.18440290892932135
         },
         {
          "dataset": "neuron",
          "gt_loss": 0.032292178270451305,
          "loss": "mse",
          "method": "pca",
          "normalization": "sqrt",
          "param_range": 38,
          "re_loss": 0.17055489500923615,
          "ss_loss": 0.18463197026649444
         },
         {
          "dataset": "neuron",
          "gt_loss": 0.032484685129755234,
          "loss": "mse",
          "method": "pca",
          "normalization": "sqrt",
          "param_range": 39,
          "re_loss": 0.1702317006800142,
          "ss_loss": 0.18487563749978758
         },
         {
          "dataset": "neuron",
          "gt_loss": 0.03268495496070516,
          "loss": "mse",
          "method": "pca",
          "normalization": "sqrt",
          "param_range": 40,
          "re_loss": 0.16991448309230214,
          "ss_loss": 0.18512554858716737
         },
         {
          "dataset": "neuron",
          "gt_loss": 0.032883183519744244,
          "loss": "mse",
          "method": "pca",
          "normalization": "sqrt",
          "param_range": 41,
          "re_loss": 0.1695995161310183,
          "ss_loss": 0.18537919537023492
         },
         {
          "dataset": "neuron",
          "gt_loss": 0.0330510224238797,
          "loss": "mse",
          "method": "pca",
          "normalization": "sqrt",
          "param_range": 42,
          "re_loss": 0.16928625685287235,
          "ss_loss": 0.18559879658711648
         },
         {
          "dataset": "neuron",
          "gt_loss": 0.03324450074931322,
          "loss": "mse",
          "method": "pca",
          "normalization": "sqrt",
          "param_range": 43,
          "re_loss": 0.16897743148169067,
          "ss_loss": 0.1858481946780588
         },
         {
          "dataset": "neuron",
          "gt_loss": 0.03341581195084086,
          "loss": "mse",
          "method": "pca",
          "normalization": "sqrt",
          "param_range": 44,
          "re_loss": 0.16867044672595108,
          "ss_loss": 0.18607312332491968
         },
         {
          "dataset": "neuron",
          "gt_loss": 0.033596619959051645,
          "loss": "mse",
          "method": "pca",
          "normalization": "sqrt",
          "param_range": 45,
          "re_loss": 0.16836553376578914,
          "ss_loss": 0.18630241397687253
         },
         {
          "dataset": "neuron",
          "gt_loss": 0.033802901544026355,
          "loss": "mse",
          "method": "pca",
          "normalization": "sqrt",
          "param_range": 46,
          "re_loss": 0.1680634201400366,
          "ss_loss": 0.18657688748535822
         },
         {
          "dataset": "neuron",
          "gt_loss": 0.03398855401710259,
          "loss": "mse",
          "method": "pca",
          "normalization": "sqrt",
          "param_range": 47,
          "re_loss": 0.16776226448954734,
          "ss_loss": 0.18682038474267806
         },
         {
          "dataset": "neuron",
          "gt_loss": 0.034189489548580955,
          "loss": "mse",
          "method": "pca",
          "normalization": "sqrt",
          "param_range": 48,
          "re_loss": 0.16746360284863085,
          "ss_loss": 0.18707301579754593
         },
         {
          "dataset": "neuron",
          "gt_loss": 0.03438426057110375,
          "loss": "mse",
          "method": "pca",
          "normalization": "sqrt",
          "param_range": 49,
          "re_loss": 0.16716634592765806,
          "ss_loss": 0.18732379627767723
         }
        ],
        "data-fc2bdac7428e99bf600dd9f8389db950": [
         {
          "dataset": "neuron",
          "gt_loss": 0.150807615854299,
          "loss": "mse",
          "method": "diffusion",
          "normalization": "sqrt",
          "param_range": 0,
          "re_loss": 0,
          "ss_loss": 0.33861102463675086
         },
         {
          "dataset": "neuron",
          "gt_loss": 0.03400236781074184,
          "loss": "mse",
          "method": "diffusion",
          "normalization": "sqrt",
          "param_range": 1,
          "re_loss": 0.09172644095673094,
          "ss_loss": 0.19617641115756565
         },
         {
          "dataset": "neuron",
          "gt_loss": 0.030513995716986236,
          "loss": "mse",
          "method": "diffusion",
          "normalization": "sqrt",
          "param_range": 2,
          "re_loss": 0.1440769118892469,
          "ss_loss": 0.18588967854876118
         },
         {
          "dataset": "neuron",
          "gt_loss": 0.03236323406718204,
          "loss": "mse",
          "method": "diffusion",
          "normalization": "sqrt",
          "param_range": 3,
          "re_loss": 0.16470850922332306,
          "ss_loss": 0.18549035318930274
         },
         {
          "dataset": "neuron",
          "gt_loss": 0.03409897931911859,
          "loss": "mse",
          "method": "diffusion",
          "normalization": "sqrt",
          "param_range": 4,
          "re_loss": 0.17411613831883505,
          "ss_loss": 0.18633360014634948
         },
         {
          "dataset": "neuron",
          "gt_loss": 0.035503243707852836,
          "loss": "mse",
          "method": "diffusion",
          "normalization": "sqrt",
          "param_range": 5,
          "re_loss": 0.17919668782563933,
          "ss_loss": 0.1873290930481196
         },
         {
          "dataset": "neuron",
          "gt_loss": 0.03667240456670384,
          "loss": "mse",
          "method": "diffusion",
          "normalization": "sqrt",
          "param_range": 6,
          "re_loss": 0.18236917357200166,
          "ss_loss": 0.18828973670335772
         },
         {
          "dataset": "neuron",
          "gt_loss": 0.03768167961575775,
          "loss": "mse",
          "method": "diffusion",
          "normalization": "sqrt",
          "param_range": 7,
          "re_loss": 0.18458757135643458,
          "ss_loss": 0.18918412227382242
         },
         {
          "dataset": "neuron",
          "gt_loss": 0.03857742529954563,
          "loss": "mse",
          "method": "diffusion",
          "normalization": "sqrt",
          "param_range": 8,
          "re_loss": 0.1862744778494586,
          "ss_loss": 0.1900132974079033
         },
         {
          "dataset": "neuron",
          "gt_loss": 0.039388562787849093,
          "loss": "mse",
          "method": "diffusion",
          "normalization": "sqrt",
          "param_range": 9,
          "re_loss": 0.18763744236636487,
          "ss_loss": 0.19078487137967062
         }
        ]
       },
       "vconcat": [
        {
         "hconcat": [
          {
           "data": {
            "name": "data-ef78ae0f288be8c6a09250f0b5b35ef6"
           },
           "encoding": {
            "x": {
             "field": "param_range",
             "title": null,
             "type": "quantitative"
            },
            "y": {
             "field": "re_loss",
             "scale": {
              "domain": [
               0,
               0.35
              ],
              "nice": false
             },
             "title": null,
             "type": "quantitative"
            }
           },
           "height": 160,
           "mark": "line",
           "width": 200
          },
          {
           "data": {
            "name": "data-fc2bdac7428e99bf600dd9f8389db950"
           },
           "encoding": {
            "x": {
             "field": "param_range",
             "title": null,
             "type": "nominal"
            },
            "y": {
             "field": "re_loss",
             "scale": {
              "domain": [
               0,
               0.35
              ],
              "nice": false
             },
             "title": null,
             "type": "quantitative"
            }
           },
           "height": 160,
           "mark": "line",
           "width": 200
          },
          {
           "data": {
            "name": "data-d869421a8ba5e0319c88183e501d4951"
           },
           "encoding": {
            "x": {
             "field": "param_range",
             "title": null,
             "type": "nominal"
            },
            "y": {
             "field": "re_loss",
             "scale": {
              "domain": [
               0,
               0.35
              ],
              "nice": false
             },
             "title": null,
             "type": "quantitative"
            }
           },
           "height": 160,
           "mark": "line",
           "width": 200
          }
         ],
         "resolve": {
          "scale": {
           "x": "independent",
           "y": "shared"
          }
         }
        },
        {
         "hconcat": [
          {
           "data": {
            "name": "data-ef78ae0f288be8c6a09250f0b5b35ef6"
           },
           "encoding": {
            "x": {
             "field": "param_range",
             "title": null,
             "type": "quantitative"
            },
            "y": {
             "field": "gt_loss",
             "scale": {
              "domain": [
               0,
               0.2
              ],
              "nice": false
             },
             "title": null,
             "type": "quantitative"
            }
           },
           "height": 160,
           "mark": "line",
           "width": 200
          },
          {
           "data": {
            "name": "data-fc2bdac7428e99bf600dd9f8389db950"
           },
           "encoding": {
            "x": {
             "field": "param_range",
             "title": null,
             "type": "nominal"
            },
            "y": {
             "field": "gt_loss",
             "scale": {
              "domain": [
               0,
               0.2
              ],
              "nice": false
             },
             "title": null,
             "type": "quantitative"
            }
           },
           "height": 160,
           "mark": "line",
           "width": 200
          },
          {
           "data": {
            "name": "data-d869421a8ba5e0319c88183e501d4951"
           },
           "encoding": {
            "x": {
             "field": "param_range",
             "title": null,
             "type": "nominal"
            },
            "y": {
             "field": "gt_loss",
             "scale": {
              "domain": [
               0,
               0.2
              ],
              "nice": false
             },
             "title": null,
             "type": "quantitative"
            }
           },
           "height": 160,
           "mark": "line",
           "width": 200
          }
         ],
         "resolve": {
          "scale": {
           "x": "independent",
           "y": "shared"
          }
         }
        },
        {
         "hconcat": [
          {
           "data": {
            "name": "data-ef78ae0f288be8c6a09250f0b5b35ef6"
           },
           "encoding": {
            "x": {
             "field": "param_range",
             "title": null,
             "type": "quantitative"
            },
            "y": {
             "field": "ss_loss",
             "scale": {
              "domain": [
               0.15,
               0.35
              ],
              "nice": false
             },
             "title": null,
             "type": "quantitative"
            }
           },
           "height": 160,
           "mark": "line",
           "width": 200
          },
          {
           "data": {
            "name": "data-fc2bdac7428e99bf600dd9f8389db950"
           },
           "encoding": {
            "x": {
             "field": "param_range",
             "title": null,
             "type": "nominal"
            },
            "y": {
             "field": "ss_loss",
             "scale": {
              "domain": [
               0.15,
               0.35
              ],
              "nice": false
             },
             "title": null,
             "type": "quantitative"
            }
           },
           "height": 160,
           "mark": "line",
           "width": 200
          },
          {
           "data": {
            "name": "data-d869421a8ba5e0319c88183e501d4951"
           },
           "encoding": {
            "x": {
             "field": "param_range",
             "title": null,
             "type": "nominal"
            },
            "y": {
             "field": "ss_loss",
             "scale": {
              "domain": [
               0.15,
               0.35
              ],
              "nice": false
             },
             "title": null,
             "type": "quantitative"
            }
           },
           "height": 160,
           "mark": "line",
           "width": 200
          }
         ],
         "resolve": {
          "scale": {
           "x": "independent",
           "y": "shared"
          }
         }
        }
       ]
      },
      "image/png": "[encoded data removed]",
      "text/plain": [
       "<VegaLite 2 object>\n",
       "\n",
       "If you see this message, it means the renderer has not been properly enabled\n",
       "for the frontend that you are using. For more information, see\n",
       "https://altair-viz.github.io/user_guide/troubleshooting.html\n"
      ]
     },
     "execution_count": 35,
     "metadata": {},
     "output_type": "execute_result"
    }
   ],
   "source": [
    "\n",
    "cs = [\n",
    "    alt.Chart(df).properties(width=200, height=160).encode(x=alt.X(f'param_range:{t}', title=None))\n",
    "    for df,t in zip((pca_df, diffusion_df, autoencoder_df), 'QNN')\n",
    "]\n",
    "\n",
    "yscales = [\n",
    "    alt.Scale(domain=(0., 0.35), nice=False),\n",
    "    alt.Scale(domain=(0.0, 0.20), nice=False),\n",
    "    alt.Scale(domain=(0.15, 0.35), nice=False),\n",
    "]\n",
    "\n",
    "alt.vconcat(\n",
    "    *(\n",
    "        alt.hconcat(\n",
    "            *(\n",
    "                c.mark_line().encode(\n",
    "                    y=alt.Y(f'{y_var}:Q', title=None, scale=ys)\n",
    "                )\n",
    "                for c,t in zip(cs, 'QNN')\n",
    "            )\n",
    "        ).resolve_scale(\n",
    "            y='shared'\n",
    "        )\n",
    "        for y_var,ys in zip(('re_loss', 'gt_loss', 'ss_loss'), yscales)\n",
    "    )\n",
    "# ).resolve_scale(\n",
    "#     y='shared'\n",
    ").configure_axis(grid=False).properties(background='white')"
   ]
  },
  {
   "cell_type": "code",
   "execution_count": 19,
   "metadata": {},
   "outputs": [],
   "source": [
    "pca_df = pd.DataFrame(results['sim_pca_mse'])\n",
    "diffusion_df = pd.DataFrame(results['sim_diffusion_mse'])\n",
    "autoencoder_df = pd.DataFrame(results['sim_autoencoder_mse'])"
   ]
  },
  {
   "cell_type": "code",
   "execution_count": 23,
   "metadata": {},
   "outputs": [
    {
     "data": {
      "text/plain": [
       "Index(['dataset', 'method', 'loss', 'normalization', 'param_range', 're_loss',\n",
       "       'ss_loss', 'gt_loss'],\n",
       "      dtype='object')"
      ]
     },
     "execution_count": 23,
     "metadata": {},
     "output_type": "execute_result"
    }
   ],
   "source": [
    "diffusion_df.columns"
   ]
  },
  {
   "cell_type": "code",
   "execution_count": 24,
   "metadata": {},
   "outputs": [
    {
     "data": {
      "text/html": [
       "<div>\n",
       "<style scoped>\n",
       "    .dataframe tbody tr th:only-of-type {\n",
       "        vertical-align: middle;\n",
       "    }\n",
       "\n",
       "    .dataframe tbody tr th {\n",
       "        vertical-align: top;\n",
       "    }\n",
       "\n",
       "    .dataframe thead th {\n",
       "        text-align: right;\n",
       "    }\n",
       "</style>\n",
       "<table border=\"1\" class=\"dataframe\">\n",
       "  <thead>\n",
       "    <tr style=\"text-align: right;\">\n",
       "      <th></th>\n",
       "      <th>dataset</th>\n",
       "      <th>method</th>\n",
       "      <th>loss</th>\n",
       "      <th>normalization</th>\n",
       "      <th>param_range</th>\n",
       "      <th>re_loss</th>\n",
       "      <th>ss_loss</th>\n",
       "      <th>gt_loss</th>\n",
       "    </tr>\n",
       "  </thead>\n",
       "  <tbody>\n",
       "    <tr>\n",
       "      <th>1</th>\n",
       "      <td>sim</td>\n",
       "      <td>diffusion</td>\n",
       "      <td>mse</td>\n",
       "      <td>sqrt</td>\n",
       "      <td>1</td>\n",
       "      <td>0.092048</td>\n",
       "      <td>0.218035</td>\n",
       "      <td>0.029134</td>\n",
       "    </tr>\n",
       "    <tr>\n",
       "      <th>2</th>\n",
       "      <td>sim</td>\n",
       "      <td>diffusion</td>\n",
       "      <td>mse</td>\n",
       "      <td>sqrt</td>\n",
       "      <td>2</td>\n",
       "      <td>0.145748</td>\n",
       "      <td>0.199938</td>\n",
       "      <td>0.011179</td>\n",
       "    </tr>\n",
       "    <tr>\n",
       "      <th>3</th>\n",
       "      <td>sim</td>\n",
       "      <td>diffusion</td>\n",
       "      <td>mse</td>\n",
       "      <td>sqrt</td>\n",
       "      <td>3</td>\n",
       "      <td>0.169137</td>\n",
       "      <td>0.196523</td>\n",
       "      <td>0.007805</td>\n",
       "    </tr>\n",
       "    <tr>\n",
       "      <th>4</th>\n",
       "      <td>sim</td>\n",
       "      <td>diffusion</td>\n",
       "      <td>mse</td>\n",
       "      <td>sqrt</td>\n",
       "      <td>4</td>\n",
       "      <td>0.180586</td>\n",
       "      <td>0.196083</td>\n",
       "      <td>0.007378</td>\n",
       "    </tr>\n",
       "    <tr>\n",
       "      <th>5</th>\n",
       "      <td>sim</td>\n",
       "      <td>diffusion</td>\n",
       "      <td>mse</td>\n",
       "      <td>sqrt</td>\n",
       "      <td>5</td>\n",
       "      <td>0.186845</td>\n",
       "      <td>0.196418</td>\n",
       "      <td>0.007717</td>\n",
       "    </tr>\n",
       "    <tr>\n",
       "      <th>6</th>\n",
       "      <td>sim</td>\n",
       "      <td>diffusion</td>\n",
       "      <td>mse</td>\n",
       "      <td>sqrt</td>\n",
       "      <td>6</td>\n",
       "      <td>0.190603</td>\n",
       "      <td>0.196962</td>\n",
       "      <td>0.008262</td>\n",
       "    </tr>\n",
       "    <tr>\n",
       "      <th>7</th>\n",
       "      <td>sim</td>\n",
       "      <td>diffusion</td>\n",
       "      <td>mse</td>\n",
       "      <td>sqrt</td>\n",
       "      <td>7</td>\n",
       "      <td>0.193049</td>\n",
       "      <td>0.197544</td>\n",
       "      <td>0.008845</td>\n",
       "    </tr>\n",
       "    <tr>\n",
       "      <th>8</th>\n",
       "      <td>sim</td>\n",
       "      <td>diffusion</td>\n",
       "      <td>mse</td>\n",
       "      <td>sqrt</td>\n",
       "      <td>8</td>\n",
       "      <td>0.194759</td>\n",
       "      <td>0.198112</td>\n",
       "      <td>0.009413</td>\n",
       "    </tr>\n",
       "    <tr>\n",
       "      <th>9</th>\n",
       "      <td>sim</td>\n",
       "      <td>diffusion</td>\n",
       "      <td>mse</td>\n",
       "      <td>sqrt</td>\n",
       "      <td>9</td>\n",
       "      <td>0.196029</td>\n",
       "      <td>0.198648</td>\n",
       "      <td>0.009949</td>\n",
       "    </tr>\n",
       "    <tr>\n",
       "      <th>10</th>\n",
       "      <td>sim</td>\n",
       "      <td>diffusion</td>\n",
       "      <td>mse</td>\n",
       "      <td>sqrt</td>\n",
       "      <td>10</td>\n",
       "      <td>0.197024</td>\n",
       "      <td>0.199149</td>\n",
       "      <td>0.010451</td>\n",
       "    </tr>\n",
       "    <tr>\n",
       "      <th>11</th>\n",
       "      <td>sim</td>\n",
       "      <td>diffusion</td>\n",
       "      <td>mse</td>\n",
       "      <td>sqrt</td>\n",
       "      <td>11</td>\n",
       "      <td>0.197838</td>\n",
       "      <td>0.199616</td>\n",
       "      <td>0.010920</td>\n",
       "    </tr>\n",
       "    <tr>\n",
       "      <th>12</th>\n",
       "      <td>sim</td>\n",
       "      <td>diffusion</td>\n",
       "      <td>mse</td>\n",
       "      <td>sqrt</td>\n",
       "      <td>12</td>\n",
       "      <td>0.198525</td>\n",
       "      <td>0.200053</td>\n",
       "      <td>0.011358</td>\n",
       "    </tr>\n",
       "    <tr>\n",
       "      <th>13</th>\n",
       "      <td>sim</td>\n",
       "      <td>diffusion</td>\n",
       "      <td>mse</td>\n",
       "      <td>sqrt</td>\n",
       "      <td>13</td>\n",
       "      <td>0.199123</td>\n",
       "      <td>0.200461</td>\n",
       "      <td>0.011768</td>\n",
       "    </tr>\n",
       "    <tr>\n",
       "      <th>14</th>\n",
       "      <td>sim</td>\n",
       "      <td>diffusion</td>\n",
       "      <td>mse</td>\n",
       "      <td>sqrt</td>\n",
       "      <td>14</td>\n",
       "      <td>0.199652</td>\n",
       "      <td>0.200844</td>\n",
       "      <td>0.012152</td>\n",
       "    </tr>\n",
       "  </tbody>\n",
       "</table>\n",
       "</div>"
      ],
      "text/plain": [
       "   dataset     method loss normalization  param_range   re_loss   ss_loss  \\\n",
       "1      sim  diffusion  mse          sqrt            1  0.092048  0.218035   \n",
       "2      sim  diffusion  mse          sqrt            2  0.145748  0.199938   \n",
       "3      sim  diffusion  mse          sqrt            3  0.169137  0.196523   \n",
       "4      sim  diffusion  mse          sqrt            4  0.180586  0.196083   \n",
       "5      sim  diffusion  mse          sqrt            5  0.186845  0.196418   \n",
       "6      sim  diffusion  mse          sqrt            6  0.190603  0.196962   \n",
       "7      sim  diffusion  mse          sqrt            7  0.193049  0.197544   \n",
       "8      sim  diffusion  mse          sqrt            8  0.194759  0.198112   \n",
       "9      sim  diffusion  mse          sqrt            9  0.196029  0.198648   \n",
       "10     sim  diffusion  mse          sqrt           10  0.197024  0.199149   \n",
       "11     sim  diffusion  mse          sqrt           11  0.197838  0.199616   \n",
       "12     sim  diffusion  mse          sqrt           12  0.198525  0.200053   \n",
       "13     sim  diffusion  mse          sqrt           13  0.199123  0.200461   \n",
       "14     sim  diffusion  mse          sqrt           14  0.199652  0.200844   \n",
       "\n",
       "     gt_loss  \n",
       "1   0.029134  \n",
       "2   0.011179  \n",
       "3   0.007805  \n",
       "4   0.007378  \n",
       "5   0.007717  \n",
       "6   0.008262  \n",
       "7   0.008845  \n",
       "8   0.009413  \n",
       "9   0.009949  \n",
       "10  0.010451  \n",
       "11  0.010920  \n",
       "12  0.011358  \n",
       "13  0.011768  \n",
       "14  0.012152  "
      ]
     },
     "execution_count": 24,
     "metadata": {},
     "output_type": "execute_result"
    }
   ],
   "source": [
    "diffusion_df[diffusion_df['param_range'] > 0]"
   ]
  },
  {
   "cell_type": "code",
   "execution_count": 31,
   "metadata": {},
   "outputs": [
    {
     "data": {
      "application/vnd.vegalite.v2+json": {
       "$schema": "https://vega.github.io/schema/vega-lite/v2.6.0.json",
       "background": "white",
       "config": {
        "axis": {
         "grid": false
        },
        "view": {
         "height": 300,
         "width": 400
        }
       },
       "datasets": {
        "data-61b9bfb8e97f7a3c3290534f50cbc5e8": [
         {
          "dataset": "sim",
          "gt_loss": 0.019263559952378273,
          "loss": "mse",
          "method": "autoencoder",
          "param_range": 1,
          "re_loss": 0.20612524449825287,
          "ss_loss": 0.2077738344669342
         },
         {
          "dataset": "sim",
          "gt_loss": 0.018225994892418385,
          "loss": "mse",
          "method": "autoencoder",
          "param_range": 2,
          "re_loss": 0.20554960519075394,
          "ss_loss": 0.20683058351278305
         },
         {
          "dataset": "sim",
          "gt_loss": 0.015594800468534231,
          "loss": "mse",
          "method": "autoencoder",
          "param_range": 3,
          "re_loss": 0.20172395557165146,
          "ss_loss": 0.20425719767808914
         },
         {
          "dataset": "sim",
          "gt_loss": 0.015100638382136822,
          "loss": "mse",
          "method": "autoencoder",
          "param_range": 4,
          "re_loss": 0.20058345794677734,
          "ss_loss": 0.20376085489988327
         },
         {
          "dataset": "sim",
          "gt_loss": 0.014114375226199627,
          "loss": "mse",
          "method": "autoencoder",
          "param_range": 6,
          "re_loss": 0.1990441009402275,
          "ss_loss": 0.202790729701519
         },
         {
          "dataset": "sim",
          "gt_loss": 0.01333163632079959,
          "loss": "mse",
          "method": "autoencoder",
          "param_range": 8,
          "re_loss": 0.19713501632213593,
          "ss_loss": 0.20202236622571945
         },
         {
          "dataset": "sim",
          "gt_loss": 0.012348844669759274,
          "loss": "mse",
          "method": "autoencoder",
          "param_range": 12,
          "re_loss": 0.19512004405260086,
          "ss_loss": 0.20107297599315643
         },
         {
          "dataset": "sim",
          "gt_loss": 0.012124491389840841,
          "loss": "mse",
          "method": "autoencoder",
          "param_range": 16,
          "re_loss": 0.1939006745815277,
          "ss_loss": 0.2008724957704544
         },
         {
          "dataset": "sim",
          "gt_loss": 0.011814725585281849,
          "loss": "mse",
          "method": "autoencoder",
          "param_range": 24,
          "re_loss": 0.1922561451792717,
          "ss_loss": 0.20053789764642715
         },
         {
          "dataset": "sim",
          "gt_loss": 0.011956397444009781,
          "loss": "mse",
          "method": "autoencoder",
          "param_range": 32,
          "re_loss": 0.19138459116220474,
          "ss_loss": 0.20073841512203217
         },
         {
          "dataset": "sim",
          "gt_loss": 0.011738527100533247,
          "loss": "mse",
          "method": "autoencoder",
          "param_range": 48,
          "re_loss": 0.18941129744052887,
          "ss_loss": 0.20054665952920914
         },
         {
          "dataset": "sim",
          "gt_loss": 0.01205611927434802,
          "loss": "mse",
          "method": "autoencoder",
          "param_range": 64,
          "re_loss": 0.1887529045343399,
          "ss_loss": 0.20084147155284882
         },
         {
          "dataset": "sim",
          "gt_loss": 0.012178660836070776,
          "loss": "mse",
          "method": "autoencoder",
          "param_range": 96,
          "re_loss": 0.18757572770118713,
          "ss_loss": 0.20098796486854553
         },
         {
          "dataset": "sim",
          "gt_loss": 0.012353372760117054,
          "loss": "mse",
          "method": "autoencoder",
          "param_range": 128,
          "re_loss": 0.1867021545767784,
          "ss_loss": 0.2011125683784485
         }
        ],
        "data-797075d37a10bc6affb98bbfdae9fefd": [
         {
          "dataset": "sim",
          "gt_loss": 0.017261702847148,
          "loss": "mse",
          "method": "pca",
          "normalization": "sqrt",
          "param_range": 1,
          "re_loss": 0.20532057308728724,
          "ss_loss": 0.20629028370079047
         },
         {
          "dataset": "sim",
          "gt_loss": 0.013903617575484025,
          "loss": "mse",
          "method": "pca",
          "normalization": "sqrt",
          "param_range": 2,
          "re_loss": 0.2011233213810914,
          "ss_loss": 0.20296441996534256
         },
         {
          "dataset": "sim",
          "gt_loss": 0.011046128848842006,
          "loss": "mse",
          "method": "pca",
          "normalization": "sqrt",
          "param_range": 3,
          "re_loss": 0.19740414556015912,
          "ss_loss": 0.2000900878696177
         },
         {
          "dataset": "sim",
          "gt_loss": 0.009015814810207502,
          "loss": "mse",
          "method": "pca",
          "normalization": "sqrt",
          "param_range": 4,
          "re_loss": 0.1944601596560629,
          "ss_loss": 0.19809876853368327
         },
         {
          "dataset": "sim",
          "gt_loss": 0.007535298669745413,
          "loss": "mse",
          "method": "pca",
          "normalization": "sqrt",
          "param_range": 5,
          "re_loss": 0.19201649141455768,
          "ss_loss": 0.19664804192596658
         },
         {
          "dataset": "sim",
          "gt_loss": 0.006769080120089458,
          "loss": "mse",
          "method": "pca",
          "normalization": "sqrt",
          "param_range": 6,
          "re_loss": 0.19033053651561255,
          "ss_loss": 0.19588122875294506
         },
         {
          "dataset": "sim",
          "gt_loss": 0.00627011477350366,
          "loss": "mse",
          "method": "pca",
          "normalization": "sqrt",
          "param_range": 7,
          "re_loss": 0.18889370159265115,
          "ss_loss": 0.19540034060446898
         },
         {
          "dataset": "sim",
          "gt_loss": 0.005779398739309634,
          "loss": "mse",
          "method": "pca",
          "normalization": "sqrt",
          "param_range": 8,
          "re_loss": 0.18749190824416437,
          "ss_loss": 0.19491560886838286
         },
         {
          "dataset": "sim",
          "gt_loss": 0.005471492887235518,
          "loss": "mse",
          "method": "pca",
          "normalization": "sqrt",
          "param_range": 9,
          "re_loss": 0.18624607884964495,
          "ss_loss": 0.19457641488392327
         },
         {
          "dataset": "sim",
          "gt_loss": 0.006120078269290668,
          "loss": "mse",
          "method": "pca",
          "normalization": "sqrt",
          "param_range": 10,
          "re_loss": 0.1855307921525535,
          "ss_loss": 0.19524932112863266
         },
         {
          "dataset": "sim",
          "gt_loss": 0.006780063185175826,
          "loss": "mse",
          "method": "pca",
          "normalization": "sqrt",
          "param_range": 11,
          "re_loss": 0.18482106752669067,
          "ss_loss": 0.19592773164157629
         },
         {
          "dataset": "sim",
          "gt_loss": 0.007413645810195049,
          "loss": "mse",
          "method": "pca",
          "normalization": "sqrt",
          "param_range": 12,
          "re_loss": 0.18412177451353676,
          "ss_loss": 0.19655866453235515
         },
         {
          "dataset": "sim",
          "gt_loss": 0.008044212043478058,
          "loss": "mse",
          "method": "pca",
          "normalization": "sqrt",
          "param_range": 13,
          "re_loss": 0.18343255684899767,
          "ss_loss": 0.1972062784189094
         },
         {
          "dataset": "sim",
          "gt_loss": 0.008703871653174218,
          "loss": "mse",
          "method": "pca",
          "normalization": "sqrt",
          "param_range": 14,
          "re_loss": 0.18275014827607783,
          "ss_loss": 0.19784841151336324
         },
         {
          "dataset": "sim",
          "gt_loss": 0.009331373598138447,
          "loss": "mse",
          "method": "pca",
          "normalization": "sqrt",
          "param_range": 15,
          "re_loss": 0.1820712281110664,
          "ss_loss": 0.19847366963334975
         },
         {
          "dataset": "sim",
          "gt_loss": 0.009990727023035665,
          "loss": "mse",
          "method": "pca",
          "normalization": "sqrt",
          "param_range": 16,
          "re_loss": 0.18139687581191785,
          "ss_loss": 0.19913238688800916
         },
         {
          "dataset": "sim",
          "gt_loss": 0.010641675469791627,
          "loss": "mse",
          "method": "pca",
          "normalization": "sqrt",
          "param_range": 17,
          "re_loss": 0.18072797911708863,
          "ss_loss": 0.1997880104930239
         },
         {
          "dataset": "sim",
          "gt_loss": 0.011276718450187243,
          "loss": "mse",
          "method": "pca",
          "normalization": "sqrt",
          "param_range": 18,
          "re_loss": 0.1800658756482809,
          "ss_loss": 0.20041684404580148
         },
         {
          "dataset": "sim",
          "gt_loss": 0.011897217814446564,
          "loss": "mse",
          "method": "pca",
          "normalization": "sqrt",
          "param_range": 19,
          "re_loss": 0.17940594013158617,
          "ss_loss": 0.20101942092937025
         }
        ],
        "data-997b7b678c27414fbdfef9ff092f6b96": [
         {
          "dataset": "sim",
          "gt_loss": 0.0291339820640836,
          "loss": "mse",
          "method": "diffusion",
          "normalization": "sqrt",
          "param_range": 1,
          "re_loss": 0.09204780132640876,
          "ss_loss": 0.218035435915966
         },
         {
          "dataset": "sim",
          "gt_loss": 0.011179179812520802,
          "loss": "mse",
          "method": "diffusion",
          "normalization": "sqrt",
          "param_range": 2,
          "re_loss": 0.145747535237506,
          "ss_loss": 0.1999381988866706
         },
         {
          "dataset": "sim",
          "gt_loss": 0.0078054514162456965,
          "loss": "mse",
          "method": "diffusion",
          "normalization": "sqrt",
          "param_range": 3,
          "re_loss": 0.16913691249893492,
          "ss_loss": 0.19652259187678442
         },
         {
          "dataset": "sim",
          "gt_loss": 0.007378266470301378,
          "loss": "mse",
          "method": "diffusion",
          "normalization": "sqrt",
          "param_range": 4,
          "re_loss": 0.1805860182891783,
          "ss_loss": 0.1960828698290077
         },
         {
          "dataset": "sim",
          "gt_loss": 0.007716993674141837,
          "loss": "mse",
          "method": "diffusion",
          "normalization": "sqrt",
          "param_range": 5,
          "re_loss": 0.18684526771144297,
          "ss_loss": 0.19641797105248132
         },
         {
          "dataset": "sim",
          "gt_loss": 0.008261888653885427,
          "loss": "mse",
          "method": "diffusion",
          "normalization": "sqrt",
          "param_range": 6,
          "re_loss": 0.1906029790265083,
          "ss_loss": 0.19696184821521026
         },
         {
          "dataset": "sim",
          "gt_loss": 0.008844949524747885,
          "loss": "mse",
          "method": "diffusion",
          "normalization": "sqrt",
          "param_range": 7,
          "re_loss": 0.193049191385169,
          "ss_loss": 0.19754447328742608
         },
         {
          "dataset": "sim",
          "gt_loss": 0.009412721049188546,
          "loss": "mse",
          "method": "diffusion",
          "normalization": "sqrt",
          "param_range": 8,
          "re_loss": 0.19475872312185197,
          "ss_loss": 0.19811175764983258
         },
         {
          "dataset": "sim",
          "gt_loss": 0.009949166819938496,
          "loss": "mse",
          "method": "diffusion",
          "normalization": "sqrt",
          "param_range": 9,
          "re_loss": 0.19602933378762952,
          "ss_loss": 0.19864750499779132
         },
         {
          "dataset": "sim",
          "gt_loss": 0.010451126608822506,
          "loss": "mse",
          "method": "diffusion",
          "normalization": "sqrt",
          "param_range": 10,
          "re_loss": 0.1970243066196924,
          "ss_loss": 0.19914855507751042
         },
         {
          "dataset": "sim",
          "gt_loss": 0.010919810948618613,
          "loss": "mse",
          "method": "diffusion",
          "normalization": "sqrt",
          "param_range": 11,
          "re_loss": 0.19783754923434885,
          "ss_loss": 0.199616166385973
         },
         {
          "dataset": "sim",
          "gt_loss": 0.01135771787230775,
          "loss": "mse",
          "method": "diffusion",
          "normalization": "sqrt",
          "param_range": 12,
          "re_loss": 0.19852532984529406,
          "ss_loss": 0.20005289254909808
         },
         {
          "dataset": "sim",
          "gt_loss": 0.011767515136275575,
          "loss": "mse",
          "method": "diffusion",
          "normalization": "sqrt",
          "param_range": 13,
          "re_loss": 0.19912261404154877,
          "ss_loss": 0.20046145073456453
         },
         {
          "dataset": "sim",
          "gt_loss": 0.012151664071395432,
          "loss": "mse",
          "method": "diffusion",
          "normalization": "sqrt",
          "param_range": 14,
          "re_loss": 0.19965186838240573,
          "ss_loss": 0.2008443417879179
         }
        ]
       },
       "vconcat": [
        {
         "hconcat": [
          {
           "data": {
            "name": "data-797075d37a10bc6affb98bbfdae9fefd"
           },
           "encoding": {
            "x": {
             "field": "param_range",
             "title": null,
             "type": "quantitative"
            },
            "y": {
             "field": "re_loss",
             "scale": {
              "domain": [
               0.075,
               0.225
              ],
              "nice": false
             },
             "title": null,
             "type": "quantitative"
            }
           },
           "height": 160,
           "mark": "line",
           "width": 200
          },
          {
           "data": {
            "name": "data-997b7b678c27414fbdfef9ff092f6b96"
           },
           "encoding": {
            "x": {
             "field": "param_range",
             "title": null,
             "type": "nominal"
            },
            "y": {
             "field": "re_loss",
             "scale": {
              "domain": [
               0.075,
               0.225
              ],
              "nice": false
             },
             "title": null,
             "type": "quantitative"
            }
           },
           "height": 160,
           "mark": "line",
           "width": 200
          },
          {
           "data": {
            "name": "data-61b9bfb8e97f7a3c3290534f50cbc5e8"
           },
           "encoding": {
            "x": {
             "field": "param_range",
             "title": null,
             "type": "nominal"
            },
            "y": {
             "field": "re_loss",
             "scale": {
              "domain": [
               0.075,
               0.225
              ],
              "nice": false
             },
             "title": null,
             "type": "quantitative"
            }
           },
           "height": 160,
           "mark": "line",
           "width": 200
          }
         ],
         "resolve": {
          "scale": {
           "x": "independent",
           "y": "shared"
          }
         }
        },
        {
         "hconcat": [
          {
           "data": {
            "name": "data-797075d37a10bc6affb98bbfdae9fefd"
           },
           "encoding": {
            "x": {
             "field": "param_range",
             "title": null,
             "type": "quantitative"
            },
            "y": {
             "field": "gt_loss",
             "scale": {
              "domain": [
               0,
               0.03
              ],
              "nice": false
             },
             "title": null,
             "type": "quantitative"
            }
           },
           "height": 160,
           "mark": "line",
           "width": 200
          },
          {
           "data": {
            "name": "data-997b7b678c27414fbdfef9ff092f6b96"
           },
           "encoding": {
            "x": {
             "field": "param_range",
             "title": null,
             "type": "nominal"
            },
            "y": {
             "field": "gt_loss",
             "scale": {
              "domain": [
               0,
               0.03
              ],
              "nice": false
             },
             "title": null,
             "type": "quantitative"
            }
           },
           "height": 160,
           "mark": "line",
           "width": 200
          },
          {
           "data": {
            "name": "data-61b9bfb8e97f7a3c3290534f50cbc5e8"
           },
           "encoding": {
            "x": {
             "field": "param_range",
             "title": null,
             "type": "nominal"
            },
            "y": {
             "field": "gt_loss",
             "scale": {
              "domain": [
               0,
               0.03
              ],
              "nice": false
             },
             "title": null,
             "type": "quantitative"
            }
           },
           "height": 160,
           "mark": "line",
           "width": 200
          }
         ],
         "resolve": {
          "scale": {
           "x": "independent",
           "y": "shared"
          }
         }
        },
        {
         "hconcat": [
          {
           "data": {
            "name": "data-797075d37a10bc6affb98bbfdae9fefd"
           },
           "encoding": {
            "x": {
             "field": "param_range",
             "title": null,
             "type": "quantitative"
            },
            "y": {
             "field": "ss_loss",
             "scale": {
              "domain": [
               0.19,
               0.22
              ],
              "nice": false
             },
             "title": null,
             "type": "quantitative"
            }
           },
           "height": 160,
           "mark": "line",
           "width": 200
          },
          {
           "data": {
            "name": "data-997b7b678c27414fbdfef9ff092f6b96"
           },
           "encoding": {
            "x": {
             "field": "param_range",
             "title": null,
             "type": "nominal"
            },
            "y": {
             "field": "ss_loss",
             "scale": {
              "domain": [
               0.19,
               0.22
              ],
              "nice": false
             },
             "title": null,
             "type": "quantitative"
            }
           },
           "height": 160,
           "mark": "line",
           "width": 200
          },
          {
           "data": {
            "name": "data-61b9bfb8e97f7a3c3290534f50cbc5e8"
           },
           "encoding": {
            "x": {
             "field": "param_range",
             "title": null,
             "type": "nominal"
            },
            "y": {
             "field": "ss_loss",
             "scale": {
              "domain": [
               0.19,
               0.22
              ],
              "nice": false
             },
             "title": null,
             "type": "quantitative"
            }
           },
           "height": 160,
           "mark": "line",
           "width": 200
          }
         ],
         "resolve": {
          "scale": {
           "x": "independent",
           "y": "shared"
          }
         }
        }
       ]
      },
      "image/png": "[encoded data removed]",
      "text/plain": [
       "<VegaLite 2 object>\n",
       "\n",
       "If you see this message, it means the renderer has not been properly enabled\n",
       "for the frontend that you are using. For more information, see\n",
       "https://altair-viz.github.io/user_guide/troubleshooting.html\n"
      ]
     },
     "execution_count": 31,
     "metadata": {},
     "output_type": "execute_result"
    }
   ],
   "source": [
    "\n",
    "cs = [\n",
    "    alt.Chart(df).properties(width=200, height=160).encode(x=alt.X(f'param_range:{t}', title=None))\n",
    "    for df,t in zip((pca_df, diffusion_df[diffusion_df['param_range'] > 0], autoencoder_df), 'QNN')\n",
    "]\n",
    "\n",
    "yscales = [\n",
    "    alt.Scale(domain=(0.075, 0.225), nice=False),\n",
    "    alt.Scale(domain=(0.0, 0.03), nice=False),\n",
    "    alt.Scale(domain=(0.19, 0.22), nice=False),\n",
    "]\n",
    "\n",
    "alt.vconcat(\n",
    "    *(\n",
    "        alt.hconcat(\n",
    "            *(\n",
    "                c.mark_line().encode(\n",
    "                    y=alt.Y(f'{y_var}:Q', title=None, scale=ys)\n",
    "                )\n",
    "                for c,t in zip(cs, 'QNN')\n",
    "            )\n",
    "        ).resolve_scale(\n",
    "            y='shared'\n",
    "        )\n",
    "        for y_var,ys in zip(('re_loss', 'gt_loss', 'ss_loss'), yscales)\n",
    "    )\n",
    "# ).resolve_scale(\n",
    "#     y='shared'\n",
    ").configure_axis(grid=False).properties(background='white')"
   ]
  },
  {
   "cell_type": "markdown",
   "metadata": {},
   "source": [
    "# Simulated"
   ]
  },
  {
   "cell_type": "code",
   "execution_count": null,
   "metadata": {},
   "outputs": [],
   "source": [
    "sim_pca_mse = results['sim_pca_mse']\n",
    "sim_diffusion_mse = results['sim_diffusion_mse']\n",
    "sim_autoencoder_mse = results['sim_autoencoder_mse']\n",
    "\n",
    "sim_diffusion_mse['param_min'] = 2\n",
    "sim_autoencoder_mse['param_max'] = -3\n",
    "\n",
    "plot_results([sim_pca_mse, sim_diffusion_mse, sim_autoencoder_mse])\n",
    "plt.savefig('figures/sim_mse.svg')"
   ]
  },
  {
   "cell_type": "markdown",
   "metadata": {},
   "source": [
    "# Poisson Loss"
   ]
  },
  {
   "cell_type": "code",
   "execution_count": null,
   "metadata": {},
   "outputs": [],
   "source": [
    "sim_diffusion_p = results['sim_diffusion_poisson']\n",
    "sim_autoencoder_p = results['sim_autoencoder_poisson']\n",
    "\n",
    "sim_diffusion_p['param_min'] = 2\n",
    "sim_autoencoder_p['param_max'] = -3\n",
    "\n",
    "plot_results([sim_diffusion_p, sim_autoencoder_p])\n",
    "plt.savefig('figures/sim_poisson.svg')"
   ]
  },
  {
   "cell_type": "code",
   "execution_count": null,
   "metadata": {},
   "outputs": [],
   "source": []
  }
 ],
 "metadata": {
  "kernelspec": {
   "display_name": "Python 3",
   "language": "python",
   "name": "python3"
  },
  "language_info": {
   "codemirror_mode": {
    "name": "ipython",
    "version": 3
   },
   "file_extension": ".py",
   "mimetype": "text/x-python",
   "name": "python",
   "nbconvert_exporter": "python",
   "pygments_lexer": "ipython3",
   "version": "3.7.1"
  }
 },
 "nbformat": 4,
 "nbformat_minor": 2
}
